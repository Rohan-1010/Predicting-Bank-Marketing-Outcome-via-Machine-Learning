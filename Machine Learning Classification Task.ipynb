{
 "cells": [
  {
   "cell_type": "markdown",
   "metadata": {},
   "source": [
    "# Dataset Description\n",
    "\n",
    "Abstract: The data is related with direct marketing campaigns (phone calls) of a Portuguese banking institution. The classification goal is to predict if the client will subscribe a term deposit (variable y).\n",
    "\n",
    "    Dataset Characteristics: Multivariate\n",
    "    Attribute Characteristics: Categorical, Integer\n",
    "    Task: Classification\n",
    "    Number of Instances: 45211\n",
    "    Number of Attributes: 17\n",
    "    Area: Business\n",
    "\n",
    "Source: https://archive.ics.uci.edu/ml/datasets/Bank+Marketing\n",
    "\n",
    "#### Dataset Information\n",
    "\n",
    "The data is related with direct marketing campaigns of a Portuguese banking institution. The marketing campaigns were based on phone calls. Often, more than one contact to the same client was required, in order to access if the product (bank term deposit) would be ('yes') or not ('no') subscribed.\n",
    "\n",
    "bank-additional-full.csv with all examples (41188) and 20 inputs, ordered by date (from May 2008 to November 2010)\n",
    "\n",
    "The classification goal is to predict if the client will subscribe (yes/no) a term deposit (variable y).\n",
    "\n",
    "## Attribute Information:\n",
    "\n",
    "### Input variables:\n",
    "\n",
    "#### Bank Client Data:\n",
    "\n",
    "    1 - age (numeric)\n",
    "    2 - job : type of job (categorical: 'admin.','blue-collar','entrepreneur','housemaid','management','retired','self-employed','services','student','technician','unemployed','unknown')\n",
    "    3 - marital : marital status (categorical: 'divorced','married','single','unknown'; note: 'divorced' means divorced or widowed)\n",
    "    4 - education (categorical: 'basic.4y','basic.6y','basic.9y','high.school','illiterate','professional.course','university.degree','unknown')\n",
    "    5 - default: has credit in default? (categorical: 'no','yes','unknown')\n",
    "    6 - housing: has housing loan? (categorical: 'no','yes','unknown')\n",
    "    7 - loan: has personal loan? (categorical: 'no','yes','unknown')\n",
    "    \n",
    "#### Related with the Last Contact of the Current Campaign:\n",
    "\n",
    "    8 - contact: contact communication type (categorical: 'cellular','telephone')\n",
    "    9 - month: last contact month of year (categorical: 'jan', 'feb', 'mar', ..., 'nov', 'dec')\n",
    "    10 - day_of_week: last contact day of the week (categorical: 'mon','tue','wed','thu','fri')\n",
    "    11 - duration: last contact duration, in seconds (numeric).\n",
    "    \n",
    "#### Other Attributes:\n",
    "\n",
    "    12 - campaign: number of contacts performed during this campaign and for this client (numeric, includes last contact)\n",
    "    13 - pdays: number of days that passed by after the client was last contacted from a previous campaign (numeric; 999 means client was not previously contacted)\n",
    "    14 - previous: number of contacts performed before this campaign and for this client (numeric)\n",
    "    15 - poutcome: outcome of the previous marketing campaign (categorical: 'failure','nonexistent','success')\n",
    "    \n",
    "#### Social and Economic Context Attributes:\n",
    "\n",
    "    16 - emp.var.rate: employment variation rate - quarterly indicator (numeric)\n",
    "    17 - cons.price.idx: consumer price index - monthly indicator (numeric)\n",
    "    18 - cons.conf.idx: consumer confidence index - monthly indicator (numeric)\n",
    "    19 - euribor3m: euribor 3 month rate - daily indicator (numeric)\n",
    "    20 - nr.employed: number of employees - quarterly indicator (numeric)\n",
    "\n",
    "### Output Variable (Desired Target):\n",
    "\n",
    "    21 - y - has the client subscribed a term deposit? (binary: 'yes','no')\n",
    "\n"
   ]
  },
  {
   "cell_type": "code",
   "execution_count": 1,
   "metadata": {},
   "outputs": [],
   "source": [
    "from IPython.core.interactiveshell import InteractiveShell\n",
    "InteractiveShell.ast_node_interactivity = \"all\""
   ]
  },
  {
   "cell_type": "code",
   "execution_count": 2,
   "metadata": {},
   "outputs": [],
   "source": [
    "# Importing the Libraries\n",
    "\n",
    "import pandas as pd\n",
    "import numpy as np\n",
    "import matplotlib.pyplot as plt\n",
    "import seaborn as sns\n",
    "from sklearn.model_selection import train_test_split\n",
    "from sklearn.preprocessing import MinMaxScaler\n",
    "from sklearn.model_selection import GridSearchCV\n",
    "from sklearn.neighbors import KNeighborsClassifier\n",
    "from sklearn.metrics import classification_report\n",
    "from sklearn.linear_model import LogisticRegression\n",
    "from sklearn.metrics import recall_score, precision_score, roc_auc_score, confusion_matrix\n",
    "from sklearn.metrics import roc_curve\n",
    "from sklearn.svm import SVC, LinearSVC\n",
    "from sklearn.tree import DecisionTreeClassifier"
   ]
  },
  {
   "cell_type": "code",
   "execution_count": 3,
   "metadata": {},
   "outputs": [],
   "source": [
    "# Ignore Warnings\n",
    "\n",
    "import warnings\n",
    "from sklearn.exceptions import DataConversionWarning\n",
    "warnings.filterwarnings(action='ignore', category=DataConversionWarning)\n",
    "\n",
    "from sklearn.exceptions import ConvergenceWarning\n",
    "warnings.filterwarnings(action='ignore', category=ConvergenceWarning)"
   ]
  },
  {
   "cell_type": "code",
   "execution_count": 4,
   "metadata": {},
   "outputs": [],
   "source": [
    "# Importing the classification dataset \n",
    "\n",
    "bank = pd.read_csv('bank-additional-full.csv', sep = ';')"
   ]
  },
  {
   "cell_type": "code",
   "execution_count": 5,
   "metadata": {},
   "outputs": [
    {
     "data": {
      "text/html": [
       "<div>\n",
       "<style scoped>\n",
       "    .dataframe tbody tr th:only-of-type {\n",
       "        vertical-align: middle;\n",
       "    }\n",
       "\n",
       "    .dataframe tbody tr th {\n",
       "        vertical-align: top;\n",
       "    }\n",
       "\n",
       "    .dataframe thead th {\n",
       "        text-align: right;\n",
       "    }\n",
       "</style>\n",
       "<table border=\"1\" class=\"dataframe\">\n",
       "  <thead>\n",
       "    <tr style=\"text-align: right;\">\n",
       "      <th></th>\n",
       "      <th>age</th>\n",
       "      <th>job</th>\n",
       "      <th>marital</th>\n",
       "      <th>education</th>\n",
       "      <th>default</th>\n",
       "      <th>housing</th>\n",
       "      <th>loan</th>\n",
       "      <th>contact</th>\n",
       "      <th>month</th>\n",
       "      <th>day_of_week</th>\n",
       "      <th>...</th>\n",
       "      <th>campaign</th>\n",
       "      <th>pdays</th>\n",
       "      <th>previous</th>\n",
       "      <th>poutcome</th>\n",
       "      <th>emp.var.rate</th>\n",
       "      <th>cons.price.idx</th>\n",
       "      <th>cons.conf.idx</th>\n",
       "      <th>euribor3m</th>\n",
       "      <th>nr.employed</th>\n",
       "      <th>y</th>\n",
       "    </tr>\n",
       "  </thead>\n",
       "  <tbody>\n",
       "    <tr>\n",
       "      <th>0</th>\n",
       "      <td>56</td>\n",
       "      <td>housemaid</td>\n",
       "      <td>married</td>\n",
       "      <td>basic.4y</td>\n",
       "      <td>no</td>\n",
       "      <td>no</td>\n",
       "      <td>no</td>\n",
       "      <td>telephone</td>\n",
       "      <td>may</td>\n",
       "      <td>mon</td>\n",
       "      <td>...</td>\n",
       "      <td>1</td>\n",
       "      <td>999</td>\n",
       "      <td>0</td>\n",
       "      <td>nonexistent</td>\n",
       "      <td>1.1</td>\n",
       "      <td>93.994</td>\n",
       "      <td>-36.4</td>\n",
       "      <td>4.857</td>\n",
       "      <td>5191.0</td>\n",
       "      <td>no</td>\n",
       "    </tr>\n",
       "    <tr>\n",
       "      <th>1</th>\n",
       "      <td>57</td>\n",
       "      <td>services</td>\n",
       "      <td>married</td>\n",
       "      <td>high.school</td>\n",
       "      <td>unknown</td>\n",
       "      <td>no</td>\n",
       "      <td>no</td>\n",
       "      <td>telephone</td>\n",
       "      <td>may</td>\n",
       "      <td>mon</td>\n",
       "      <td>...</td>\n",
       "      <td>1</td>\n",
       "      <td>999</td>\n",
       "      <td>0</td>\n",
       "      <td>nonexistent</td>\n",
       "      <td>1.1</td>\n",
       "      <td>93.994</td>\n",
       "      <td>-36.4</td>\n",
       "      <td>4.857</td>\n",
       "      <td>5191.0</td>\n",
       "      <td>no</td>\n",
       "    </tr>\n",
       "    <tr>\n",
       "      <th>2</th>\n",
       "      <td>37</td>\n",
       "      <td>services</td>\n",
       "      <td>married</td>\n",
       "      <td>high.school</td>\n",
       "      <td>no</td>\n",
       "      <td>yes</td>\n",
       "      <td>no</td>\n",
       "      <td>telephone</td>\n",
       "      <td>may</td>\n",
       "      <td>mon</td>\n",
       "      <td>...</td>\n",
       "      <td>1</td>\n",
       "      <td>999</td>\n",
       "      <td>0</td>\n",
       "      <td>nonexistent</td>\n",
       "      <td>1.1</td>\n",
       "      <td>93.994</td>\n",
       "      <td>-36.4</td>\n",
       "      <td>4.857</td>\n",
       "      <td>5191.0</td>\n",
       "      <td>no</td>\n",
       "    </tr>\n",
       "    <tr>\n",
       "      <th>3</th>\n",
       "      <td>40</td>\n",
       "      <td>admin.</td>\n",
       "      <td>married</td>\n",
       "      <td>basic.6y</td>\n",
       "      <td>no</td>\n",
       "      <td>no</td>\n",
       "      <td>no</td>\n",
       "      <td>telephone</td>\n",
       "      <td>may</td>\n",
       "      <td>mon</td>\n",
       "      <td>...</td>\n",
       "      <td>1</td>\n",
       "      <td>999</td>\n",
       "      <td>0</td>\n",
       "      <td>nonexistent</td>\n",
       "      <td>1.1</td>\n",
       "      <td>93.994</td>\n",
       "      <td>-36.4</td>\n",
       "      <td>4.857</td>\n",
       "      <td>5191.0</td>\n",
       "      <td>no</td>\n",
       "    </tr>\n",
       "    <tr>\n",
       "      <th>4</th>\n",
       "      <td>56</td>\n",
       "      <td>services</td>\n",
       "      <td>married</td>\n",
       "      <td>high.school</td>\n",
       "      <td>no</td>\n",
       "      <td>no</td>\n",
       "      <td>yes</td>\n",
       "      <td>telephone</td>\n",
       "      <td>may</td>\n",
       "      <td>mon</td>\n",
       "      <td>...</td>\n",
       "      <td>1</td>\n",
       "      <td>999</td>\n",
       "      <td>0</td>\n",
       "      <td>nonexistent</td>\n",
       "      <td>1.1</td>\n",
       "      <td>93.994</td>\n",
       "      <td>-36.4</td>\n",
       "      <td>4.857</td>\n",
       "      <td>5191.0</td>\n",
       "      <td>no</td>\n",
       "    </tr>\n",
       "    <tr>\n",
       "      <th>5</th>\n",
       "      <td>45</td>\n",
       "      <td>services</td>\n",
       "      <td>married</td>\n",
       "      <td>basic.9y</td>\n",
       "      <td>unknown</td>\n",
       "      <td>no</td>\n",
       "      <td>no</td>\n",
       "      <td>telephone</td>\n",
       "      <td>may</td>\n",
       "      <td>mon</td>\n",
       "      <td>...</td>\n",
       "      <td>1</td>\n",
       "      <td>999</td>\n",
       "      <td>0</td>\n",
       "      <td>nonexistent</td>\n",
       "      <td>1.1</td>\n",
       "      <td>93.994</td>\n",
       "      <td>-36.4</td>\n",
       "      <td>4.857</td>\n",
       "      <td>5191.0</td>\n",
       "      <td>no</td>\n",
       "    </tr>\n",
       "    <tr>\n",
       "      <th>6</th>\n",
       "      <td>59</td>\n",
       "      <td>admin.</td>\n",
       "      <td>married</td>\n",
       "      <td>professional.course</td>\n",
       "      <td>no</td>\n",
       "      <td>no</td>\n",
       "      <td>no</td>\n",
       "      <td>telephone</td>\n",
       "      <td>may</td>\n",
       "      <td>mon</td>\n",
       "      <td>...</td>\n",
       "      <td>1</td>\n",
       "      <td>999</td>\n",
       "      <td>0</td>\n",
       "      <td>nonexistent</td>\n",
       "      <td>1.1</td>\n",
       "      <td>93.994</td>\n",
       "      <td>-36.4</td>\n",
       "      <td>4.857</td>\n",
       "      <td>5191.0</td>\n",
       "      <td>no</td>\n",
       "    </tr>\n",
       "    <tr>\n",
       "      <th>7</th>\n",
       "      <td>41</td>\n",
       "      <td>blue-collar</td>\n",
       "      <td>married</td>\n",
       "      <td>unknown</td>\n",
       "      <td>unknown</td>\n",
       "      <td>no</td>\n",
       "      <td>no</td>\n",
       "      <td>telephone</td>\n",
       "      <td>may</td>\n",
       "      <td>mon</td>\n",
       "      <td>...</td>\n",
       "      <td>1</td>\n",
       "      <td>999</td>\n",
       "      <td>0</td>\n",
       "      <td>nonexistent</td>\n",
       "      <td>1.1</td>\n",
       "      <td>93.994</td>\n",
       "      <td>-36.4</td>\n",
       "      <td>4.857</td>\n",
       "      <td>5191.0</td>\n",
       "      <td>no</td>\n",
       "    </tr>\n",
       "    <tr>\n",
       "      <th>8</th>\n",
       "      <td>24</td>\n",
       "      <td>technician</td>\n",
       "      <td>single</td>\n",
       "      <td>professional.course</td>\n",
       "      <td>no</td>\n",
       "      <td>yes</td>\n",
       "      <td>no</td>\n",
       "      <td>telephone</td>\n",
       "      <td>may</td>\n",
       "      <td>mon</td>\n",
       "      <td>...</td>\n",
       "      <td>1</td>\n",
       "      <td>999</td>\n",
       "      <td>0</td>\n",
       "      <td>nonexistent</td>\n",
       "      <td>1.1</td>\n",
       "      <td>93.994</td>\n",
       "      <td>-36.4</td>\n",
       "      <td>4.857</td>\n",
       "      <td>5191.0</td>\n",
       "      <td>no</td>\n",
       "    </tr>\n",
       "    <tr>\n",
       "      <th>9</th>\n",
       "      <td>25</td>\n",
       "      <td>services</td>\n",
       "      <td>single</td>\n",
       "      <td>high.school</td>\n",
       "      <td>no</td>\n",
       "      <td>yes</td>\n",
       "      <td>no</td>\n",
       "      <td>telephone</td>\n",
       "      <td>may</td>\n",
       "      <td>mon</td>\n",
       "      <td>...</td>\n",
       "      <td>1</td>\n",
       "      <td>999</td>\n",
       "      <td>0</td>\n",
       "      <td>nonexistent</td>\n",
       "      <td>1.1</td>\n",
       "      <td>93.994</td>\n",
       "      <td>-36.4</td>\n",
       "      <td>4.857</td>\n",
       "      <td>5191.0</td>\n",
       "      <td>no</td>\n",
       "    </tr>\n",
       "  </tbody>\n",
       "</table>\n",
       "<p>10 rows × 21 columns</p>\n",
       "</div>"
      ],
      "text/plain": [
       "   age          job  marital            education  default housing loan  \\\n",
       "0   56    housemaid  married             basic.4y       no      no   no   \n",
       "1   57     services  married          high.school  unknown      no   no   \n",
       "2   37     services  married          high.school       no     yes   no   \n",
       "3   40       admin.  married             basic.6y       no      no   no   \n",
       "4   56     services  married          high.school       no      no  yes   \n",
       "5   45     services  married             basic.9y  unknown      no   no   \n",
       "6   59       admin.  married  professional.course       no      no   no   \n",
       "7   41  blue-collar  married              unknown  unknown      no   no   \n",
       "8   24   technician   single  professional.course       no     yes   no   \n",
       "9   25     services   single          high.school       no     yes   no   \n",
       "\n",
       "     contact month day_of_week  ...  campaign  pdays  previous     poutcome  \\\n",
       "0  telephone   may         mon  ...         1    999         0  nonexistent   \n",
       "1  telephone   may         mon  ...         1    999         0  nonexistent   \n",
       "2  telephone   may         mon  ...         1    999         0  nonexistent   \n",
       "3  telephone   may         mon  ...         1    999         0  nonexistent   \n",
       "4  telephone   may         mon  ...         1    999         0  nonexistent   \n",
       "5  telephone   may         mon  ...         1    999         0  nonexistent   \n",
       "6  telephone   may         mon  ...         1    999         0  nonexistent   \n",
       "7  telephone   may         mon  ...         1    999         0  nonexistent   \n",
       "8  telephone   may         mon  ...         1    999         0  nonexistent   \n",
       "9  telephone   may         mon  ...         1    999         0  nonexistent   \n",
       "\n",
       "  emp.var.rate  cons.price.idx  cons.conf.idx  euribor3m  nr.employed   y  \n",
       "0          1.1          93.994          -36.4      4.857       5191.0  no  \n",
       "1          1.1          93.994          -36.4      4.857       5191.0  no  \n",
       "2          1.1          93.994          -36.4      4.857       5191.0  no  \n",
       "3          1.1          93.994          -36.4      4.857       5191.0  no  \n",
       "4          1.1          93.994          -36.4      4.857       5191.0  no  \n",
       "5          1.1          93.994          -36.4      4.857       5191.0  no  \n",
       "6          1.1          93.994          -36.4      4.857       5191.0  no  \n",
       "7          1.1          93.994          -36.4      4.857       5191.0  no  \n",
       "8          1.1          93.994          -36.4      4.857       5191.0  no  \n",
       "9          1.1          93.994          -36.4      4.857       5191.0  no  \n",
       "\n",
       "[10 rows x 21 columns]"
      ]
     },
     "execution_count": 5,
     "metadata": {},
     "output_type": "execute_result"
    }
   ],
   "source": [
    "# Data exploration \n",
    "\n",
    "bank.head(10)"
   ]
  },
  {
   "cell_type": "code",
   "execution_count": 6,
   "metadata": {},
   "outputs": [
    {
     "data": {
      "text/plain": [
       "27"
      ]
     },
     "execution_count": 6,
     "metadata": {},
     "output_type": "execute_result"
    },
    {
     "data": {
      "text/plain": [
       "0.9632174419733903"
      ]
     },
     "execution_count": 6,
     "metadata": {},
     "output_type": "execute_result"
    }
   ],
   "source": [
    "len(bank.loc[:, 'pdays'].unique())\n",
    "((bank['pdays'] == 999).sum())/len(bank['pdays'])"
   ]
  },
  {
   "cell_type": "code",
   "execution_count": 7,
   "metadata": {},
   "outputs": [
    {
     "name": "stdout",
     "output_type": "stream",
     "text": [
      "<class 'pandas.core.frame.DataFrame'>\n",
      "RangeIndex: 41188 entries, 0 to 41187\n",
      "Data columns (total 21 columns):\n",
      "age               41188 non-null int64\n",
      "job               41188 non-null object\n",
      "marital           41188 non-null object\n",
      "education         41188 non-null object\n",
      "default           41188 non-null object\n",
      "housing           41188 non-null object\n",
      "loan              41188 non-null object\n",
      "contact           41188 non-null object\n",
      "month             41188 non-null object\n",
      "day_of_week       41188 non-null object\n",
      "duration          41188 non-null int64\n",
      "campaign          41188 non-null int64\n",
      "pdays             41188 non-null int64\n",
      "previous          41188 non-null int64\n",
      "poutcome          41188 non-null object\n",
      "emp.var.rate      41188 non-null float64\n",
      "cons.price.idx    41188 non-null float64\n",
      "cons.conf.idx     41188 non-null float64\n",
      "euribor3m         41188 non-null float64\n",
      "nr.employed       41188 non-null float64\n",
      "y                 41188 non-null object\n",
      "dtypes: float64(5), int64(5), object(11)\n",
      "memory usage: 6.6+ MB\n"
     ]
    }
   ],
   "source": [
    "# Checking the data type of each column\n",
    "\n",
    "bank.info()"
   ]
  },
  {
   "cell_type": "code",
   "execution_count": 8,
   "metadata": {},
   "outputs": [
    {
     "data": {
      "text/plain": [
       "(41188, 21)"
      ]
     },
     "execution_count": 8,
     "metadata": {},
     "output_type": "execute_result"
    }
   ],
   "source": [
    "bank.shape"
   ]
  },
  {
   "cell_type": "code",
   "execution_count": 9,
   "metadata": {},
   "outputs": [
    {
     "data": {
      "text/plain": [
       "age               False\n",
       "job               False\n",
       "marital           False\n",
       "education         False\n",
       "default           False\n",
       "housing           False\n",
       "loan              False\n",
       "contact           False\n",
       "month             False\n",
       "day_of_week       False\n",
       "duration          False\n",
       "campaign          False\n",
       "pdays             False\n",
       "previous          False\n",
       "poutcome          False\n",
       "emp.var.rate      False\n",
       "cons.price.idx    False\n",
       "cons.conf.idx     False\n",
       "euribor3m         False\n",
       "nr.employed       False\n",
       "y                 False\n",
       "dtype: bool"
      ]
     },
     "execution_count": 9,
     "metadata": {},
     "output_type": "execute_result"
    },
    {
     "data": {
      "text/plain": [
       "age               0\n",
       "job               0\n",
       "marital           0\n",
       "education         0\n",
       "default           0\n",
       "housing           0\n",
       "loan              0\n",
       "contact           0\n",
       "month             0\n",
       "day_of_week       0\n",
       "duration          0\n",
       "campaign          0\n",
       "pdays             0\n",
       "previous          0\n",
       "poutcome          0\n",
       "emp.var.rate      0\n",
       "cons.price.idx    0\n",
       "cons.conf.idx     0\n",
       "euribor3m         0\n",
       "nr.employed       0\n",
       "y                 0\n",
       "dtype: int64"
      ]
     },
     "execution_count": 9,
     "metadata": {},
     "output_type": "execute_result"
    }
   ],
   "source": [
    "# Checking for null values \n",
    "\n",
    "bank.isnull().any()\n",
    "bank.isnull().sum()"
   ]
  },
  {
   "cell_type": "code",
   "execution_count": 10,
   "metadata": {},
   "outputs": [
    {
     "data": {
      "text/html": [
       "<div>\n",
       "<style scoped>\n",
       "    .dataframe tbody tr th:only-of-type {\n",
       "        vertical-align: middle;\n",
       "    }\n",
       "\n",
       "    .dataframe tbody tr th {\n",
       "        vertical-align: top;\n",
       "    }\n",
       "\n",
       "    .dataframe thead th {\n",
       "        text-align: right;\n",
       "    }\n",
       "</style>\n",
       "<table border=\"1\" class=\"dataframe\">\n",
       "  <thead>\n",
       "    <tr style=\"text-align: right;\">\n",
       "      <th></th>\n",
       "      <th>age</th>\n",
       "      <th>duration</th>\n",
       "      <th>campaign</th>\n",
       "      <th>pdays</th>\n",
       "      <th>previous</th>\n",
       "      <th>emp.var.rate</th>\n",
       "      <th>cons.price.idx</th>\n",
       "      <th>cons.conf.idx</th>\n",
       "      <th>euribor3m</th>\n",
       "      <th>nr.employed</th>\n",
       "    </tr>\n",
       "  </thead>\n",
       "  <tbody>\n",
       "    <tr>\n",
       "      <th>count</th>\n",
       "      <td>41188.00000</td>\n",
       "      <td>41188.000000</td>\n",
       "      <td>41188.000000</td>\n",
       "      <td>41188.000000</td>\n",
       "      <td>41188.000000</td>\n",
       "      <td>41188.000000</td>\n",
       "      <td>41188.000000</td>\n",
       "      <td>41188.000000</td>\n",
       "      <td>41188.000000</td>\n",
       "      <td>41188.000000</td>\n",
       "    </tr>\n",
       "    <tr>\n",
       "      <th>mean</th>\n",
       "      <td>40.02406</td>\n",
       "      <td>258.285010</td>\n",
       "      <td>2.567593</td>\n",
       "      <td>962.475454</td>\n",
       "      <td>0.172963</td>\n",
       "      <td>0.081886</td>\n",
       "      <td>93.575664</td>\n",
       "      <td>-40.502600</td>\n",
       "      <td>3.621291</td>\n",
       "      <td>5167.035911</td>\n",
       "    </tr>\n",
       "    <tr>\n",
       "      <th>std</th>\n",
       "      <td>10.42125</td>\n",
       "      <td>259.279249</td>\n",
       "      <td>2.770014</td>\n",
       "      <td>186.910907</td>\n",
       "      <td>0.494901</td>\n",
       "      <td>1.570960</td>\n",
       "      <td>0.578840</td>\n",
       "      <td>4.628198</td>\n",
       "      <td>1.734447</td>\n",
       "      <td>72.251528</td>\n",
       "    </tr>\n",
       "    <tr>\n",
       "      <th>min</th>\n",
       "      <td>17.00000</td>\n",
       "      <td>0.000000</td>\n",
       "      <td>1.000000</td>\n",
       "      <td>0.000000</td>\n",
       "      <td>0.000000</td>\n",
       "      <td>-3.400000</td>\n",
       "      <td>92.201000</td>\n",
       "      <td>-50.800000</td>\n",
       "      <td>0.634000</td>\n",
       "      <td>4963.600000</td>\n",
       "    </tr>\n",
       "    <tr>\n",
       "      <th>25%</th>\n",
       "      <td>32.00000</td>\n",
       "      <td>102.000000</td>\n",
       "      <td>1.000000</td>\n",
       "      <td>999.000000</td>\n",
       "      <td>0.000000</td>\n",
       "      <td>-1.800000</td>\n",
       "      <td>93.075000</td>\n",
       "      <td>-42.700000</td>\n",
       "      <td>1.344000</td>\n",
       "      <td>5099.100000</td>\n",
       "    </tr>\n",
       "    <tr>\n",
       "      <th>50%</th>\n",
       "      <td>38.00000</td>\n",
       "      <td>180.000000</td>\n",
       "      <td>2.000000</td>\n",
       "      <td>999.000000</td>\n",
       "      <td>0.000000</td>\n",
       "      <td>1.100000</td>\n",
       "      <td>93.749000</td>\n",
       "      <td>-41.800000</td>\n",
       "      <td>4.857000</td>\n",
       "      <td>5191.000000</td>\n",
       "    </tr>\n",
       "    <tr>\n",
       "      <th>75%</th>\n",
       "      <td>47.00000</td>\n",
       "      <td>319.000000</td>\n",
       "      <td>3.000000</td>\n",
       "      <td>999.000000</td>\n",
       "      <td>0.000000</td>\n",
       "      <td>1.400000</td>\n",
       "      <td>93.994000</td>\n",
       "      <td>-36.400000</td>\n",
       "      <td>4.961000</td>\n",
       "      <td>5228.100000</td>\n",
       "    </tr>\n",
       "    <tr>\n",
       "      <th>max</th>\n",
       "      <td>98.00000</td>\n",
       "      <td>4918.000000</td>\n",
       "      <td>56.000000</td>\n",
       "      <td>999.000000</td>\n",
       "      <td>7.000000</td>\n",
       "      <td>1.400000</td>\n",
       "      <td>94.767000</td>\n",
       "      <td>-26.900000</td>\n",
       "      <td>5.045000</td>\n",
       "      <td>5228.100000</td>\n",
       "    </tr>\n",
       "  </tbody>\n",
       "</table>\n",
       "</div>"
      ],
      "text/plain": [
       "               age      duration      campaign         pdays      previous  \\\n",
       "count  41188.00000  41188.000000  41188.000000  41188.000000  41188.000000   \n",
       "mean      40.02406    258.285010      2.567593    962.475454      0.172963   \n",
       "std       10.42125    259.279249      2.770014    186.910907      0.494901   \n",
       "min       17.00000      0.000000      1.000000      0.000000      0.000000   \n",
       "25%       32.00000    102.000000      1.000000    999.000000      0.000000   \n",
       "50%       38.00000    180.000000      2.000000    999.000000      0.000000   \n",
       "75%       47.00000    319.000000      3.000000    999.000000      0.000000   \n",
       "max       98.00000   4918.000000     56.000000    999.000000      7.000000   \n",
       "\n",
       "       emp.var.rate  cons.price.idx  cons.conf.idx     euribor3m   nr.employed  \n",
       "count  41188.000000    41188.000000   41188.000000  41188.000000  41188.000000  \n",
       "mean       0.081886       93.575664     -40.502600      3.621291   5167.035911  \n",
       "std        1.570960        0.578840       4.628198      1.734447     72.251528  \n",
       "min       -3.400000       92.201000     -50.800000      0.634000   4963.600000  \n",
       "25%       -1.800000       93.075000     -42.700000      1.344000   5099.100000  \n",
       "50%        1.100000       93.749000     -41.800000      4.857000   5191.000000  \n",
       "75%        1.400000       93.994000     -36.400000      4.961000   5228.100000  \n",
       "max        1.400000       94.767000     -26.900000      5.045000   5228.100000  "
      ]
     },
     "execution_count": 10,
     "metadata": {},
     "output_type": "execute_result"
    },
    {
     "data": {
      "text/html": [
       "<div>\n",
       "<style scoped>\n",
       "    .dataframe tbody tr th:only-of-type {\n",
       "        vertical-align: middle;\n",
       "    }\n",
       "\n",
       "    .dataframe tbody tr th {\n",
       "        vertical-align: top;\n",
       "    }\n",
       "\n",
       "    .dataframe thead th {\n",
       "        text-align: right;\n",
       "    }\n",
       "</style>\n",
       "<table border=\"1\" class=\"dataframe\">\n",
       "  <thead>\n",
       "    <tr style=\"text-align: right;\">\n",
       "      <th></th>\n",
       "      <th>job</th>\n",
       "      <th>marital</th>\n",
       "      <th>education</th>\n",
       "      <th>default</th>\n",
       "      <th>housing</th>\n",
       "      <th>loan</th>\n",
       "      <th>contact</th>\n",
       "      <th>month</th>\n",
       "      <th>day_of_week</th>\n",
       "      <th>poutcome</th>\n",
       "      <th>y</th>\n",
       "    </tr>\n",
       "  </thead>\n",
       "  <tbody>\n",
       "    <tr>\n",
       "      <th>count</th>\n",
       "      <td>41188</td>\n",
       "      <td>41188</td>\n",
       "      <td>41188</td>\n",
       "      <td>41188</td>\n",
       "      <td>41188</td>\n",
       "      <td>41188</td>\n",
       "      <td>41188</td>\n",
       "      <td>41188</td>\n",
       "      <td>41188</td>\n",
       "      <td>41188</td>\n",
       "      <td>41188</td>\n",
       "    </tr>\n",
       "    <tr>\n",
       "      <th>unique</th>\n",
       "      <td>12</td>\n",
       "      <td>4</td>\n",
       "      <td>8</td>\n",
       "      <td>3</td>\n",
       "      <td>3</td>\n",
       "      <td>3</td>\n",
       "      <td>2</td>\n",
       "      <td>10</td>\n",
       "      <td>5</td>\n",
       "      <td>3</td>\n",
       "      <td>2</td>\n",
       "    </tr>\n",
       "    <tr>\n",
       "      <th>top</th>\n",
       "      <td>admin.</td>\n",
       "      <td>married</td>\n",
       "      <td>university.degree</td>\n",
       "      <td>no</td>\n",
       "      <td>yes</td>\n",
       "      <td>no</td>\n",
       "      <td>cellular</td>\n",
       "      <td>may</td>\n",
       "      <td>thu</td>\n",
       "      <td>nonexistent</td>\n",
       "      <td>no</td>\n",
       "    </tr>\n",
       "    <tr>\n",
       "      <th>freq</th>\n",
       "      <td>10422</td>\n",
       "      <td>24928</td>\n",
       "      <td>12168</td>\n",
       "      <td>32588</td>\n",
       "      <td>21576</td>\n",
       "      <td>33950</td>\n",
       "      <td>26144</td>\n",
       "      <td>13769</td>\n",
       "      <td>8623</td>\n",
       "      <td>35563</td>\n",
       "      <td>36548</td>\n",
       "    </tr>\n",
       "  </tbody>\n",
       "</table>\n",
       "</div>"
      ],
      "text/plain": [
       "           job  marital          education default housing   loan   contact  \\\n",
       "count    41188    41188              41188   41188   41188  41188     41188   \n",
       "unique      12        4                  8       3       3      3         2   \n",
       "top     admin.  married  university.degree      no     yes     no  cellular   \n",
       "freq     10422    24928              12168   32588   21576  33950     26144   \n",
       "\n",
       "        month day_of_week     poutcome      y  \n",
       "count   41188       41188        41188  41188  \n",
       "unique     10           5            3      2  \n",
       "top       may         thu  nonexistent     no  \n",
       "freq    13769        8623        35563  36548  "
      ]
     },
     "execution_count": 10,
     "metadata": {},
     "output_type": "execute_result"
    }
   ],
   "source": [
    "# Descriptive Statistics \n",
    "\n",
    "bank.describe()                    # For numerical columns \n",
    "bank.describe(include = ['O'])     # For categorical columns"
   ]
  },
  {
   "cell_type": "code",
   "execution_count": 11,
   "metadata": {},
   "outputs": [
    {
     "data": {
      "text/plain": [
       "age                 int64\n",
       "job                object\n",
       "marital            object\n",
       "education          object\n",
       "default            object\n",
       "housing            object\n",
       "loan               object\n",
       "contact            object\n",
       "month              object\n",
       "day_of_week        object\n",
       "duration            int64\n",
       "campaign            int64\n",
       "pdays               int64\n",
       "previous            int64\n",
       "poutcome           object\n",
       "emp.var.rate      float64\n",
       "cons.price.idx    float64\n",
       "cons.conf.idx     float64\n",
       "euribor3m         float64\n",
       "nr.employed       float64\n",
       "y                  object\n",
       "dtype: object"
      ]
     },
     "execution_count": 11,
     "metadata": {},
     "output_type": "execute_result"
    }
   ],
   "source": [
    "bank.dtypes"
   ]
  },
  {
   "cell_type": "markdown",
   "metadata": {},
   "source": [
    "Basic Analysis "
   ]
  },
  {
   "cell_type": "code",
   "execution_count": 12,
   "metadata": {},
   "outputs": [
    {
     "data": {
      "text/plain": [
       "Text(0.5, 1.0, 'Distribution of data by age')"
      ]
     },
     "execution_count": 12,
     "metadata": {},
     "output_type": "execute_result"
    },
    {
     "data": {
      "text/plain": [
       "Text(0.5, 1.0, 'Distribution of data by campaign')"
      ]
     },
     "execution_count": 12,
     "metadata": {},
     "output_type": "execute_result"
    },
    {
     "data": {
      "text/plain": [
       "Text(0.5, 1.0, 'Distribution of data by employment variation rate')"
      ]
     },
     "execution_count": 12,
     "metadata": {},
     "output_type": "execute_result"
    },
    {
     "data": {
      "text/plain": [
       "Text(0.5, 1.0, 'Distribution of data by consumer price index')"
      ]
     },
     "execution_count": 12,
     "metadata": {},
     "output_type": "execute_result"
    },
    {
     "data": {
      "image/png": "[encoded data removed]",
      "text/plain": [
       "<Figure size 1584x504 with 4 Axes>"
      ]
     },
     "metadata": {
      "needs_background": "light"
     },
     "output_type": "display_data"
    }
   ],
   "source": [
    "# Distribution of numerical data \n",
    "plt.rcParams['figure.figsize'] = (22, 7)\n",
    "fig, ax = plt.subplots(1, 4)\n",
    "sns.distplot(bank.loc[:, 'age'], bins = 10, kde = False, ax = ax[0]).set_title('Distribution of data by age')\n",
    "sns.distplot(bank.loc[:, 'campaign'], bins = 10, kde = False, ax = ax[1]).set_title('Distribution of data by campaign')\n",
    "sns.distplot(bank.loc[:, 'emp.var.rate'], bins = 10, kde = False, ax = ax[2]).set_title('Distribution of data by employment variation rate')\n",
    "sns.distplot(bank.loc[:, 'cons.price.idx'], bins = 10, kde = False, ax = ax[3]).set_title('Distribution of data by consumer price index')"
   ]
  },
  {
   "cell_type": "code",
   "execution_count": 13,
   "metadata": {},
   "outputs": [
    {
     "data": {
      "text/plain": [
       "<seaborn.axisgrid.FacetGrid at 0x1a1fe02a20>"
      ]
     },
     "execution_count": 13,
     "metadata": {},
     "output_type": "execute_result"
    },
    {
     "data": {
      "text/plain": [
       "Text(0.5, 1, 'Outcome depending on the age')"
      ]
     },
     "execution_count": 13,
     "metadata": {},
     "output_type": "execute_result"
    },
    {
     "data": {
      "text/plain": [
       "<seaborn.axisgrid.FacetGrid at 0x1a20005860>"
      ]
     },
     "execution_count": 13,
     "metadata": {},
     "output_type": "execute_result"
    },
    {
     "data": {
      "text/plain": [
       "(0, 20)"
      ]
     },
     "execution_count": 13,
     "metadata": {},
     "output_type": "execute_result"
    },
    {
     "data": {
      "text/plain": [
       "Text(0.5, 1, 'Outcome depending on the number of contacts performed')"
      ]
     },
     "execution_count": 13,
     "metadata": {},
     "output_type": "execute_result"
    },
    {
     "data": {
      "image/png": "[encoded data removed]",
      "text/plain": [
       "<Figure size 360x360 with 1 Axes>"
      ]
     },
     "metadata": {
      "needs_background": "light"
     },
     "output_type": "display_data"
    },
    {
     "data": {
      "image/png": "[encoded data removed]",
      "text/plain": [
       "<Figure size 360x360 with 1 Axes>"
      ]
     },
     "metadata": {
      "needs_background": "light"
     },
     "output_type": "display_data"
    }
   ],
   "source": [
    "plt.rcParams['figure.figsize'] = (22, 7)\n",
    "sns.catplot(x = 'y', y = 'age', kind = 'boxen', data = bank)\n",
    "plt.title('Outcome depending on the age')\n",
    "sns.catplot(x = 'y', y = 'campaign', kind = 'boxen', data = bank)\n",
    "plt.ylim(0, 20)\n",
    "plt.title('Outcome depending on the number of contacts performed')"
   ]
  },
  {
   "cell_type": "code",
   "execution_count": 14,
   "metadata": {},
   "outputs": [
    {
     "data": {
      "text/html": [
       "<div>\n",
       "<style scoped>\n",
       "    .dataframe tbody tr th:only-of-type {\n",
       "        vertical-align: middle;\n",
       "    }\n",
       "\n",
       "    .dataframe tbody tr th {\n",
       "        vertical-align: top;\n",
       "    }\n",
       "\n",
       "    .dataframe thead th {\n",
       "        text-align: right;\n",
       "    }\n",
       "</style>\n",
       "<table border=\"1\" class=\"dataframe\">\n",
       "  <thead>\n",
       "    <tr style=\"text-align: right;\">\n",
       "      <th></th>\n",
       "      <th>job</th>\n",
       "      <th>marital</th>\n",
       "      <th>education</th>\n",
       "      <th>default</th>\n",
       "      <th>housing</th>\n",
       "      <th>loan</th>\n",
       "      <th>contact</th>\n",
       "      <th>month</th>\n",
       "      <th>day_of_week</th>\n",
       "      <th>poutcome</th>\n",
       "      <th>y</th>\n",
       "    </tr>\n",
       "  </thead>\n",
       "  <tbody>\n",
       "    <tr>\n",
       "      <th>count</th>\n",
       "      <td>41188</td>\n",
       "      <td>41188</td>\n",
       "      <td>41188</td>\n",
       "      <td>41188</td>\n",
       "      <td>41188</td>\n",
       "      <td>41188</td>\n",
       "      <td>41188</td>\n",
       "      <td>41188</td>\n",
       "      <td>41188</td>\n",
       "      <td>41188</td>\n",
       "      <td>41188</td>\n",
       "    </tr>\n",
       "    <tr>\n",
       "      <th>unique</th>\n",
       "      <td>12</td>\n",
       "      <td>4</td>\n",
       "      <td>8</td>\n",
       "      <td>3</td>\n",
       "      <td>3</td>\n",
       "      <td>3</td>\n",
       "      <td>2</td>\n",
       "      <td>10</td>\n",
       "      <td>5</td>\n",
       "      <td>3</td>\n",
       "      <td>2</td>\n",
       "    </tr>\n",
       "    <tr>\n",
       "      <th>top</th>\n",
       "      <td>admin.</td>\n",
       "      <td>married</td>\n",
       "      <td>university.degree</td>\n",
       "      <td>no</td>\n",
       "      <td>yes</td>\n",
       "      <td>no</td>\n",
       "      <td>cellular</td>\n",
       "      <td>may</td>\n",
       "      <td>thu</td>\n",
       "      <td>nonexistent</td>\n",
       "      <td>no</td>\n",
       "    </tr>\n",
       "    <tr>\n",
       "      <th>freq</th>\n",
       "      <td>10422</td>\n",
       "      <td>24928</td>\n",
       "      <td>12168</td>\n",
       "      <td>32588</td>\n",
       "      <td>21576</td>\n",
       "      <td>33950</td>\n",
       "      <td>26144</td>\n",
       "      <td>13769</td>\n",
       "      <td>8623</td>\n",
       "      <td>35563</td>\n",
       "      <td>36548</td>\n",
       "    </tr>\n",
       "  </tbody>\n",
       "</table>\n",
       "</div>"
      ],
      "text/plain": [
       "           job  marital          education default housing   loan   contact  \\\n",
       "count    41188    41188              41188   41188   41188  41188     41188   \n",
       "unique      12        4                  8       3       3      3         2   \n",
       "top     admin.  married  university.degree      no     yes     no  cellular   \n",
       "freq     10422    24928              12168   32588   21576  33950     26144   \n",
       "\n",
       "        month day_of_week     poutcome      y  \n",
       "count   41188       41188        41188  41188  \n",
       "unique     10           5            3      2  \n",
       "top       may         thu  nonexistent     no  \n",
       "freq    13769        8623        35563  36548  "
      ]
     },
     "execution_count": 14,
     "metadata": {},
     "output_type": "execute_result"
    }
   ],
   "source": [
    "bank.describe(include = ['O'])     # For categorical columns"
   ]
  },
  {
   "cell_type": "code",
   "execution_count": 15,
   "metadata": {},
   "outputs": [
    {
     "data": {
      "text/plain": [
       "job            y  \n",
       "admin.         no     9070\n",
       "               yes    1352\n",
       "blue-collar    no     8616\n",
       "               yes     638\n",
       "entrepreneur   no     1332\n",
       "               yes     124\n",
       "housemaid      no      954\n",
       "               yes     106\n",
       "management     no     2596\n",
       "               yes     328\n",
       "retired        no     1286\n",
       "               yes     434\n",
       "self-employed  no     1272\n",
       "               yes     149\n",
       "services       no     3646\n",
       "               yes     323\n",
       "student        no      600\n",
       "               yes     275\n",
       "technician     no     6013\n",
       "               yes     730\n",
       "unemployed     no      870\n",
       "               yes     144\n",
       "unknown        no      293\n",
       "               yes      37\n",
       "Name: y, dtype: int64"
      ]
     },
     "execution_count": 15,
     "metadata": {},
     "output_type": "execute_result"
    },
    {
     "data": {
      "text/plain": [
       "'Percentage of administrative people who are subscribing are: 12.972558050278257 %'"
      ]
     },
     "execution_count": 15,
     "metadata": {},
     "output_type": "execute_result"
    },
    {
     "data": {
      "text/plain": [
       "'Percentage of blue-collar people who are subscribing are: 6.894315971471795 %'"
      ]
     },
     "execution_count": 15,
     "metadata": {},
     "output_type": "execute_result"
    },
    {
     "data": {
      "text/plain": [
       "'Percentage of entrepreneur people who are subscribing are: 8.516483516483516 %'"
      ]
     },
     "execution_count": 15,
     "metadata": {},
     "output_type": "execute_result"
    },
    {
     "data": {
      "text/plain": [
       "'Percentage of housemaid people who are subscribing are: 10.0 %'"
      ]
     },
     "execution_count": 15,
     "metadata": {},
     "output_type": "execute_result"
    },
    {
     "data": {
      "text/plain": [
       "'Percentage of management people who are subscribing are: 11.21751025991792 %'"
      ]
     },
     "execution_count": 15,
     "metadata": {},
     "output_type": "execute_result"
    },
    {
     "data": {
      "text/plain": [
       "'Percentage of retired people who are subscribing are: 25.232558139534884 %'"
      ]
     },
     "execution_count": 15,
     "metadata": {},
     "output_type": "execute_result"
    },
    {
     "data": {
      "text/plain": [
       "'Percentage of self-employed people who are subscribing are: 10.48557353976073 %'"
      ]
     },
     "execution_count": 15,
     "metadata": {},
     "output_type": "execute_result"
    },
    {
     "data": {
      "text/plain": [
       "'Percentage of services people who are subscribing are: 8.138070042831949 %'"
      ]
     },
     "execution_count": 15,
     "metadata": {},
     "output_type": "execute_result"
    },
    {
     "data": {
      "text/plain": [
       "'Percentage of student people who are subscribing are: 31.428571428571427 %'"
      ]
     },
     "execution_count": 15,
     "metadata": {},
     "output_type": "execute_result"
    },
    {
     "data": {
      "text/plain": [
       "'Percentage of technician people who are subscribing are: 10.826041821147857 %'"
      ]
     },
     "execution_count": 15,
     "metadata": {},
     "output_type": "execute_result"
    },
    {
     "data": {
      "text/plain": [
       "'Percentage of unemployed people who are subscribing are: 14.201183431952662 %'"
      ]
     },
     "execution_count": 15,
     "metadata": {},
     "output_type": "execute_result"
    },
    {
     "data": {
      "text/plain": [
       "'Percentage of unknown people who are subscribing are: 11.212121212121213 %'"
      ]
     },
     "execution_count": 15,
     "metadata": {},
     "output_type": "execute_result"
    }
   ],
   "source": [
    "bank.groupby(['job', 'y'])['y'].count()\n",
    "\"Percentage of administrative people who are subscribing are: \" + str((1352/(1352+9070))*100) + \" %\"\n",
    "\"Percentage of blue-collar people who are subscribing are: \" + str((638/(638+8616))*100) + \" %\"\n",
    "\"Percentage of entrepreneur people who are subscribing are: \" + str((124/(124+1332))*100) + \" %\"\n",
    "\"Percentage of housemaid people who are subscribing are: \" + str((106/(106+954))*100) + \" %\"\n",
    "\"Percentage of management people who are subscribing are: \" + str((328/(328+2596))*100) + \" %\"\n",
    "\"Percentage of retired people who are subscribing are: \" + str((434/(434+1286))*100) + \" %\"\n",
    "\"Percentage of self-employed people who are subscribing are: \" + str((149/(149+1272))*100) + \" %\"\n",
    "\"Percentage of services people who are subscribing are: \" + str((323/(323+3646))*100) + \" %\"\n",
    "\"Percentage of student people who are subscribing are: \" + str((275/(275+600))*100) + \" %\"\n",
    "\"Percentage of technician people who are subscribing are: \" + str((730/(730+6013))*100) + \" %\"\n",
    "\"Percentage of unemployed people who are subscribing are: \" + str((144/(144+870))*100) + \" %\"\n",
    "\"Percentage of unknown people who are subscribing are: \" + str((37/(37+293))*100) + \" %\""
   ]
  },
  {
   "cell_type": "markdown",
   "metadata": {},
   "source": [
    "Students have the highest subscription rate at 31.42%, followed by retired people at 25.23%, and unemployed people at 14.20%"
   ]
  },
  {
   "cell_type": "code",
   "execution_count": 16,
   "metadata": {},
   "outputs": [
    {
     "data": {
      "text/plain": [
       "marital   y  \n",
       "divorced  no      4136\n",
       "          yes      476\n",
       "married   no     22396\n",
       "          yes     2532\n",
       "single    no      9948\n",
       "          yes     1620\n",
       "unknown   no        68\n",
       "          yes       12\n",
       "Name: y, dtype: int64"
      ]
     },
     "execution_count": 16,
     "metadata": {},
     "output_type": "execute_result"
    },
    {
     "data": {
      "text/plain": [
       "'Percentage of divorced people who are subscribing are: 10.320901994796184 %'"
      ]
     },
     "execution_count": 16,
     "metadata": {},
     "output_type": "execute_result"
    },
    {
     "data": {
      "text/plain": [
       "'Percentage of married people who are subscribing are: 10.157252888318355 %'"
      ]
     },
     "execution_count": 16,
     "metadata": {},
     "output_type": "execute_result"
    },
    {
     "data": {
      "text/plain": [
       "'Percentage of single people who are subscribing are: 14.004149377593361 %'"
      ]
     },
     "execution_count": 16,
     "metadata": {},
     "output_type": "execute_result"
    }
   ],
   "source": [
    "bank.groupby(['marital', 'y'])['y'].count()\n",
    "\"Percentage of divorced people who are subscribing are: \" + str((476/(476+4136))*100) + \" %\"\n",
    "\"Percentage of married people who are subscribing are: \" + str((2532/(2532+22396))*100) + \" %\"\n",
    "\"Percentage of single people who are subscribing are: \" + str((1620/(1620+9948))*100) + \" %\""
   ]
  },
  {
   "cell_type": "markdown",
   "metadata": {},
   "source": [
    "## Data Exploration and Preprocessing"
   ]
  },
  {
   "cell_type": "code",
   "execution_count": 17,
   "metadata": {},
   "outputs": [
    {
     "data": {
      "text/html": [
       "<div>\n",
       "<style scoped>\n",
       "    .dataframe tbody tr th:only-of-type {\n",
       "        vertical-align: middle;\n",
       "    }\n",
       "\n",
       "    .dataframe tbody tr th {\n",
       "        vertical-align: top;\n",
       "    }\n",
       "\n",
       "    .dataframe thead th {\n",
       "        text-align: right;\n",
       "    }\n",
       "</style>\n",
       "<table border=\"1\" class=\"dataframe\">\n",
       "  <thead>\n",
       "    <tr style=\"text-align: right;\">\n",
       "      <th></th>\n",
       "      <th>age</th>\n",
       "      <th>duration</th>\n",
       "      <th>campaign</th>\n",
       "      <th>pdays</th>\n",
       "      <th>previous</th>\n",
       "      <th>emp.var.rate</th>\n",
       "      <th>cons.price.idx</th>\n",
       "      <th>cons.conf.idx</th>\n",
       "      <th>euribor3m</th>\n",
       "      <th>nr.employed</th>\n",
       "    </tr>\n",
       "  </thead>\n",
       "  <tbody>\n",
       "    <tr>\n",
       "      <th>count</th>\n",
       "      <td>41188.00000</td>\n",
       "      <td>41188.000000</td>\n",
       "      <td>41188.000000</td>\n",
       "      <td>41188.000000</td>\n",
       "      <td>41188.000000</td>\n",
       "      <td>41188.000000</td>\n",
       "      <td>41188.000000</td>\n",
       "      <td>41188.000000</td>\n",
       "      <td>41188.000000</td>\n",
       "      <td>41188.000000</td>\n",
       "    </tr>\n",
       "    <tr>\n",
       "      <th>mean</th>\n",
       "      <td>40.02406</td>\n",
       "      <td>258.285010</td>\n",
       "      <td>2.567593</td>\n",
       "      <td>962.475454</td>\n",
       "      <td>0.172963</td>\n",
       "      <td>0.081886</td>\n",
       "      <td>93.575664</td>\n",
       "      <td>-40.502600</td>\n",
       "      <td>3.621291</td>\n",
       "      <td>5167.035911</td>\n",
       "    </tr>\n",
       "    <tr>\n",
       "      <th>std</th>\n",
       "      <td>10.42125</td>\n",
       "      <td>259.279249</td>\n",
       "      <td>2.770014</td>\n",
       "      <td>186.910907</td>\n",
       "      <td>0.494901</td>\n",
       "      <td>1.570960</td>\n",
       "      <td>0.578840</td>\n",
       "      <td>4.628198</td>\n",
       "      <td>1.734447</td>\n",
       "      <td>72.251528</td>\n",
       "    </tr>\n",
       "    <tr>\n",
       "      <th>min</th>\n",
       "      <td>17.00000</td>\n",
       "      <td>0.000000</td>\n",
       "      <td>1.000000</td>\n",
       "      <td>0.000000</td>\n",
       "      <td>0.000000</td>\n",
       "      <td>-3.400000</td>\n",
       "      <td>92.201000</td>\n",
       "      <td>-50.800000</td>\n",
       "      <td>0.634000</td>\n",
       "      <td>4963.600000</td>\n",
       "    </tr>\n",
       "    <tr>\n",
       "      <th>25%</th>\n",
       "      <td>32.00000</td>\n",
       "      <td>102.000000</td>\n",
       "      <td>1.000000</td>\n",
       "      <td>999.000000</td>\n",
       "      <td>0.000000</td>\n",
       "      <td>-1.800000</td>\n",
       "      <td>93.075000</td>\n",
       "      <td>-42.700000</td>\n",
       "      <td>1.344000</td>\n",
       "      <td>5099.100000</td>\n",
       "    </tr>\n",
       "    <tr>\n",
       "      <th>50%</th>\n",
       "      <td>38.00000</td>\n",
       "      <td>180.000000</td>\n",
       "      <td>2.000000</td>\n",
       "      <td>999.000000</td>\n",
       "      <td>0.000000</td>\n",
       "      <td>1.100000</td>\n",
       "      <td>93.749000</td>\n",
       "      <td>-41.800000</td>\n",
       "      <td>4.857000</td>\n",
       "      <td>5191.000000</td>\n",
       "    </tr>\n",
       "    <tr>\n",
       "      <th>75%</th>\n",
       "      <td>47.00000</td>\n",
       "      <td>319.000000</td>\n",
       "      <td>3.000000</td>\n",
       "      <td>999.000000</td>\n",
       "      <td>0.000000</td>\n",
       "      <td>1.400000</td>\n",
       "      <td>93.994000</td>\n",
       "      <td>-36.400000</td>\n",
       "      <td>4.961000</td>\n",
       "      <td>5228.100000</td>\n",
       "    </tr>\n",
       "    <tr>\n",
       "      <th>max</th>\n",
       "      <td>98.00000</td>\n",
       "      <td>4918.000000</td>\n",
       "      <td>56.000000</td>\n",
       "      <td>999.000000</td>\n",
       "      <td>7.000000</td>\n",
       "      <td>1.400000</td>\n",
       "      <td>94.767000</td>\n",
       "      <td>-26.900000</td>\n",
       "      <td>5.045000</td>\n",
       "      <td>5228.100000</td>\n",
       "    </tr>\n",
       "  </tbody>\n",
       "</table>\n",
       "</div>"
      ],
      "text/plain": [
       "               age      duration      campaign         pdays      previous  \\\n",
       "count  41188.00000  41188.000000  41188.000000  41188.000000  41188.000000   \n",
       "mean      40.02406    258.285010      2.567593    962.475454      0.172963   \n",
       "std       10.42125    259.279249      2.770014    186.910907      0.494901   \n",
       "min       17.00000      0.000000      1.000000      0.000000      0.000000   \n",
       "25%       32.00000    102.000000      1.000000    999.000000      0.000000   \n",
       "50%       38.00000    180.000000      2.000000    999.000000      0.000000   \n",
       "75%       47.00000    319.000000      3.000000    999.000000      0.000000   \n",
       "max       98.00000   4918.000000     56.000000    999.000000      7.000000   \n",
       "\n",
       "       emp.var.rate  cons.price.idx  cons.conf.idx     euribor3m   nr.employed  \n",
       "count  41188.000000    41188.000000   41188.000000  41188.000000  41188.000000  \n",
       "mean       0.081886       93.575664     -40.502600      3.621291   5167.035911  \n",
       "std        1.570960        0.578840       4.628198      1.734447     72.251528  \n",
       "min       -3.400000       92.201000     -50.800000      0.634000   4963.600000  \n",
       "25%       -1.800000       93.075000     -42.700000      1.344000   5099.100000  \n",
       "50%        1.100000       93.749000     -41.800000      4.857000   5191.000000  \n",
       "75%        1.400000       93.994000     -36.400000      4.961000   5228.100000  \n",
       "max        1.400000       94.767000     -26.900000      5.045000   5228.100000  "
      ]
     },
     "execution_count": 17,
     "metadata": {},
     "output_type": "execute_result"
    },
    {
     "data": {
      "text/html": [
       "<div>\n",
       "<style scoped>\n",
       "    .dataframe tbody tr th:only-of-type {\n",
       "        vertical-align: middle;\n",
       "    }\n",
       "\n",
       "    .dataframe tbody tr th {\n",
       "        vertical-align: top;\n",
       "    }\n",
       "\n",
       "    .dataframe thead th {\n",
       "        text-align: right;\n",
       "    }\n",
       "</style>\n",
       "<table border=\"1\" class=\"dataframe\">\n",
       "  <thead>\n",
       "    <tr style=\"text-align: right;\">\n",
       "      <th></th>\n",
       "      <th>job</th>\n",
       "      <th>marital</th>\n",
       "      <th>education</th>\n",
       "      <th>default</th>\n",
       "      <th>housing</th>\n",
       "      <th>loan</th>\n",
       "      <th>contact</th>\n",
       "      <th>month</th>\n",
       "      <th>day_of_week</th>\n",
       "      <th>poutcome</th>\n",
       "      <th>y</th>\n",
       "    </tr>\n",
       "  </thead>\n",
       "  <tbody>\n",
       "    <tr>\n",
       "      <th>count</th>\n",
       "      <td>41188</td>\n",
       "      <td>41188</td>\n",
       "      <td>41188</td>\n",
       "      <td>41188</td>\n",
       "      <td>41188</td>\n",
       "      <td>41188</td>\n",
       "      <td>41188</td>\n",
       "      <td>41188</td>\n",
       "      <td>41188</td>\n",
       "      <td>41188</td>\n",
       "      <td>41188</td>\n",
       "    </tr>\n",
       "    <tr>\n",
       "      <th>unique</th>\n",
       "      <td>12</td>\n",
       "      <td>4</td>\n",
       "      <td>8</td>\n",
       "      <td>3</td>\n",
       "      <td>3</td>\n",
       "      <td>3</td>\n",
       "      <td>2</td>\n",
       "      <td>10</td>\n",
       "      <td>5</td>\n",
       "      <td>3</td>\n",
       "      <td>2</td>\n",
       "    </tr>\n",
       "    <tr>\n",
       "      <th>top</th>\n",
       "      <td>admin.</td>\n",
       "      <td>married</td>\n",
       "      <td>university.degree</td>\n",
       "      <td>no</td>\n",
       "      <td>yes</td>\n",
       "      <td>no</td>\n",
       "      <td>cellular</td>\n",
       "      <td>may</td>\n",
       "      <td>thu</td>\n",
       "      <td>nonexistent</td>\n",
       "      <td>no</td>\n",
       "    </tr>\n",
       "    <tr>\n",
       "      <th>freq</th>\n",
       "      <td>10422</td>\n",
       "      <td>24928</td>\n",
       "      <td>12168</td>\n",
       "      <td>32588</td>\n",
       "      <td>21576</td>\n",
       "      <td>33950</td>\n",
       "      <td>26144</td>\n",
       "      <td>13769</td>\n",
       "      <td>8623</td>\n",
       "      <td>35563</td>\n",
       "      <td>36548</td>\n",
       "    </tr>\n",
       "  </tbody>\n",
       "</table>\n",
       "</div>"
      ],
      "text/plain": [
       "           job  marital          education default housing   loan   contact  \\\n",
       "count    41188    41188              41188   41188   41188  41188     41188   \n",
       "unique      12        4                  8       3       3      3         2   \n",
       "top     admin.  married  university.degree      no     yes     no  cellular   \n",
       "freq     10422    24928              12168   32588   21576  33950     26144   \n",
       "\n",
       "        month day_of_week     poutcome      y  \n",
       "count   41188       41188        41188  41188  \n",
       "unique     10           5            3      2  \n",
       "top       may         thu  nonexistent     no  \n",
       "freq    13769        8623        35563  36548  "
      ]
     },
     "execution_count": 17,
     "metadata": {},
     "output_type": "execute_result"
    }
   ],
   "source": [
    "bank.describe()                 \n",
    "bank.describe(include = ['O'])"
   ]
  },
  {
   "cell_type": "code",
   "execution_count": 18,
   "metadata": {},
   "outputs": [
    {
     "data": {
      "text/plain": [
       "age                 int64\n",
       "job                object\n",
       "marital            object\n",
       "education          object\n",
       "default            object\n",
       "housing            object\n",
       "loan               object\n",
       "contact            object\n",
       "month              object\n",
       "day_of_week        object\n",
       "duration            int64\n",
       "campaign            int64\n",
       "pdays               int64\n",
       "previous            int64\n",
       "poutcome           object\n",
       "emp.var.rate      float64\n",
       "cons.price.idx    float64\n",
       "cons.conf.idx     float64\n",
       "euribor3m         float64\n",
       "nr.employed       float64\n",
       "y                  object\n",
       "dtype: object"
      ]
     },
     "execution_count": 18,
     "metadata": {},
     "output_type": "execute_result"
    }
   ],
   "source": [
    "bank.dtypes"
   ]
  },
  {
   "cell_type": "code",
   "execution_count": 19,
   "metadata": {},
   "outputs": [
    {
     "data": {
      "text/plain": [
       "[\"Unique values for job are: ['housemaid' 'services' 'admin.' 'blue-collar' 'technician' 'retired'\\n 'management' 'unemployed' 'self-employed' 'unknown' 'entrepreneur'\\n 'student']\",\n",
       " \"Unique values for marital are: ['married' 'single' 'divorced' 'unknown']\",\n",
       " \"Unique values for education are: ['basic.4y' 'high.school' 'basic.6y' 'basic.9y' 'professional.course'\\n 'unknown' 'university.degree' 'illiterate']\",\n",
       " \"Unique values for default are: ['no' 'unknown' 'yes']\",\n",
       " \"Unique values for housing are: ['no' 'yes' 'unknown']\",\n",
       " \"Unique values for loan are: ['no' 'yes' 'unknown']\",\n",
       " \"Unique values for contact are: ['telephone' 'cellular']\",\n",
       " \"Unique values for month are: ['may' 'jun' 'jul' 'aug' 'oct' 'nov' 'dec' 'mar' 'apr' 'sep']\",\n",
       " \"Unique values for day_of_week are: ['mon' 'tue' 'wed' 'thu' 'fri']\",\n",
       " \"Unique values for poutcome are: ['nonexistent' 'failure' 'success']\",\n",
       " \"Unique values for y are: ['no' 'yes']\"]"
      ]
     },
     "execution_count": 19,
     "metadata": {},
     "output_type": "execute_result"
    }
   ],
   "source": [
    "# Checking the unique values in each categorical column \n",
    "\n",
    "categorical_features = ['job', 'marital', 'education', 'default', 'housing', 'loan', 'contact', 'month', 'day_of_week', 'poutcome', 'y']\n",
    "uniq = []\n",
    "\n",
    "for i in categorical_features:\n",
    "    a = \"Unique values for \" + str(i) + \" are: \" + str(bank[i].unique())\n",
    "    uniq.append(a)\n",
    "\n",
    "uniq"
   ]
  },
  {
   "cell_type": "markdown",
   "metadata": {},
   "source": [
    "As seen from the data types output, we need to modify the features a little bit so that they are in the right format for our classification machine learning models. \n",
    "\n",
    "We will either one-hot encode the variables, or map it to values 0, 1, 2,..... etc. \n",
    "\n",
    "The variables we will one-hot encode are: \n",
    "        1. job\n",
    "        2. marital\n",
    "        3. education \n",
    "        4. default \n",
    "        5. housing\n",
    "        6. loan\n",
    "        7. contact\n",
    "        8. month\n",
    "        9. day_of_week\n",
    "        10. poutcome\n",
    "\n",
    "The variable which will be mapped is y, with 'no' being mapped to '0', and 'yes' being mapped to '1'"
   ]
  },
  {
   "cell_type": "markdown",
   "metadata": {},
   "source": [
    "There are no null/missing values present in the dataset. "
   ]
  },
  {
   "cell_type": "code",
   "execution_count": 20,
   "metadata": {},
   "outputs": [],
   "source": [
    "# One-hot encoding\n",
    "\n",
    "job = pd.get_dummies(bank['job'], columns = 'job', prefix = 'job')\n",
    "marital = pd.get_dummies(bank['marital'], columns = 'marital', prefix = 'marital')\n",
    "educ = pd.get_dummies(bank['education'], columns = 'education', prefix = 'educ')\n",
    "default = pd.get_dummies(bank['default'], columns = 'default', prefix = 'default')\n",
    "housing = pd.get_dummies(bank['housing'], columns = 'housing', prefix = 'housing')\n",
    "loan = pd.get_dummies(bank['loan'], columns = 'loan', prefix = 'loan')\n",
    "contact = pd.get_dummies(bank['contact'], columns = 'contact', prefix = 'contact')\n",
    "month = pd.get_dummies(bank['month'], columns = 'month', prefix = 'month')\n",
    "day = pd.get_dummies(bank['day_of_week'], columns = 'day_of_week', prefix = 'day_of_week')\n",
    "poutcome = pd.get_dummies(bank['poutcome'], columns = 'poutcome', prefix = 'poutcome')\n",
    "\n",
    "# Mapping\n",
    "bank['y'] = bank['y'].map({'no': 0, 'yes': 1})"
   ]
  },
  {
   "cell_type": "code",
   "execution_count": 21,
   "metadata": {},
   "outputs": [
    {
     "data": {
      "text/html": [
       "<div>\n",
       "<style scoped>\n",
       "    .dataframe tbody tr th:only-of-type {\n",
       "        vertical-align: middle;\n",
       "    }\n",
       "\n",
       "    .dataframe tbody tr th {\n",
       "        vertical-align: top;\n",
       "    }\n",
       "\n",
       "    .dataframe thead th {\n",
       "        text-align: right;\n",
       "    }\n",
       "</style>\n",
       "<table border=\"1\" class=\"dataframe\">\n",
       "  <thead>\n",
       "    <tr style=\"text-align: right;\">\n",
       "      <th></th>\n",
       "      <th>age</th>\n",
       "      <th>job</th>\n",
       "      <th>marital</th>\n",
       "      <th>education</th>\n",
       "      <th>default</th>\n",
       "      <th>housing</th>\n",
       "      <th>loan</th>\n",
       "      <th>contact</th>\n",
       "      <th>month</th>\n",
       "      <th>day_of_week</th>\n",
       "      <th>...</th>\n",
       "      <th>month_oct</th>\n",
       "      <th>month_sep</th>\n",
       "      <th>day_of_week_fri</th>\n",
       "      <th>day_of_week_mon</th>\n",
       "      <th>day_of_week_thu</th>\n",
       "      <th>day_of_week_tue</th>\n",
       "      <th>day_of_week_wed</th>\n",
       "      <th>poutcome_failure</th>\n",
       "      <th>poutcome_nonexistent</th>\n",
       "      <th>poutcome_success</th>\n",
       "    </tr>\n",
       "  </thead>\n",
       "  <tbody>\n",
       "    <tr>\n",
       "      <th>0</th>\n",
       "      <td>56</td>\n",
       "      <td>housemaid</td>\n",
       "      <td>married</td>\n",
       "      <td>basic.4y</td>\n",
       "      <td>no</td>\n",
       "      <td>no</td>\n",
       "      <td>no</td>\n",
       "      <td>telephone</td>\n",
       "      <td>may</td>\n",
       "      <td>mon</td>\n",
       "      <td>...</td>\n",
       "      <td>0</td>\n",
       "      <td>0</td>\n",
       "      <td>0</td>\n",
       "      <td>1</td>\n",
       "      <td>0</td>\n",
       "      <td>0</td>\n",
       "      <td>0</td>\n",
       "      <td>0</td>\n",
       "      <td>1</td>\n",
       "      <td>0</td>\n",
       "    </tr>\n",
       "    <tr>\n",
       "      <th>1</th>\n",
       "      <td>57</td>\n",
       "      <td>services</td>\n",
       "      <td>married</td>\n",
       "      <td>high.school</td>\n",
       "      <td>unknown</td>\n",
       "      <td>no</td>\n",
       "      <td>no</td>\n",
       "      <td>telephone</td>\n",
       "      <td>may</td>\n",
       "      <td>mon</td>\n",
       "      <td>...</td>\n",
       "      <td>0</td>\n",
       "      <td>0</td>\n",
       "      <td>0</td>\n",
       "      <td>1</td>\n",
       "      <td>0</td>\n",
       "      <td>0</td>\n",
       "      <td>0</td>\n",
       "      <td>0</td>\n",
       "      <td>1</td>\n",
       "      <td>0</td>\n",
       "    </tr>\n",
       "    <tr>\n",
       "      <th>2</th>\n",
       "      <td>37</td>\n",
       "      <td>services</td>\n",
       "      <td>married</td>\n",
       "      <td>high.school</td>\n",
       "      <td>no</td>\n",
       "      <td>yes</td>\n",
       "      <td>no</td>\n",
       "      <td>telephone</td>\n",
       "      <td>may</td>\n",
       "      <td>mon</td>\n",
       "      <td>...</td>\n",
       "      <td>0</td>\n",
       "      <td>0</td>\n",
       "      <td>0</td>\n",
       "      <td>1</td>\n",
       "      <td>0</td>\n",
       "      <td>0</td>\n",
       "      <td>0</td>\n",
       "      <td>0</td>\n",
       "      <td>1</td>\n",
       "      <td>0</td>\n",
       "    </tr>\n",
       "    <tr>\n",
       "      <th>3</th>\n",
       "      <td>40</td>\n",
       "      <td>admin.</td>\n",
       "      <td>married</td>\n",
       "      <td>basic.6y</td>\n",
       "      <td>no</td>\n",
       "      <td>no</td>\n",
       "      <td>no</td>\n",
       "      <td>telephone</td>\n",
       "      <td>may</td>\n",
       "      <td>mon</td>\n",
       "      <td>...</td>\n",
       "      <td>0</td>\n",
       "      <td>0</td>\n",
       "      <td>0</td>\n",
       "      <td>1</td>\n",
       "      <td>0</td>\n",
       "      <td>0</td>\n",
       "      <td>0</td>\n",
       "      <td>0</td>\n",
       "      <td>1</td>\n",
       "      <td>0</td>\n",
       "    </tr>\n",
       "    <tr>\n",
       "      <th>4</th>\n",
       "      <td>56</td>\n",
       "      <td>services</td>\n",
       "      <td>married</td>\n",
       "      <td>high.school</td>\n",
       "      <td>no</td>\n",
       "      <td>no</td>\n",
       "      <td>yes</td>\n",
       "      <td>telephone</td>\n",
       "      <td>may</td>\n",
       "      <td>mon</td>\n",
       "      <td>...</td>\n",
       "      <td>0</td>\n",
       "      <td>0</td>\n",
       "      <td>0</td>\n",
       "      <td>1</td>\n",
       "      <td>0</td>\n",
       "      <td>0</td>\n",
       "      <td>0</td>\n",
       "      <td>0</td>\n",
       "      <td>1</td>\n",
       "      <td>0</td>\n",
       "    </tr>\n",
       "  </tbody>\n",
       "</table>\n",
       "<p>5 rows × 74 columns</p>\n",
       "</div>"
      ],
      "text/plain": [
       "   age        job  marital    education  default housing loan    contact  \\\n",
       "0   56  housemaid  married     basic.4y       no      no   no  telephone   \n",
       "1   57   services  married  high.school  unknown      no   no  telephone   \n",
       "2   37   services  married  high.school       no     yes   no  telephone   \n",
       "3   40     admin.  married     basic.6y       no      no   no  telephone   \n",
       "4   56   services  married  high.school       no      no  yes  telephone   \n",
       "\n",
       "  month day_of_week  ...  month_oct  month_sep  day_of_week_fri  \\\n",
       "0   may         mon  ...          0          0                0   \n",
       "1   may         mon  ...          0          0                0   \n",
       "2   may         mon  ...          0          0                0   \n",
       "3   may         mon  ...          0          0                0   \n",
       "4   may         mon  ...          0          0                0   \n",
       "\n",
       "   day_of_week_mon day_of_week_thu  day_of_week_tue  day_of_week_wed  \\\n",
       "0                1               0                0                0   \n",
       "1                1               0                0                0   \n",
       "2                1               0                0                0   \n",
       "3                1               0                0                0   \n",
       "4                1               0                0                0   \n",
       "\n",
       "   poutcome_failure  poutcome_nonexistent  poutcome_success  \n",
       "0                 0                     1                 0  \n",
       "1                 0                     1                 0  \n",
       "2                 0                     1                 0  \n",
       "3                 0                     1                 0  \n",
       "4                 0                     1                 0  \n",
       "\n",
       "[5 rows x 74 columns]"
      ]
     },
     "execution_count": 21,
     "metadata": {},
     "output_type": "execute_result"
    }
   ],
   "source": [
    "# Integrating the dummy variables with the original dataframe\n",
    "bank = pd.concat([bank, job, marital, educ, default, housing, loan, contact, month, day, poutcome], axis = 1)\n",
    "bank.head()"
   ]
  },
  {
   "cell_type": "code",
   "execution_count": 22,
   "metadata": {},
   "outputs": [
    {
     "data": {
      "text/html": [
       "<div>\n",
       "<style scoped>\n",
       "    .dataframe tbody tr th:only-of-type {\n",
       "        vertical-align: middle;\n",
       "    }\n",
       "\n",
       "    .dataframe tbody tr th {\n",
       "        vertical-align: top;\n",
       "    }\n",
       "\n",
       "    .dataframe thead th {\n",
       "        text-align: right;\n",
       "    }\n",
       "</style>\n",
       "<table border=\"1\" class=\"dataframe\">\n",
       "  <thead>\n",
       "    <tr style=\"text-align: right;\">\n",
       "      <th></th>\n",
       "      <th>age</th>\n",
       "      <th>duration</th>\n",
       "      <th>campaign</th>\n",
       "      <th>pdays</th>\n",
       "      <th>previous</th>\n",
       "      <th>emp.var.rate</th>\n",
       "      <th>cons.price.idx</th>\n",
       "      <th>cons.conf.idx</th>\n",
       "      <th>euribor3m</th>\n",
       "      <th>nr.employed</th>\n",
       "      <th>...</th>\n",
       "      <th>month_oct</th>\n",
       "      <th>month_sep</th>\n",
       "      <th>day_of_week_fri</th>\n",
       "      <th>day_of_week_mon</th>\n",
       "      <th>day_of_week_thu</th>\n",
       "      <th>day_of_week_tue</th>\n",
       "      <th>day_of_week_wed</th>\n",
       "      <th>poutcome_failure</th>\n",
       "      <th>poutcome_nonexistent</th>\n",
       "      <th>poutcome_success</th>\n",
       "    </tr>\n",
       "  </thead>\n",
       "  <tbody>\n",
       "    <tr>\n",
       "      <th>0</th>\n",
       "      <td>56</td>\n",
       "      <td>261</td>\n",
       "      <td>1</td>\n",
       "      <td>999</td>\n",
       "      <td>0</td>\n",
       "      <td>1.1</td>\n",
       "      <td>93.994</td>\n",
       "      <td>-36.4</td>\n",
       "      <td>4.857</td>\n",
       "      <td>5191.0</td>\n",
       "      <td>...</td>\n",
       "      <td>0</td>\n",
       "      <td>0</td>\n",
       "      <td>0</td>\n",
       "      <td>1</td>\n",
       "      <td>0</td>\n",
       "      <td>0</td>\n",
       "      <td>0</td>\n",
       "      <td>0</td>\n",
       "      <td>1</td>\n",
       "      <td>0</td>\n",
       "    </tr>\n",
       "    <tr>\n",
       "      <th>1</th>\n",
       "      <td>57</td>\n",
       "      <td>149</td>\n",
       "      <td>1</td>\n",
       "      <td>999</td>\n",
       "      <td>0</td>\n",
       "      <td>1.1</td>\n",
       "      <td>93.994</td>\n",
       "      <td>-36.4</td>\n",
       "      <td>4.857</td>\n",
       "      <td>5191.0</td>\n",
       "      <td>...</td>\n",
       "      <td>0</td>\n",
       "      <td>0</td>\n",
       "      <td>0</td>\n",
       "      <td>1</td>\n",
       "      <td>0</td>\n",
       "      <td>0</td>\n",
       "      <td>0</td>\n",
       "      <td>0</td>\n",
       "      <td>1</td>\n",
       "      <td>0</td>\n",
       "    </tr>\n",
       "    <tr>\n",
       "      <th>2</th>\n",
       "      <td>37</td>\n",
       "      <td>226</td>\n",
       "      <td>1</td>\n",
       "      <td>999</td>\n",
       "      <td>0</td>\n",
       "      <td>1.1</td>\n",
       "      <td>93.994</td>\n",
       "      <td>-36.4</td>\n",
       "      <td>4.857</td>\n",
       "      <td>5191.0</td>\n",
       "      <td>...</td>\n",
       "      <td>0</td>\n",
       "      <td>0</td>\n",
       "      <td>0</td>\n",
       "      <td>1</td>\n",
       "      <td>0</td>\n",
       "      <td>0</td>\n",
       "      <td>0</td>\n",
       "      <td>0</td>\n",
       "      <td>1</td>\n",
       "      <td>0</td>\n",
       "    </tr>\n",
       "    <tr>\n",
       "      <th>3</th>\n",
       "      <td>40</td>\n",
       "      <td>151</td>\n",
       "      <td>1</td>\n",
       "      <td>999</td>\n",
       "      <td>0</td>\n",
       "      <td>1.1</td>\n",
       "      <td>93.994</td>\n",
       "      <td>-36.4</td>\n",
       "      <td>4.857</td>\n",
       "      <td>5191.0</td>\n",
       "      <td>...</td>\n",
       "      <td>0</td>\n",
       "      <td>0</td>\n",
       "      <td>0</td>\n",
       "      <td>1</td>\n",
       "      <td>0</td>\n",
       "      <td>0</td>\n",
       "      <td>0</td>\n",
       "      <td>0</td>\n",
       "      <td>1</td>\n",
       "      <td>0</td>\n",
       "    </tr>\n",
       "    <tr>\n",
       "      <th>4</th>\n",
       "      <td>56</td>\n",
       "      <td>307</td>\n",
       "      <td>1</td>\n",
       "      <td>999</td>\n",
       "      <td>0</td>\n",
       "      <td>1.1</td>\n",
       "      <td>93.994</td>\n",
       "      <td>-36.4</td>\n",
       "      <td>4.857</td>\n",
       "      <td>5191.0</td>\n",
       "      <td>...</td>\n",
       "      <td>0</td>\n",
       "      <td>0</td>\n",
       "      <td>0</td>\n",
       "      <td>1</td>\n",
       "      <td>0</td>\n",
       "      <td>0</td>\n",
       "      <td>0</td>\n",
       "      <td>0</td>\n",
       "      <td>1</td>\n",
       "      <td>0</td>\n",
       "    </tr>\n",
       "  </tbody>\n",
       "</table>\n",
       "<p>5 rows × 64 columns</p>\n",
       "</div>"
      ],
      "text/plain": [
       "   age  duration  campaign  pdays  previous  emp.var.rate  cons.price.idx  \\\n",
       "0   56       261         1    999         0           1.1          93.994   \n",
       "1   57       149         1    999         0           1.1          93.994   \n",
       "2   37       226         1    999         0           1.1          93.994   \n",
       "3   40       151         1    999         0           1.1          93.994   \n",
       "4   56       307         1    999         0           1.1          93.994   \n",
       "\n",
       "   cons.conf.idx  euribor3m  nr.employed  ...  month_oct  month_sep  \\\n",
       "0          -36.4      4.857       5191.0  ...          0          0   \n",
       "1          -36.4      4.857       5191.0  ...          0          0   \n",
       "2          -36.4      4.857       5191.0  ...          0          0   \n",
       "3          -36.4      4.857       5191.0  ...          0          0   \n",
       "4          -36.4      4.857       5191.0  ...          0          0   \n",
       "\n",
       "   day_of_week_fri  day_of_week_mon  day_of_week_thu  day_of_week_tue  \\\n",
       "0                0                1                0                0   \n",
       "1                0                1                0                0   \n",
       "2                0                1                0                0   \n",
       "3                0                1                0                0   \n",
       "4                0                1                0                0   \n",
       "\n",
       "   day_of_week_wed  poutcome_failure  poutcome_nonexistent  poutcome_success  \n",
       "0                0                 0                     1                 0  \n",
       "1                0                 0                     1                 0  \n",
       "2                0                 0                     1                 0  \n",
       "3                0                 0                     1                 0  \n",
       "4                0                 0                     1                 0  \n",
       "\n",
       "[5 rows x 64 columns]"
      ]
     },
     "execution_count": 22,
     "metadata": {},
     "output_type": "execute_result"
    },
    {
     "data": {
      "text/plain": [
       "(41188, 64)"
      ]
     },
     "execution_count": 22,
     "metadata": {},
     "output_type": "execute_result"
    }
   ],
   "source": [
    "# Removing the original categorical variables to avoid the dummy variable trap\n",
    "\n",
    "bank.drop(['job', 'marital', 'education', 'default', 'housing', 'loan', 'contact', 'month', 'day_of_week', 'poutcome'], axis = 1, inplace = True)\n",
    "bank.head()\n",
    "bank.shape"
   ]
  },
  {
   "cell_type": "markdown",
   "metadata": {},
   "source": [
    "Data Preprocessing for the column 'pdays':\n",
    "\n",
    "The feature 'pdays' signifies the number of days that passed by after the client was last contacted from a previous campaign.\n",
    "The value '999' signifies that the cliet was not previously contacted. "
   ]
  },
  {
   "cell_type": "code",
   "execution_count": 23,
   "metadata": {},
   "outputs": [
    {
     "data": {
      "text/plain": [
       "count    41188.000000\n",
       "mean       962.475454\n",
       "std        186.910907\n",
       "min          0.000000\n",
       "25%        999.000000\n",
       "50%        999.000000\n",
       "75%        999.000000\n",
       "max        999.000000\n",
       "Name: pdays, dtype: float64"
      ]
     },
     "execution_count": 23,
     "metadata": {},
     "output_type": "execute_result"
    },
    {
     "data": {
      "text/plain": [
       "pdays\n",
       "0         15\n",
       "1         26\n",
       "2         61\n",
       "3        439\n",
       "4        118\n",
       "5         46\n",
       "6        412\n",
       "7         60\n",
       "8         18\n",
       "9         64\n",
       "10        52\n",
       "11        28\n",
       "12        58\n",
       "13        36\n",
       "14        20\n",
       "15        24\n",
       "16        11\n",
       "17         8\n",
       "18         7\n",
       "19         3\n",
       "20         1\n",
       "21         2\n",
       "22         3\n",
       "25         1\n",
       "26         1\n",
       "27         1\n",
       "999    39673\n",
       "Name: pdays, dtype: int64"
      ]
     },
     "execution_count": 23,
     "metadata": {},
     "output_type": "execute_result"
    }
   ],
   "source": [
    "# Exploring the pdays column\n",
    "\n",
    "bank.loc[:, 'pdays'].describe()\n",
    "bank.groupby('pdays')['pdays'].count()"
   ]
  },
  {
   "cell_type": "markdown",
   "metadata": {},
   "source": [
    "The majority of the values are 999 meaning the client was not previously contacted. We can transform this integer feature into a categorical feature of 4 categories: \n",
    "\n",
    "    1. Days from 0 to 10 will be categorized as '0-10' \n",
    "    2. Days from 11 to 20 will be categorized as '11-20' \n",
    "    3. Days from 21 to 27 will be categorized as '21-27'\n",
    "    4. People who were not contacted will be categorized as 'No contact'\n",
    "\n",
    "After converting them into categories, we can easily map them them. 'No-contact' will be mapped as 0. '0-10' will be mapped as 1. '11-20' will be mapped as 2. '21-27' will be mapped as 3. The variable will be mapped because there is a specific order to the number of days. "
   ]
  },
  {
   "cell_type": "code",
   "execution_count": 24,
   "metadata": {},
   "outputs": [
    {
     "data": {
      "text/plain": [
       "(41188, 65)"
      ]
     },
     "execution_count": 24,
     "metadata": {},
     "output_type": "execute_result"
    }
   ],
   "source": [
    "bank['pdays1'] = 0\n",
    "\n",
    "bank.shape\n",
    "\n",
    "for i in range(len(bank.loc[:, 'pdays'])):\n",
    "    if bank.loc[i, 'pdays'] == 999: \n",
    "        bank.loc[i, 'pdays1'] = 'No contact'\n",
    "    elif (bank.loc[i, 'pdays'] >= 0) & (bank.loc[i, 'pdays'] <= 10):\n",
    "        bank.loc[i, 'pdays1'] = '0-10'\n",
    "    elif (bank.loc[i, 'pdays'] >= 11) & (bank.loc[i, 'pdays'] <= 20):\n",
    "        bank.loc[i, 'pdays1'] = '11-20'\n",
    "    elif (bank.loc[i, 'pdays'] >= 21) & (bank.loc[i, 'pdays'] <= 27):\n",
    "        bank.loc[i, 'pdays1'] = '21-27'\n",
    "\n"
   ]
  },
  {
   "cell_type": "code",
   "execution_count": 25,
   "metadata": {},
   "outputs": [
    {
     "data": {
      "text/plain": [
       "dtype('O')"
      ]
     },
     "execution_count": 25,
     "metadata": {},
     "output_type": "execute_result"
    },
    {
     "data": {
      "text/plain": [
       "pdays1\n",
       "0-10           1311\n",
       "11-20           196\n",
       "21-27             8\n",
       "No contact    39673\n",
       "Name: pdays1, dtype: int64"
      ]
     },
     "execution_count": 25,
     "metadata": {},
     "output_type": "execute_result"
    }
   ],
   "source": [
    "bank.loc[:, 'pdays1'].dtype\n",
    "bank.groupby('pdays1')['pdays1'].count()"
   ]
  },
  {
   "cell_type": "code",
   "execution_count": 26,
   "metadata": {},
   "outputs": [
    {
     "data": {
      "text/plain": [
       "array([0, 1, 2, 3])"
      ]
     },
     "execution_count": 26,
     "metadata": {},
     "output_type": "execute_result"
    }
   ],
   "source": [
    "# Mapping the pdays1 variable\n",
    "\n",
    "bank['pdays1'] = bank['pdays1'].map({'No contact': 0, '0-10': 1, '11-20': 2, '21-27': 3})\n",
    "bank['pdays1'].unique()"
   ]
  },
  {
   "cell_type": "code",
   "execution_count": 27,
   "metadata": {},
   "outputs": [],
   "source": [
    "bank.drop('pdays', axis = 1, inplace = True)"
   ]
  },
  {
   "cell_type": "code",
   "execution_count": 28,
   "metadata": {},
   "outputs": [
    {
     "data": {
      "text/plain": [
       "age                       int64\n",
       "duration                  int64\n",
       "campaign                  int64\n",
       "previous                  int64\n",
       "emp.var.rate            float64\n",
       "cons.price.idx          float64\n",
       "cons.conf.idx           float64\n",
       "euribor3m               float64\n",
       "nr.employed             float64\n",
       "y                         int64\n",
       "job_admin.                uint8\n",
       "job_blue-collar           uint8\n",
       "job_entrepreneur          uint8\n",
       "job_housemaid             uint8\n",
       "job_management            uint8\n",
       "job_retired               uint8\n",
       "job_self-employed         uint8\n",
       "job_services              uint8\n",
       "job_student               uint8\n",
       "job_technician            uint8\n",
       "job_unemployed            uint8\n",
       "job_unknown               uint8\n",
       "marital_divorced          uint8\n",
       "marital_married           uint8\n",
       "marital_single            uint8\n",
       "marital_unknown           uint8\n",
       "educ_basic.4y             uint8\n",
       "educ_basic.6y             uint8\n",
       "educ_basic.9y             uint8\n",
       "educ_high.school          uint8\n",
       "                         ...   \n",
       "default_no                uint8\n",
       "default_unknown           uint8\n",
       "default_yes               uint8\n",
       "housing_no                uint8\n",
       "housing_unknown           uint8\n",
       "housing_yes               uint8\n",
       "loan_no                   uint8\n",
       "loan_unknown              uint8\n",
       "loan_yes                  uint8\n",
       "contact_cellular          uint8\n",
       "contact_telephone         uint8\n",
       "month_apr                 uint8\n",
       "month_aug                 uint8\n",
       "month_dec                 uint8\n",
       "month_jul                 uint8\n",
       "month_jun                 uint8\n",
       "month_mar                 uint8\n",
       "month_may                 uint8\n",
       "month_nov                 uint8\n",
       "month_oct                 uint8\n",
       "month_sep                 uint8\n",
       "day_of_week_fri           uint8\n",
       "day_of_week_mon           uint8\n",
       "day_of_week_thu           uint8\n",
       "day_of_week_tue           uint8\n",
       "day_of_week_wed           uint8\n",
       "poutcome_failure          uint8\n",
       "poutcome_nonexistent      uint8\n",
       "poutcome_success          uint8\n",
       "pdays1                    int64\n",
       "Length: 64, dtype: object"
      ]
     },
     "execution_count": 28,
     "metadata": {},
     "output_type": "execute_result"
    }
   ],
   "source": [
    "bank.dtypes"
   ]
  },
  {
   "cell_type": "code",
   "execution_count": 29,
   "metadata": {},
   "outputs": [],
   "source": [
    "# Percentage of unknown values in the dataset\n",
    "#categorical_features = ['job', 'marital', 'education', 'default', 'housing', 'loan', 'contact', 'month', 'day_of_week', 'poutcome', 'y']\n",
    "\n",
    "#unkc_name = []\n",
    "#unkc = []\n",
    "\n",
    "#for i in categorical_features:\n",
    "    #if len(np.unique((bank[i].unique() == 'unknown'))) == 2:\n",
    "     #       calc = ((bank[i] == 'unknown').sum()/bank[i].count())*100\n",
    "      #      unkc_name.append(i)\n",
    "       #     unkc.append(calc)\n",
    "        #    dfc = pd.DataFrame(\n",
    "         #       {\n",
    "          #          'column name': unkc_name,\n",
    "           #         'values': unkc\n",
    "            #    })\n",
    "\n",
    "#dfc.head()"
   ]
  },
  {
   "cell_type": "code",
   "execution_count": 30,
   "metadata": {},
   "outputs": [
    {
     "data": {
      "text/plain": [
       "<matplotlib.axes._subplots.AxesSubplot at 0x1a20015438>"
      ]
     },
     "execution_count": 30,
     "metadata": {},
     "output_type": "execute_result"
    },
    {
     "data": {
      "text/plain": [
       "Text(0.5, 0, 'final Outcome')"
      ]
     },
     "execution_count": 30,
     "metadata": {},
     "output_type": "execute_result"
    },
    {
     "data": {
      "text/plain": [
       "Text(0, 0.5, 'Number of Occurrences')"
      ]
     },
     "execution_count": 30,
     "metadata": {},
     "output_type": "execute_result"
    },
    {
     "data": {
      "image/png": "[encoded data removed]",
      "text/plain": [
       "<Figure size 720x504 with 1 Axes>"
      ]
     },
     "metadata": {
      "needs_background": "light"
     },
     "output_type": "display_data"
    }
   ],
   "source": [
    "# Checking for any data imbalance in the target column\n",
    "\n",
    "plt.rcParams['figure.figsize'] = (10, 7)\n",
    "bank.groupby('y')['y'].count().plot(kind = 'bar')\n",
    "plt.xlabel('final Outcome')\n",
    "plt.ylabel('Number of Occurrences')"
   ]
  },
  {
   "cell_type": "markdown",
   "metadata": {},
   "source": [
    "From the plot above, we can see that the dataset is highly imbalanced. There are almost 6 times as many 'no' cases as there are 'yes'. Therefore, for the classification task at hand, accuracy metric alone would not be a very good metric to evaluate the model. \n",
    "Since, this is a bank marketing dataset, we would like to invest in people who initiate a deposit to the bank. We would also like to minimize cases in which we predict that a person will initiate a deposit when they actually do not i.e. minimizing the False Positive cases. If we don't minimize these cases, the bank would be spending valuable resources investing in these people when they actually have no interest in investing. \n",
    "\n",
    "In other words, we would like to minimize our false positives or type 2 error. This is why, we will use the precision metric in order to evaluate our model in such cases. "
   ]
  },
  {
   "cell_type": "code",
   "execution_count": 31,
   "metadata": {},
   "outputs": [
    {
     "data": {
      "text/plain": [
       "(41188, 63)"
      ]
     },
     "execution_count": 31,
     "metadata": {},
     "output_type": "execute_result"
    },
    {
     "data": {
      "text/plain": [
       "(41188, 1)"
      ]
     },
     "execution_count": 31,
     "metadata": {},
     "output_type": "execute_result"
    }
   ],
   "source": [
    "X = bank.loc[:, bank.columns != 'y']\n",
    "y = bank.loc[:, bank.columns == 'y']\n",
    "X = X.values\n",
    "y = y.values\n",
    "X.shape\n",
    "y.shape"
   ]
  },
  {
   "cell_type": "code",
   "execution_count": 32,
   "metadata": {},
   "outputs": [],
   "source": [
    "# Splitting the dataset\n",
    "\n",
    "X_train_org, X_test_org, y_train, y_test = train_test_split(X, y, test_size = 0.2, random_state = 0)\n"
   ]
  },
  {
   "cell_type": "code",
   "execution_count": 33,
   "metadata": {},
   "outputs": [],
   "source": [
    "# Scaling the data\n",
    "\n",
    "scaler = MinMaxScaler()\n",
    "X_train = scaler.fit_transform(X_train_org)\n",
    "X_test = scaler.transform(X_test_org) "
   ]
  },
  {
   "cell_type": "markdown",
   "metadata": {},
   "source": [
    "# KNeighbors Classifier (Knn)"
   ]
  },
  {
   "cell_type": "code",
   "execution_count": 34,
   "metadata": {},
   "outputs": [],
   "source": [
    "classifier_knn = KNeighborsClassifier()\n",
    "\n",
    "params_knn = {'n_neighbors': [2, 3, 4, 5, 6, 7, 8, 9, 10],\n",
    "                      'weights': ['uniform', 'distance']}\n",
    "\n",
    "grid_knn = GridSearchCV(classifier_knn, params_knn, cv = 5, scoring = 'accuracy', iid = False)"
   ]
  },
  {
   "cell_type": "code",
   "execution_count": 35,
   "metadata": {},
   "outputs": [
    {
     "data": {
      "text/plain": [
       "GridSearchCV(cv=5, error_score='raise-deprecating',\n",
       "             estimator=KNeighborsClassifier(algorithm='auto', leaf_size=30,\n",
       "                                            metric='minkowski',\n",
       "                                            metric_params=None, n_jobs=None,\n",
       "                                            n_neighbors=5, p=2,\n",
       "                                            weights='uniform'),\n",
       "             iid=False, n_jobs=None,\n",
       "             param_grid={'n_neighbors': [2, 3, 4, 5, 6, 7, 8, 9, 10],\n",
       "                         'weights': ['uniform', 'distance']},\n",
       "             pre_dispatch='2*n_jobs', refit=True, return_train_score=False,\n",
       "             scoring='accuracy', verbose=0)"
      ]
     },
     "execution_count": 35,
     "metadata": {},
     "output_type": "execute_result"
    }
   ],
   "source": [
    "grid_knn.fit(X_train, y_train)"
   ]
  },
  {
   "cell_type": "code",
   "execution_count": 36,
   "metadata": {},
   "outputs": [
    {
     "name": "stdout",
     "output_type": "stream",
     "text": [
      "0.8952656588224219\n",
      "{'n_neighbors': 10, 'weights': 'uniform'}\n"
     ]
    }
   ],
   "source": [
    "print(grid_knn.best_score_)\n",
    "print(grid_knn.best_params_)"
   ]
  },
  {
   "cell_type": "markdown",
   "metadata": {},
   "source": [
    "After running the knn classifier, we can see that the best score we achieve is 89.52%, and the best parameters are: \n",
    "\n",
    "    1. n_neighbors: 10\n",
    "    2. weights: uniform "
   ]
  },
  {
   "cell_type": "code",
   "execution_count": 37,
   "metadata": {},
   "outputs": [
    {
     "data": {
      "text/html": [
       "<div>\n",
       "<style scoped>\n",
       "    .dataframe tbody tr th:only-of-type {\n",
       "        vertical-align: middle;\n",
       "    }\n",
       "\n",
       "    .dataframe tbody tr th {\n",
       "        vertical-align: top;\n",
       "    }\n",
       "\n",
       "    .dataframe thead th {\n",
       "        text-align: right;\n",
       "    }\n",
       "</style>\n",
       "<table border=\"1\" class=\"dataframe\">\n",
       "  <thead>\n",
       "    <tr style=\"text-align: right;\">\n",
       "      <th></th>\n",
       "      <th>mean_fit_time</th>\n",
       "      <th>std_fit_time</th>\n",
       "      <th>mean_score_time</th>\n",
       "      <th>std_score_time</th>\n",
       "      <th>param_n_neighbors</th>\n",
       "      <th>param_weights</th>\n",
       "      <th>params</th>\n",
       "      <th>split0_test_score</th>\n",
       "      <th>split1_test_score</th>\n",
       "      <th>split2_test_score</th>\n",
       "      <th>split3_test_score</th>\n",
       "      <th>split4_test_score</th>\n",
       "      <th>mean_test_score</th>\n",
       "      <th>std_test_score</th>\n",
       "      <th>rank_test_score</th>\n",
       "    </tr>\n",
       "  </thead>\n",
       "  <tbody>\n",
       "    <tr>\n",
       "      <th>0</th>\n",
       "      <td>0.217653</td>\n",
       "      <td>0.050333</td>\n",
       "      <td>6.396808</td>\n",
       "      <td>0.396810</td>\n",
       "      <td>2</td>\n",
       "      <td>uniform</td>\n",
       "      <td>{'n_neighbors': 2, 'weights': 'uniform'}</td>\n",
       "      <td>0.888939</td>\n",
       "      <td>0.891958</td>\n",
       "      <td>0.892413</td>\n",
       "      <td>0.890288</td>\n",
       "      <td>0.890423</td>\n",
       "      <td>0.890804</td>\n",
       "      <td>0.001249</td>\n",
       "      <td>8</td>\n",
       "    </tr>\n",
       "    <tr>\n",
       "      <th>1</th>\n",
       "      <td>0.205018</td>\n",
       "      <td>0.035195</td>\n",
       "      <td>6.311961</td>\n",
       "      <td>0.484427</td>\n",
       "      <td>2</td>\n",
       "      <td>distance</td>\n",
       "      <td>{'n_neighbors': 2, 'weights': 'distance'}</td>\n",
       "      <td>0.866940</td>\n",
       "      <td>0.869499</td>\n",
       "      <td>0.869954</td>\n",
       "      <td>0.868134</td>\n",
       "      <td>0.872818</td>\n",
       "      <td>0.869469</td>\n",
       "      <td>0.001982</td>\n",
       "      <td>18</td>\n",
       "    </tr>\n",
       "    <tr>\n",
       "      <th>2</th>\n",
       "      <td>0.221024</td>\n",
       "      <td>0.031179</td>\n",
       "      <td>7.920129</td>\n",
       "      <td>0.498121</td>\n",
       "      <td>3</td>\n",
       "      <td>uniform</td>\n",
       "      <td>{'n_neighbors': 3, 'weights': 'uniform'}</td>\n",
       "      <td>0.885753</td>\n",
       "      <td>0.888771</td>\n",
       "      <td>0.889985</td>\n",
       "      <td>0.888316</td>\n",
       "      <td>0.893762</td>\n",
       "      <td>0.889317</td>\n",
       "      <td>0.002616</td>\n",
       "      <td>10</td>\n",
       "    </tr>\n",
       "    <tr>\n",
       "      <th>3</th>\n",
       "      <td>0.214805</td>\n",
       "      <td>0.039918</td>\n",
       "      <td>7.285005</td>\n",
       "      <td>0.512204</td>\n",
       "      <td>3</td>\n",
       "      <td>distance</td>\n",
       "      <td>{'n_neighbors': 3, 'weights': 'distance'}</td>\n",
       "      <td>0.876953</td>\n",
       "      <td>0.878149</td>\n",
       "      <td>0.882246</td>\n",
       "      <td>0.881791</td>\n",
       "      <td>0.882987</td>\n",
       "      <td>0.880425</td>\n",
       "      <td>0.002407</td>\n",
       "      <td>17</td>\n",
       "    </tr>\n",
       "    <tr>\n",
       "      <th>4</th>\n",
       "      <td>0.211153</td>\n",
       "      <td>0.038005</td>\n",
       "      <td>8.768539</td>\n",
       "      <td>0.996208</td>\n",
       "      <td>4</td>\n",
       "      <td>uniform</td>\n",
       "      <td>{'n_neighbors': 4, 'weights': 'uniform'}</td>\n",
       "      <td>0.889850</td>\n",
       "      <td>0.894234</td>\n",
       "      <td>0.894537</td>\n",
       "      <td>0.892564</td>\n",
       "      <td>0.894066</td>\n",
       "      <td>0.893050</td>\n",
       "      <td>0.001739</td>\n",
       "      <td>5</td>\n",
       "    </tr>\n",
       "    <tr>\n",
       "      <th>5</th>\n",
       "      <td>0.209634</td>\n",
       "      <td>0.037578</td>\n",
       "      <td>8.042277</td>\n",
       "      <td>0.464126</td>\n",
       "      <td>4</td>\n",
       "      <td>distance</td>\n",
       "      <td>{'n_neighbors': 4, 'weights': 'distance'}</td>\n",
       "      <td>0.877105</td>\n",
       "      <td>0.879514</td>\n",
       "      <td>0.880121</td>\n",
       "      <td>0.881487</td>\n",
       "      <td>0.884049</td>\n",
       "      <td>0.880455</td>\n",
       "      <td>0.002289</td>\n",
       "      <td>16</td>\n",
       "    </tr>\n",
       "    <tr>\n",
       "      <th>6</th>\n",
       "      <td>0.206243</td>\n",
       "      <td>0.034258</td>\n",
       "      <td>8.822514</td>\n",
       "      <td>0.574865</td>\n",
       "      <td>5</td>\n",
       "      <td>uniform</td>\n",
       "      <td>{'n_neighbors': 5, 'weights': 'uniform'}</td>\n",
       "      <td>0.887119</td>\n",
       "      <td>0.892261</td>\n",
       "      <td>0.893323</td>\n",
       "      <td>0.893171</td>\n",
       "      <td>0.895280</td>\n",
       "      <td>0.892231</td>\n",
       "      <td>0.002739</td>\n",
       "      <td>7</td>\n",
       "    </tr>\n",
       "    <tr>\n",
       "      <th>7</th>\n",
       "      <td>0.212207</td>\n",
       "      <td>0.036150</td>\n",
       "      <td>8.772530</td>\n",
       "      <td>0.592753</td>\n",
       "      <td>5</td>\n",
       "      <td>distance</td>\n",
       "      <td>{'n_neighbors': 5, 'weights': 'distance'}</td>\n",
       "      <td>0.879988</td>\n",
       "      <td>0.884067</td>\n",
       "      <td>0.885888</td>\n",
       "      <td>0.884522</td>\n",
       "      <td>0.887085</td>\n",
       "      <td>0.884310</td>\n",
       "      <td>0.002407</td>\n",
       "      <td>15</td>\n",
       "    </tr>\n",
       "    <tr>\n",
       "      <th>8</th>\n",
       "      <td>0.207039</td>\n",
       "      <td>0.036912</td>\n",
       "      <td>9.564589</td>\n",
       "      <td>0.649084</td>\n",
       "      <td>6</td>\n",
       "      <td>uniform</td>\n",
       "      <td>{'n_neighbors': 6, 'weights': 'uniform'}</td>\n",
       "      <td>0.890153</td>\n",
       "      <td>0.893020</td>\n",
       "      <td>0.893475</td>\n",
       "      <td>0.893020</td>\n",
       "      <td>0.895432</td>\n",
       "      <td>0.893020</td>\n",
       "      <td>0.001688</td>\n",
       "      <td>6</td>\n",
       "    </tr>\n",
       "    <tr>\n",
       "      <th>9</th>\n",
       "      <td>0.208306</td>\n",
       "      <td>0.035473</td>\n",
       "      <td>9.319532</td>\n",
       "      <td>0.647268</td>\n",
       "      <td>6</td>\n",
       "      <td>distance</td>\n",
       "      <td>{'n_neighbors': 6, 'weights': 'distance'}</td>\n",
       "      <td>0.880291</td>\n",
       "      <td>0.884825</td>\n",
       "      <td>0.886798</td>\n",
       "      <td>0.885584</td>\n",
       "      <td>0.887540</td>\n",
       "      <td>0.885008</td>\n",
       "      <td>0.002539</td>\n",
       "      <td>14</td>\n",
       "    </tr>\n",
       "    <tr>\n",
       "      <th>10</th>\n",
       "      <td>0.210874</td>\n",
       "      <td>0.037388</td>\n",
       "      <td>9.916933</td>\n",
       "      <td>0.714557</td>\n",
       "      <td>7</td>\n",
       "      <td>uniform</td>\n",
       "      <td>{'n_neighbors': 7, 'weights': 'uniform'}</td>\n",
       "      <td>0.888181</td>\n",
       "      <td>0.894841</td>\n",
       "      <td>0.894992</td>\n",
       "      <td>0.892564</td>\n",
       "      <td>0.895432</td>\n",
       "      <td>0.893202</td>\n",
       "      <td>0.002701</td>\n",
       "      <td>4</td>\n",
       "    </tr>\n",
       "    <tr>\n",
       "      <th>11</th>\n",
       "      <td>0.210519</td>\n",
       "      <td>0.038413</td>\n",
       "      <td>9.808074</td>\n",
       "      <td>0.651015</td>\n",
       "      <td>7</td>\n",
       "      <td>distance</td>\n",
       "      <td>{'n_neighbors': 7, 'weights': 'distance'}</td>\n",
       "      <td>0.881960</td>\n",
       "      <td>0.886039</td>\n",
       "      <td>0.889530</td>\n",
       "      <td>0.886950</td>\n",
       "      <td>0.889513</td>\n",
       "      <td>0.886798</td>\n",
       "      <td>0.002787</td>\n",
       "      <td>13</td>\n",
       "    </tr>\n",
       "    <tr>\n",
       "      <th>12</th>\n",
       "      <td>0.210101</td>\n",
       "      <td>0.037585</td>\n",
       "      <td>10.321069</td>\n",
       "      <td>0.666027</td>\n",
       "      <td>8</td>\n",
       "      <td>uniform</td>\n",
       "      <td>{'n_neighbors': 8, 'weights': 'uniform'}</td>\n",
       "      <td>0.892126</td>\n",
       "      <td>0.894234</td>\n",
       "      <td>0.895751</td>\n",
       "      <td>0.893323</td>\n",
       "      <td>0.897557</td>\n",
       "      <td>0.894598</td>\n",
       "      <td>0.001895</td>\n",
       "      <td>3</td>\n",
       "    </tr>\n",
       "    <tr>\n",
       "      <th>13</th>\n",
       "      <td>0.208671</td>\n",
       "      <td>0.036892</td>\n",
       "      <td>10.075614</td>\n",
       "      <td>0.576227</td>\n",
       "      <td>8</td>\n",
       "      <td>distance</td>\n",
       "      <td>{'n_neighbors': 8, 'weights': 'distance'}</td>\n",
       "      <td>0.883022</td>\n",
       "      <td>0.888164</td>\n",
       "      <td>0.890137</td>\n",
       "      <td>0.886495</td>\n",
       "      <td>0.891638</td>\n",
       "      <td>0.887891</td>\n",
       "      <td>0.002994</td>\n",
       "      <td>12</td>\n",
       "    </tr>\n",
       "    <tr>\n",
       "      <th>14</th>\n",
       "      <td>0.205729</td>\n",
       "      <td>0.033831</td>\n",
       "      <td>10.811739</td>\n",
       "      <td>0.710100</td>\n",
       "      <td>9</td>\n",
       "      <td>uniform</td>\n",
       "      <td>{'n_neighbors': 9, 'weights': 'uniform'}</td>\n",
       "      <td>0.891367</td>\n",
       "      <td>0.895296</td>\n",
       "      <td>0.896662</td>\n",
       "      <td>0.893171</td>\n",
       "      <td>0.898619</td>\n",
       "      <td>0.895023</td>\n",
       "      <td>0.002549</td>\n",
       "      <td>2</td>\n",
       "    </tr>\n",
       "    <tr>\n",
       "      <th>15</th>\n",
       "      <td>0.208762</td>\n",
       "      <td>0.036401</td>\n",
       "      <td>10.483784</td>\n",
       "      <td>0.646486</td>\n",
       "      <td>9</td>\n",
       "      <td>distance</td>\n",
       "      <td>{'n_neighbors': 9, 'weights': 'distance'}</td>\n",
       "      <td>0.885602</td>\n",
       "      <td>0.888164</td>\n",
       "      <td>0.891047</td>\n",
       "      <td>0.889074</td>\n",
       "      <td>0.892548</td>\n",
       "      <td>0.889287</td>\n",
       "      <td>0.002393</td>\n",
       "      <td>11</td>\n",
       "    </tr>\n",
       "    <tr>\n",
       "      <th>16</th>\n",
       "      <td>0.207405</td>\n",
       "      <td>0.034968</td>\n",
       "      <td>11.234802</td>\n",
       "      <td>0.771907</td>\n",
       "      <td>10</td>\n",
       "      <td>uniform</td>\n",
       "      <td>{'n_neighbors': 10, 'weights': 'uniform'}</td>\n",
       "      <td>0.893036</td>\n",
       "      <td>0.896662</td>\n",
       "      <td>0.896055</td>\n",
       "      <td>0.894082</td>\n",
       "      <td>0.896494</td>\n",
       "      <td>0.895266</td>\n",
       "      <td>0.001446</td>\n",
       "      <td>1</td>\n",
       "    </tr>\n",
       "    <tr>\n",
       "      <th>17</th>\n",
       "      <td>0.209822</td>\n",
       "      <td>0.034931</td>\n",
       "      <td>10.869640</td>\n",
       "      <td>0.765471</td>\n",
       "      <td>10</td>\n",
       "      <td>distance</td>\n",
       "      <td>{'n_neighbors': 10, 'weights': 'distance'}</td>\n",
       "      <td>0.884995</td>\n",
       "      <td>0.889074</td>\n",
       "      <td>0.892413</td>\n",
       "      <td>0.889226</td>\n",
       "      <td>0.891486</td>\n",
       "      <td>0.889439</td>\n",
       "      <td>0.002568</td>\n",
       "      <td>9</td>\n",
       "    </tr>\n",
       "  </tbody>\n",
       "</table>\n",
       "</div>"
      ],
      "text/plain": [
       "    mean_fit_time  std_fit_time  mean_score_time  std_score_time  \\\n",
       "0        0.217653      0.050333         6.396808        0.396810   \n",
       "1        0.205018      0.035195         6.311961        0.484427   \n",
       "2        0.221024      0.031179         7.920129        0.498121   \n",
       "3        0.214805      0.039918         7.285005        0.512204   \n",
       "4        0.211153      0.038005         8.768539        0.996208   \n",
       "5        0.209634      0.037578         8.042277        0.464126   \n",
       "6        0.206243      0.034258         8.822514        0.574865   \n",
       "7        0.212207      0.036150         8.772530        0.592753   \n",
       "8        0.207039      0.036912         9.564589        0.649084   \n",
       "9        0.208306      0.035473         9.319532        0.647268   \n",
       "10       0.210874      0.037388         9.916933        0.714557   \n",
       "11       0.210519      0.038413         9.808074        0.651015   \n",
       "12       0.210101      0.037585        10.321069        0.666027   \n",
       "13       0.208671      0.036892        10.075614        0.576227   \n",
       "14       0.205729      0.033831        10.811739        0.710100   \n",
       "15       0.208762      0.036401        10.483784        0.646486   \n",
       "16       0.207405      0.034968        11.234802        0.771907   \n",
       "17       0.209822      0.034931        10.869640        0.765471   \n",
       "\n",
       "   param_n_neighbors param_weights  \\\n",
       "0                  2       uniform   \n",
       "1                  2      distance   \n",
       "2                  3       uniform   \n",
       "3                  3      distance   \n",
       "4                  4       uniform   \n",
       "5                  4      distance   \n",
       "6                  5       uniform   \n",
       "7                  5      distance   \n",
       "8                  6       uniform   \n",
       "9                  6      distance   \n",
       "10                 7       uniform   \n",
       "11                 7      distance   \n",
       "12                 8       uniform   \n",
       "13                 8      distance   \n",
       "14                 9       uniform   \n",
       "15                 9      distance   \n",
       "16                10       uniform   \n",
       "17                10      distance   \n",
       "\n",
       "                                        params  split0_test_score  \\\n",
       "0     {'n_neighbors': 2, 'weights': 'uniform'}           0.888939   \n",
       "1    {'n_neighbors': 2, 'weights': 'distance'}           0.866940   \n",
       "2     {'n_neighbors': 3, 'weights': 'uniform'}           0.885753   \n",
       "3    {'n_neighbors': 3, 'weights': 'distance'}           0.876953   \n",
       "4     {'n_neighbors': 4, 'weights': 'uniform'}           0.889850   \n",
       "5    {'n_neighbors': 4, 'weights': 'distance'}           0.877105   \n",
       "6     {'n_neighbors': 5, 'weights': 'uniform'}           0.887119   \n",
       "7    {'n_neighbors': 5, 'weights': 'distance'}           0.879988   \n",
       "8     {'n_neighbors': 6, 'weights': 'uniform'}           0.890153   \n",
       "9    {'n_neighbors': 6, 'weights': 'distance'}           0.880291   \n",
       "10    {'n_neighbors': 7, 'weights': 'uniform'}           0.888181   \n",
       "11   {'n_neighbors': 7, 'weights': 'distance'}           0.881960   \n",
       "12    {'n_neighbors': 8, 'weights': 'uniform'}           0.892126   \n",
       "13   {'n_neighbors': 8, 'weights': 'distance'}           0.883022   \n",
       "14    {'n_neighbors': 9, 'weights': 'uniform'}           0.891367   \n",
       "15   {'n_neighbors': 9, 'weights': 'distance'}           0.885602   \n",
       "16   {'n_neighbors': 10, 'weights': 'uniform'}           0.893036   \n",
       "17  {'n_neighbors': 10, 'weights': 'distance'}           0.884995   \n",
       "\n",
       "    split1_test_score  split2_test_score  split3_test_score  \\\n",
       "0            0.891958           0.892413           0.890288   \n",
       "1            0.869499           0.869954           0.868134   \n",
       "2            0.888771           0.889985           0.888316   \n",
       "3            0.878149           0.882246           0.881791   \n",
       "4            0.894234           0.894537           0.892564   \n",
       "5            0.879514           0.880121           0.881487   \n",
       "6            0.892261           0.893323           0.893171   \n",
       "7            0.884067           0.885888           0.884522   \n",
       "8            0.893020           0.893475           0.893020   \n",
       "9            0.884825           0.886798           0.885584   \n",
       "10           0.894841           0.894992           0.892564   \n",
       "11           0.886039           0.889530           0.886950   \n",
       "12           0.894234           0.895751           0.893323   \n",
       "13           0.888164           0.890137           0.886495   \n",
       "14           0.895296           0.896662           0.893171   \n",
       "15           0.888164           0.891047           0.889074   \n",
       "16           0.896662           0.896055           0.894082   \n",
       "17           0.889074           0.892413           0.889226   \n",
       "\n",
       "    split4_test_score  mean_test_score  std_test_score  rank_test_score  \n",
       "0            0.890423         0.890804        0.001249                8  \n",
       "1            0.872818         0.869469        0.001982               18  \n",
       "2            0.893762         0.889317        0.002616               10  \n",
       "3            0.882987         0.880425        0.002407               17  \n",
       "4            0.894066         0.893050        0.001739                5  \n",
       "5            0.884049         0.880455        0.002289               16  \n",
       "6            0.895280         0.892231        0.002739                7  \n",
       "7            0.887085         0.884310        0.002407               15  \n",
       "8            0.895432         0.893020        0.001688                6  \n",
       "9            0.887540         0.885008        0.002539               14  \n",
       "10           0.895432         0.893202        0.002701                4  \n",
       "11           0.889513         0.886798        0.002787               13  \n",
       "12           0.897557         0.894598        0.001895                3  \n",
       "13           0.891638         0.887891        0.002994               12  \n",
       "14           0.898619         0.895023        0.002549                2  \n",
       "15           0.892548         0.889287        0.002393               11  \n",
       "16           0.896494         0.895266        0.001446                1  \n",
       "17           0.891486         0.889439        0.002568                9  "
      ]
     },
     "execution_count": 37,
     "metadata": {},
     "output_type": "execute_result"
    }
   ],
   "source": [
    "results_knn = pd.DataFrame(grid_knn.cv_results_)\n",
    "results_knn.head(20)"
   ]
  },
  {
   "cell_type": "code",
   "execution_count": 38,
   "metadata": {},
   "outputs": [
    {
     "data": {
      "text/plain": [
       "array([[28952,   277],\n",
       "       [ 2928,   793]])"
      ]
     },
     "execution_count": 38,
     "metadata": {},
     "output_type": "execute_result"
    }
   ],
   "source": [
    "y_pred_knn = grid_knn.predict(X_train)\n",
    "confusion_matrix(y_train, y_pred_knn)"
   ]
  },
  {
   "cell_type": "markdown",
   "metadata": {},
   "source": [
    "From the above confusion matrix, we can see that the amount of False Positives we have is 277. Since for our problem, we need to minimize cases where we are investing in customers who have no intention of initiating a deposit, we need to minimize the False Positives as much as we can. "
   ]
  },
  {
   "cell_type": "code",
   "execution_count": 39,
   "metadata": {},
   "outputs": [
    {
     "name": "stdout",
     "output_type": "stream",
     "text": [
      "              precision    recall  f1-score   support\n",
      "\n",
      "           0       0.91      0.99      0.95     29229\n",
      "           1       0.74      0.21      0.33      3721\n",
      "\n",
      "    accuracy                           0.90     32950\n",
      "   macro avg       0.82      0.60      0.64     32950\n",
      "weighted avg       0.89      0.90      0.88     32950\n",
      "\n"
     ]
    }
   ],
   "source": [
    "print(classification_report(y_train, y_pred_knn))"
   ]
  },
  {
   "cell_type": "markdown",
   "metadata": {},
   "source": [
    "Here, we can see that the precision on correctly guessing the label '1' is approximately 74%. We need to increase the precision without compromising on the overall accuracy. One way the precision can be increased is by decreasing the number of false positives."
   ]
  },
  {
   "cell_type": "code",
   "execution_count": 40,
   "metadata": {},
   "outputs": [
    {
     "data": {
      "text/plain": [
       "0.6018189323538435"
      ]
     },
     "execution_count": 40,
     "metadata": {},
     "output_type": "execute_result"
    }
   ],
   "source": [
    "roc_auc_score(y_train, y_pred_knn)"
   ]
  },
  {
   "cell_type": "code",
   "execution_count": 41,
   "metadata": {},
   "outputs": [
    {
     "data": {
      "text/plain": [
       "array([2. , 1. , 0.9, 0.8, 0.7, 0.6, 0.5, 0.4, 0.3, 0.2, 0.1, 0. ])"
      ]
     },
     "execution_count": 41,
     "metadata": {},
     "output_type": "execute_result"
    }
   ],
   "source": [
    "y_train_prob = grid_knn.predict_proba(X_train)\n",
    "fpr, tpr, threshold = roc_curve(y_train, y_train_prob[:,1])\n",
    "threshold"
   ]
  },
  {
   "cell_type": "code",
   "execution_count": 42,
   "metadata": {},
   "outputs": [
    {
     "data": {
      "text/plain": [
       "[<matplotlib.lines.Line2D at 0x1a23384908>]"
      ]
     },
     "execution_count": 42,
     "metadata": {},
     "output_type": "execute_result"
    },
    {
     "data": {
      "text/plain": [
       "Text(0.5, 0, 'FPR')"
      ]
     },
     "execution_count": 42,
     "metadata": {},
     "output_type": "execute_result"
    },
    {
     "data": {
      "text/plain": [
       "Text(0, 0.5, 'TPR')"
      ]
     },
     "execution_count": 42,
     "metadata": {},
     "output_type": "execute_result"
    },
    {
     "data": {
      "image/png": "[encoded data removed]",
      "text/plain": [
       "<Figure size 432x288 with 1 Axes>"
      ]
     },
     "metadata": {
      "needs_background": "light"
     },
     "output_type": "display_data"
    }
   ],
   "source": [
    "%matplotlib inline\n",
    "\n",
    "plt.plot(fpr, tpr)\n",
    "plt.xlabel('FPR')\n",
    "plt.ylabel('TPR')"
   ]
  },
  {
   "cell_type": "markdown",
   "metadata": {},
   "source": [
    "Data Post Processing"
   ]
  },
  {
   "cell_type": "code",
   "execution_count": 45,
   "metadata": {},
   "outputs": [
    {
     "data": {
      "text/plain": [
       "array([0.1, 0. , 0.6, ..., 0.7, 0. , 0. ])"
      ]
     },
     "execution_count": 45,
     "metadata": {},
     "output_type": "execute_result"
    },
    {
     "data": {
      "text/plain": [
       "array([0, 0, 0, ..., 0, 0, 0])"
      ]
     },
     "execution_count": 45,
     "metadata": {},
     "output_type": "execute_result"
    },
    {
     "data": {
      "text/plain": [
       "array([[29198,    31],\n",
       "       [ 3468,   253]])"
      ]
     },
     "execution_count": 45,
     "metadata": {},
     "output_type": "execute_result"
    },
    {
     "name": "stdout",
     "output_type": "stream",
     "text": [
      "              precision    recall  f1-score   support\n",
      "\n",
      "           0       0.89      1.00      0.94     29229\n",
      "           1       0.89      0.07      0.13      3721\n",
      "\n",
      "    accuracy                           0.89     32950\n",
      "   macro avg       0.89      0.53      0.53     32950\n",
      "weighted avg       0.89      0.89      0.85     32950\n",
      "\n"
     ]
    }
   ],
   "source": [
    "y_train_prob[:,1]\n",
    "y_pred = np.where(y_train_prob[:,1] > 0.7, 1, 0)\n",
    "y_pred\n",
    "confusion_matrix(y_train, y_pred)\n",
    "print(classification_report(y_train, y_pred))"
   ]
  },
  {
   "cell_type": "markdown",
   "metadata": {},
   "source": [
    "By increasing the predict_proba threshold from the default value of 50% to 70%, we have significantly increased our precision and decreased our false positive cases. The model only labels an instance as '1' when the predicted probability of it being '1' is more than 70%. Increasing the precision, for label '1', from 74% to 89% did not significantly change the overall model accuracy of 89%. "
   ]
  },
  {
   "cell_type": "markdown",
   "metadata": {},
   "source": [
    "# Logistic Regression "
   ]
  },
  {
   "cell_type": "code",
   "execution_count": 46,
   "metadata": {},
   "outputs": [],
   "source": [
    "classifier_logistic = LogisticRegression(random_state = 0)\n",
    "\n",
    "params_logistic = {'C': [0.01, 0.1, 1, 10, 25],\n",
    "                  'solver': ['liblinear', 'sag']}\n",
    "\n",
    "grid_logistic = GridSearchCV(classifier_logistic, params_logistic, cv = 5, scoring = 'accuracy')"
   ]
  },
  {
   "cell_type": "code",
   "execution_count": 47,
   "metadata": {},
   "outputs": [
    {
     "data": {
      "text/plain": [
       "GridSearchCV(cv=5, error_score='raise-deprecating',\n",
       "             estimator=LogisticRegression(C=1.0, class_weight=None, dual=False,\n",
       "                                          fit_intercept=True,\n",
       "                                          intercept_scaling=1, l1_ratio=None,\n",
       "                                          max_iter=100, multi_class='warn',\n",
       "                                          n_jobs=None, penalty='l2',\n",
       "                                          random_state=0, solver='warn',\n",
       "                                          tol=0.0001, verbose=0,\n",
       "                                          warm_start=False),\n",
       "             iid='warn', n_jobs=None,\n",
       "             param_grid={'C': [0.01, 0.1, 1, 10, 25],\n",
       "                         'solver': ['liblinear', 'sag']},\n",
       "             pre_dispatch='2*n_jobs', refit=True, return_train_score=False,\n",
       "             scoring='accuracy', verbose=0)"
      ]
     },
     "execution_count": 47,
     "metadata": {},
     "output_type": "execute_result"
    }
   ],
   "source": [
    "grid_logistic.fit(X_train, y_train)"
   ]
  },
  {
   "cell_type": "code",
   "execution_count": 48,
   "metadata": {},
   "outputs": [
    {
     "name": "stdout",
     "output_type": "stream",
     "text": [
      "0.9094688922610015\n",
      "{'C': 25, 'solver': 'sag'}\n"
     ]
    }
   ],
   "source": [
    "print(grid_logistic.best_score_)\n",
    "print(grid_logistic.best_params_)"
   ]
  },
  {
   "cell_type": "markdown",
   "metadata": {},
   "source": [
    "After running the logistic regression model, the model produced an accuracy of 90%, and the following parameters were the best: \n",
    "\n",
    "    1. C: 25\n",
    "    2. solver: sag"
   ]
  },
  {
   "cell_type": "code",
   "execution_count": 49,
   "metadata": {},
   "outputs": [
    {
     "data": {
      "text/html": [
       "<div>\n",
       "<style scoped>\n",
       "    .dataframe tbody tr th:only-of-type {\n",
       "        vertical-align: middle;\n",
       "    }\n",
       "\n",
       "    .dataframe tbody tr th {\n",
       "        vertical-align: top;\n",
       "    }\n",
       "\n",
       "    .dataframe thead th {\n",
       "        text-align: right;\n",
       "    }\n",
       "</style>\n",
       "<table border=\"1\" class=\"dataframe\">\n",
       "  <thead>\n",
       "    <tr style=\"text-align: right;\">\n",
       "      <th></th>\n",
       "      <th>mean_fit_time</th>\n",
       "      <th>std_fit_time</th>\n",
       "      <th>mean_score_time</th>\n",
       "      <th>std_score_time</th>\n",
       "      <th>param_C</th>\n",
       "      <th>param_solver</th>\n",
       "      <th>params</th>\n",
       "      <th>split0_test_score</th>\n",
       "      <th>split1_test_score</th>\n",
       "      <th>split2_test_score</th>\n",
       "      <th>split3_test_score</th>\n",
       "      <th>split4_test_score</th>\n",
       "      <th>mean_test_score</th>\n",
       "      <th>std_test_score</th>\n",
       "      <th>rank_test_score</th>\n",
       "    </tr>\n",
       "  </thead>\n",
       "  <tbody>\n",
       "    <tr>\n",
       "      <th>0</th>\n",
       "      <td>0.126464</td>\n",
       "      <td>0.106037</td>\n",
       "      <td>0.001296</td>\n",
       "      <td>0.000897</td>\n",
       "      <td>0.01</td>\n",
       "      <td>liblinear</td>\n",
       "      <td>{'C': 0.01, 'solver': 'liblinear'}</td>\n",
       "      <td>0.897132</td>\n",
       "      <td>0.898483</td>\n",
       "      <td>0.898938</td>\n",
       "      <td>0.898179</td>\n",
       "      <td>0.898164</td>\n",
       "      <td>0.898179</td>\n",
       "      <td>0.000594</td>\n",
       "      <td>10</td>\n",
       "    </tr>\n",
       "    <tr>\n",
       "      <th>1</th>\n",
       "      <td>0.206221</td>\n",
       "      <td>0.014614</td>\n",
       "      <td>0.000989</td>\n",
       "      <td>0.000184</td>\n",
       "      <td>0.01</td>\n",
       "      <td>sag</td>\n",
       "      <td>{'C': 0.01, 'solver': 'sag'}</td>\n",
       "      <td>0.897284</td>\n",
       "      <td>0.898634</td>\n",
       "      <td>0.898938</td>\n",
       "      <td>0.898179</td>\n",
       "      <td>0.898771</td>\n",
       "      <td>0.898361</td>\n",
       "      <td>0.000595</td>\n",
       "      <td>9</td>\n",
       "    </tr>\n",
       "    <tr>\n",
       "      <th>2</th>\n",
       "      <td>0.110137</td>\n",
       "      <td>0.008472</td>\n",
       "      <td>0.000770</td>\n",
       "      <td>0.000029</td>\n",
       "      <td>0.1</td>\n",
       "      <td>liblinear</td>\n",
       "      <td>{'C': 0.1, 'solver': 'liblinear'}</td>\n",
       "      <td>0.902443</td>\n",
       "      <td>0.905008</td>\n",
       "      <td>0.904401</td>\n",
       "      <td>0.903490</td>\n",
       "      <td>0.906359</td>\n",
       "      <td>0.904340</td>\n",
       "      <td>0.001330</td>\n",
       "      <td>8</td>\n",
       "    </tr>\n",
       "    <tr>\n",
       "      <th>3</th>\n",
       "      <td>0.278469</td>\n",
       "      <td>0.008671</td>\n",
       "      <td>0.000784</td>\n",
       "      <td>0.000016</td>\n",
       "      <td>0.1</td>\n",
       "      <td>sag</td>\n",
       "      <td>{'C': 0.1, 'solver': 'sag'}</td>\n",
       "      <td>0.902594</td>\n",
       "      <td>0.905008</td>\n",
       "      <td>0.904401</td>\n",
       "      <td>0.903642</td>\n",
       "      <td>0.906207</td>\n",
       "      <td>0.904370</td>\n",
       "      <td>0.001222</td>\n",
       "      <td>7</td>\n",
       "    </tr>\n",
       "    <tr>\n",
       "      <th>4</th>\n",
       "      <td>0.179219</td>\n",
       "      <td>0.009993</td>\n",
       "      <td>0.000826</td>\n",
       "      <td>0.000012</td>\n",
       "      <td>1</td>\n",
       "      <td>liblinear</td>\n",
       "      <td>{'C': 1, 'solver': 'liblinear'}</td>\n",
       "      <td>0.906084</td>\n",
       "      <td>0.910622</td>\n",
       "      <td>0.905615</td>\n",
       "      <td>0.907436</td>\n",
       "      <td>0.908787</td>\n",
       "      <td>0.907709</td>\n",
       "      <td>0.001830</td>\n",
       "      <td>6</td>\n",
       "    </tr>\n",
       "    <tr>\n",
       "      <th>5</th>\n",
       "      <td>0.573597</td>\n",
       "      <td>0.028471</td>\n",
       "      <td>0.000788</td>\n",
       "      <td>0.000024</td>\n",
       "      <td>1</td>\n",
       "      <td>sag</td>\n",
       "      <td>{'C': 1, 'solver': 'sag'}</td>\n",
       "      <td>0.906084</td>\n",
       "      <td>0.910622</td>\n",
       "      <td>0.905766</td>\n",
       "      <td>0.907436</td>\n",
       "      <td>0.908939</td>\n",
       "      <td>0.907769</td>\n",
       "      <td>0.001815</td>\n",
       "      <td>5</td>\n",
       "    </tr>\n",
       "    <tr>\n",
       "      <th>6</th>\n",
       "      <td>0.211437</td>\n",
       "      <td>0.019865</td>\n",
       "      <td>0.000829</td>\n",
       "      <td>0.000021</td>\n",
       "      <td>10</td>\n",
       "      <td>liblinear</td>\n",
       "      <td>{'C': 10, 'solver': 'liblinear'}</td>\n",
       "      <td>0.908208</td>\n",
       "      <td>0.910015</td>\n",
       "      <td>0.908649</td>\n",
       "      <td>0.908649</td>\n",
       "      <td>0.911367</td>\n",
       "      <td>0.909378</td>\n",
       "      <td>0.001166</td>\n",
       "      <td>2</td>\n",
       "    </tr>\n",
       "    <tr>\n",
       "      <th>7</th>\n",
       "      <td>0.954324</td>\n",
       "      <td>0.188747</td>\n",
       "      <td>0.000861</td>\n",
       "      <td>0.000086</td>\n",
       "      <td>10</td>\n",
       "      <td>sag</td>\n",
       "      <td>{'C': 10, 'solver': 'sag'}</td>\n",
       "      <td>0.908208</td>\n",
       "      <td>0.909712</td>\n",
       "      <td>0.908649</td>\n",
       "      <td>0.908649</td>\n",
       "      <td>0.911367</td>\n",
       "      <td>0.909317</td>\n",
       "      <td>0.001138</td>\n",
       "      <td>4</td>\n",
       "    </tr>\n",
       "    <tr>\n",
       "      <th>8</th>\n",
       "      <td>0.224450</td>\n",
       "      <td>0.025819</td>\n",
       "      <td>0.000832</td>\n",
       "      <td>0.000027</td>\n",
       "      <td>25</td>\n",
       "      <td>liblinear</td>\n",
       "      <td>{'C': 25, 'solver': 'liblinear'}</td>\n",
       "      <td>0.908663</td>\n",
       "      <td>0.910319</td>\n",
       "      <td>0.908194</td>\n",
       "      <td>0.908042</td>\n",
       "      <td>0.911671</td>\n",
       "      <td>0.909378</td>\n",
       "      <td>0.001403</td>\n",
       "      <td>2</td>\n",
       "    </tr>\n",
       "    <tr>\n",
       "      <th>9</th>\n",
       "      <td>0.999066</td>\n",
       "      <td>0.208931</td>\n",
       "      <td>0.000793</td>\n",
       "      <td>0.000023</td>\n",
       "      <td>25</td>\n",
       "      <td>sag</td>\n",
       "      <td>{'C': 25, 'solver': 'sag'}</td>\n",
       "      <td>0.908663</td>\n",
       "      <td>0.910470</td>\n",
       "      <td>0.908498</td>\n",
       "      <td>0.908042</td>\n",
       "      <td>0.911671</td>\n",
       "      <td>0.909469</td>\n",
       "      <td>0.001377</td>\n",
       "      <td>1</td>\n",
       "    </tr>\n",
       "  </tbody>\n",
       "</table>\n",
       "</div>"
      ],
      "text/plain": [
       "   mean_fit_time  std_fit_time  mean_score_time  std_score_time param_C  \\\n",
       "0       0.126464      0.106037         0.001296        0.000897    0.01   \n",
       "1       0.206221      0.014614         0.000989        0.000184    0.01   \n",
       "2       0.110137      0.008472         0.000770        0.000029     0.1   \n",
       "3       0.278469      0.008671         0.000784        0.000016     0.1   \n",
       "4       0.179219      0.009993         0.000826        0.000012       1   \n",
       "5       0.573597      0.028471         0.000788        0.000024       1   \n",
       "6       0.211437      0.019865         0.000829        0.000021      10   \n",
       "7       0.954324      0.188747         0.000861        0.000086      10   \n",
       "8       0.224450      0.025819         0.000832        0.000027      25   \n",
       "9       0.999066      0.208931         0.000793        0.000023      25   \n",
       "\n",
       "  param_solver                              params  split0_test_score  \\\n",
       "0    liblinear  {'C': 0.01, 'solver': 'liblinear'}           0.897132   \n",
       "1          sag        {'C': 0.01, 'solver': 'sag'}           0.897284   \n",
       "2    liblinear   {'C': 0.1, 'solver': 'liblinear'}           0.902443   \n",
       "3          sag         {'C': 0.1, 'solver': 'sag'}           0.902594   \n",
       "4    liblinear     {'C': 1, 'solver': 'liblinear'}           0.906084   \n",
       "5          sag           {'C': 1, 'solver': 'sag'}           0.906084   \n",
       "6    liblinear    {'C': 10, 'solver': 'liblinear'}           0.908208   \n",
       "7          sag          {'C': 10, 'solver': 'sag'}           0.908208   \n",
       "8    liblinear    {'C': 25, 'solver': 'liblinear'}           0.908663   \n",
       "9          sag          {'C': 25, 'solver': 'sag'}           0.908663   \n",
       "\n",
       "   split1_test_score  split2_test_score  split3_test_score  split4_test_score  \\\n",
       "0           0.898483           0.898938           0.898179           0.898164   \n",
       "1           0.898634           0.898938           0.898179           0.898771   \n",
       "2           0.905008           0.904401           0.903490           0.906359   \n",
       "3           0.905008           0.904401           0.903642           0.906207   \n",
       "4           0.910622           0.905615           0.907436           0.908787   \n",
       "5           0.910622           0.905766           0.907436           0.908939   \n",
       "6           0.910015           0.908649           0.908649           0.911367   \n",
       "7           0.909712           0.908649           0.908649           0.911367   \n",
       "8           0.910319           0.908194           0.908042           0.911671   \n",
       "9           0.910470           0.908498           0.908042           0.911671   \n",
       "\n",
       "   mean_test_score  std_test_score  rank_test_score  \n",
       "0         0.898179        0.000594               10  \n",
       "1         0.898361        0.000595                9  \n",
       "2         0.904340        0.001330                8  \n",
       "3         0.904370        0.001222                7  \n",
       "4         0.907709        0.001830                6  \n",
       "5         0.907769        0.001815                5  \n",
       "6         0.909378        0.001166                2  \n",
       "7         0.909317        0.001138                4  \n",
       "8         0.909378        0.001403                2  \n",
       "9         0.909469        0.001377                1  "
      ]
     },
     "execution_count": 49,
     "metadata": {},
     "output_type": "execute_result"
    }
   ],
   "source": [
    "results_logistic = pd.DataFrame(grid_logistic.cv_results_)\n",
    "results_logistic.head(20)"
   ]
  },
  {
   "cell_type": "code",
   "execution_count": 50,
   "metadata": {},
   "outputs": [
    {
     "data": {
      "text/plain": [
       "array([[28438,   791],\n",
       "       [ 2185,  1536]])"
      ]
     },
     "execution_count": 50,
     "metadata": {},
     "output_type": "execute_result"
    }
   ],
   "source": [
    "y_pred_logistic = grid_logistic.predict(X_train)\n",
    "confusion_matrix(y_train, y_pred_logistic)"
   ]
  },
  {
   "cell_type": "markdown",
   "metadata": {},
   "source": [
    "The number of false positives for the logistic regression model is 791. Since we want to minimize our type 1 error, we have to bring the number false positive cases down. "
   ]
  },
  {
   "cell_type": "code",
   "execution_count": 51,
   "metadata": {},
   "outputs": [
    {
     "name": "stdout",
     "output_type": "stream",
     "text": [
      "              precision    recall  f1-score   support\n",
      "\n",
      "           0       0.93      0.97      0.95     29229\n",
      "           1       0.66      0.41      0.51      3721\n",
      "\n",
      "    accuracy                           0.91     32950\n",
      "   macro avg       0.79      0.69      0.73     32950\n",
      "weighted avg       0.90      0.91      0.90     32950\n",
      "\n"
     ]
    }
   ],
   "source": [
    "print(classification_report(y_train, y_pred_logistic))"
   ]
  },
  {
   "cell_type": "code",
   "execution_count": 52,
   "metadata": {},
   "outputs": [
    {
     "data": {
      "text/plain": [
       "0.6928650479281157"
      ]
     },
     "execution_count": 52,
     "metadata": {},
     "output_type": "execute_result"
    }
   ],
   "source": [
    "roc_auc_score(y_train, y_pred_logistic)"
   ]
  },
  {
   "cell_type": "code",
   "execution_count": 53,
   "metadata": {},
   "outputs": [],
   "source": [
    "y_train_prob = grid_logistic.predict_proba(X_train)\n",
    "fpr, tpr, threshold = roc_curve(y_train, y_train_prob[:,1])"
   ]
  },
  {
   "cell_type": "code",
   "execution_count": 54,
   "metadata": {},
   "outputs": [
    {
     "data": {
      "text/plain": [
       "[<matplotlib.lines.Line2D at 0x1a208bf358>]"
      ]
     },
     "execution_count": 54,
     "metadata": {},
     "output_type": "execute_result"
    },
    {
     "data": {
      "text/plain": [
       "Text(0.5, 0, 'FPR')"
      ]
     },
     "execution_count": 54,
     "metadata": {},
     "output_type": "execute_result"
    },
    {
     "data": {
      "text/plain": [
       "Text(0, 0.5, 'TPR')"
      ]
     },
     "execution_count": 54,
     "metadata": {},
     "output_type": "execute_result"
    },
    {
     "data": {
      "image/png": "[encoded data removed]",
      "text/plain": [
       "<Figure size 432x288 with 1 Axes>"
      ]
     },
     "metadata": {
      "needs_background": "light"
     },
     "output_type": "display_data"
    }
   ],
   "source": [
    "%matplotlib inline\n",
    "\n",
    "plt.plot(fpr, tpr)\n",
    "plt.xlabel('FPR')\n",
    "plt.ylabel('TPR')"
   ]
  },
  {
   "cell_type": "markdown",
   "metadata": {},
   "source": [
    "Data Postprocessing"
   ]
  },
  {
   "cell_type": "code",
   "execution_count": 55,
   "metadata": {},
   "outputs": [
    {
     "data": {
      "text/plain": [
       "array([0.17061553, 0.01237224, 0.57661282, ..., 0.29592148, 0.01544387,\n",
       "       0.00924965])"
      ]
     },
     "execution_count": 55,
     "metadata": {},
     "output_type": "execute_result"
    },
    {
     "data": {
      "text/plain": [
       "array([0, 0, 0, ..., 0, 0, 0])"
      ]
     },
     "execution_count": 55,
     "metadata": {},
     "output_type": "execute_result"
    },
    {
     "data": {
      "text/plain": [
       "array([[29009,   220],\n",
       "       [ 3132,   589]])"
      ]
     },
     "execution_count": 55,
     "metadata": {},
     "output_type": "execute_result"
    },
    {
     "name": "stdout",
     "output_type": "stream",
     "text": [
      "              precision    recall  f1-score   support\n",
      "\n",
      "           0       0.90      0.99      0.95     29229\n",
      "           1       0.73      0.16      0.26      3721\n",
      "\n",
      "    accuracy                           0.90     32950\n",
      "   macro avg       0.82      0.58      0.60     32950\n",
      "weighted avg       0.88      0.90      0.87     32950\n",
      "\n"
     ]
    }
   ],
   "source": [
    "y_train_prob[:,1]\n",
    "y_pred = np.where(y_train_prob[:,1] > 0.8, 1, 0)\n",
    "y_pred\n",
    "confusion_matrix(y_train, y_pred)\n",
    "print(classification_report(y_train, y_pred))"
   ]
  },
  {
   "cell_type": "markdown",
   "metadata": {},
   "source": [
    "By increasing the predict_proba threshold from the default value of 50% to 80%, we have significantly increased our precision and decreased our false positive cases. The model only labels an instance as '1' when the predicted probability of it being '1' is more than 80%. Increasing the precision, for label '1', from 67% to 73% did not significantly change the overall model accuracy of approximately 90%. "
   ]
  },
  {
   "cell_type": "markdown",
   "metadata": {},
   "source": [
    "# Linear Support Vector Classifier"
   ]
  },
  {
   "cell_type": "code",
   "execution_count": 56,
   "metadata": {},
   "outputs": [],
   "source": [
    "classifier_linearSVC = LinearSVC()\n",
    "\n",
    "params_LinearSVC = {'C': [0.001, 0.01, 0.1, 1, 10, 25]}\n",
    "\n",
    "grid_LinearSVC = GridSearchCV(classifier_linearSVC, params_LinearSVC, cv = 5, scoring = 'accuracy')"
   ]
  },
  {
   "cell_type": "code",
   "execution_count": 57,
   "metadata": {},
   "outputs": [
    {
     "data": {
      "text/plain": [
       "GridSearchCV(cv=5, error_score='raise-deprecating',\n",
       "             estimator=LinearSVC(C=1.0, class_weight=None, dual=True,\n",
       "                                 fit_intercept=True, intercept_scaling=1,\n",
       "                                 loss='squared_hinge', max_iter=1000,\n",
       "                                 multi_class='ovr', penalty='l2',\n",
       "                                 random_state=None, tol=0.0001, verbose=0),\n",
       "             iid='warn', n_jobs=None,\n",
       "             param_grid={'C': [0.001, 0.01, 0.1, 1, 10, 25]},\n",
       "             pre_dispatch='2*n_jobs', refit=True, return_train_score=False,\n",
       "             scoring='accuracy', verbose=0)"
      ]
     },
     "execution_count": 57,
     "metadata": {},
     "output_type": "execute_result"
    }
   ],
   "source": [
    "grid_LinearSVC.fit(X_train, y_train)"
   ]
  },
  {
   "cell_type": "code",
   "execution_count": 58,
   "metadata": {},
   "outputs": [
    {
     "name": "stdout",
     "output_type": "stream",
     "text": [
      "0.9079817905918057\n",
      "{'C': 25}\n"
     ]
    }
   ],
   "source": [
    "print(grid_LinearSVC.best_score_)\n",
    "print(grid_LinearSVC.best_params_)"
   ]
  },
  {
   "cell_type": "markdown",
   "metadata": {},
   "source": [
    "Linear SVC model gives an accuracy of 90.75% and the best value for the penalty parameter 'C' is 25. "
   ]
  },
  {
   "cell_type": "code",
   "execution_count": 59,
   "metadata": {},
   "outputs": [
    {
     "data": {
      "text/html": [
       "<div>\n",
       "<style scoped>\n",
       "    .dataframe tbody tr th:only-of-type {\n",
       "        vertical-align: middle;\n",
       "    }\n",
       "\n",
       "    .dataframe tbody tr th {\n",
       "        vertical-align: top;\n",
       "    }\n",
       "\n",
       "    .dataframe thead th {\n",
       "        text-align: right;\n",
       "    }\n",
       "</style>\n",
       "<table border=\"1\" class=\"dataframe\">\n",
       "  <thead>\n",
       "    <tr style=\"text-align: right;\">\n",
       "      <th></th>\n",
       "      <th>mean_fit_time</th>\n",
       "      <th>std_fit_time</th>\n",
       "      <th>mean_score_time</th>\n",
       "      <th>std_score_time</th>\n",
       "      <th>param_C</th>\n",
       "      <th>params</th>\n",
       "      <th>split0_test_score</th>\n",
       "      <th>split1_test_score</th>\n",
       "      <th>split2_test_score</th>\n",
       "      <th>split3_test_score</th>\n",
       "      <th>split4_test_score</th>\n",
       "      <th>mean_test_score</th>\n",
       "      <th>std_test_score</th>\n",
       "      <th>rank_test_score</th>\n",
       "    </tr>\n",
       "  </thead>\n",
       "  <tbody>\n",
       "    <tr>\n",
       "      <th>0</th>\n",
       "      <td>0.066121</td>\n",
       "      <td>0.010621</td>\n",
       "      <td>0.001158</td>\n",
       "      <td>0.000225</td>\n",
       "      <td>0.001</td>\n",
       "      <td>{'C': 0.001}</td>\n",
       "      <td>0.898195</td>\n",
       "      <td>0.899241</td>\n",
       "      <td>0.900000</td>\n",
       "      <td>0.898179</td>\n",
       "      <td>0.899681</td>\n",
       "      <td>0.899059</td>\n",
       "      <td>0.000752</td>\n",
       "      <td>6</td>\n",
       "    </tr>\n",
       "    <tr>\n",
       "      <th>1</th>\n",
       "      <td>0.053313</td>\n",
       "      <td>0.001403</td>\n",
       "      <td>0.000753</td>\n",
       "      <td>0.000022</td>\n",
       "      <td>0.01</td>\n",
       "      <td>{'C': 0.01}</td>\n",
       "      <td>0.900470</td>\n",
       "      <td>0.902731</td>\n",
       "      <td>0.902124</td>\n",
       "      <td>0.901062</td>\n",
       "      <td>0.904841</td>\n",
       "      <td>0.902246</td>\n",
       "      <td>0.001519</td>\n",
       "      <td>5</td>\n",
       "    </tr>\n",
       "    <tr>\n",
       "      <th>2</th>\n",
       "      <td>0.104958</td>\n",
       "      <td>0.009427</td>\n",
       "      <td>0.000787</td>\n",
       "      <td>0.000075</td>\n",
       "      <td>0.1</td>\n",
       "      <td>{'C': 0.1}</td>\n",
       "      <td>0.904870</td>\n",
       "      <td>0.908346</td>\n",
       "      <td>0.905311</td>\n",
       "      <td>0.906222</td>\n",
       "      <td>0.909091</td>\n",
       "      <td>0.906768</td>\n",
       "      <td>0.001668</td>\n",
       "      <td>4</td>\n",
       "    </tr>\n",
       "    <tr>\n",
       "      <th>3</th>\n",
       "      <td>0.724380</td>\n",
       "      <td>0.131130</td>\n",
       "      <td>0.000853</td>\n",
       "      <td>0.000043</td>\n",
       "      <td>1</td>\n",
       "      <td>{'C': 1}</td>\n",
       "      <td>0.905477</td>\n",
       "      <td>0.910015</td>\n",
       "      <td>0.906222</td>\n",
       "      <td>0.906222</td>\n",
       "      <td>0.909243</td>\n",
       "      <td>0.907436</td>\n",
       "      <td>0.001828</td>\n",
       "      <td>2</td>\n",
       "    </tr>\n",
       "    <tr>\n",
       "      <th>4</th>\n",
       "      <td>2.237352</td>\n",
       "      <td>0.045726</td>\n",
       "      <td>0.000847</td>\n",
       "      <td>0.000034</td>\n",
       "      <td>10</td>\n",
       "      <td>{'C': 10}</td>\n",
       "      <td>0.904870</td>\n",
       "      <td>0.910470</td>\n",
       "      <td>0.906070</td>\n",
       "      <td>0.906373</td>\n",
       "      <td>0.909091</td>\n",
       "      <td>0.907375</td>\n",
       "      <td>0.002074</td>\n",
       "      <td>3</td>\n",
       "    </tr>\n",
       "    <tr>\n",
       "      <th>5</th>\n",
       "      <td>2.726510</td>\n",
       "      <td>0.046453</td>\n",
       "      <td>0.000840</td>\n",
       "      <td>0.000039</td>\n",
       "      <td>25</td>\n",
       "      <td>{'C': 25}</td>\n",
       "      <td>0.906843</td>\n",
       "      <td>0.908346</td>\n",
       "      <td>0.906677</td>\n",
       "      <td>0.907132</td>\n",
       "      <td>0.910912</td>\n",
       "      <td>0.907982</td>\n",
       "      <td>0.001577</td>\n",
       "      <td>1</td>\n",
       "    </tr>\n",
       "  </tbody>\n",
       "</table>\n",
       "</div>"
      ],
      "text/plain": [
       "   mean_fit_time  std_fit_time  mean_score_time  std_score_time param_C  \\\n",
       "0       0.066121      0.010621         0.001158        0.000225   0.001   \n",
       "1       0.053313      0.001403         0.000753        0.000022    0.01   \n",
       "2       0.104958      0.009427         0.000787        0.000075     0.1   \n",
       "3       0.724380      0.131130         0.000853        0.000043       1   \n",
       "4       2.237352      0.045726         0.000847        0.000034      10   \n",
       "5       2.726510      0.046453         0.000840        0.000039      25   \n",
       "\n",
       "         params  split0_test_score  split1_test_score  split2_test_score  \\\n",
       "0  {'C': 0.001}           0.898195           0.899241           0.900000   \n",
       "1   {'C': 0.01}           0.900470           0.902731           0.902124   \n",
       "2    {'C': 0.1}           0.904870           0.908346           0.905311   \n",
       "3      {'C': 1}           0.905477           0.910015           0.906222   \n",
       "4     {'C': 10}           0.904870           0.910470           0.906070   \n",
       "5     {'C': 25}           0.906843           0.908346           0.906677   \n",
       "\n",
       "   split3_test_score  split4_test_score  mean_test_score  std_test_score  \\\n",
       "0           0.898179           0.899681         0.899059        0.000752   \n",
       "1           0.901062           0.904841         0.902246        0.001519   \n",
       "2           0.906222           0.909091         0.906768        0.001668   \n",
       "3           0.906222           0.909243         0.907436        0.001828   \n",
       "4           0.906373           0.909091         0.907375        0.002074   \n",
       "5           0.907132           0.910912         0.907982        0.001577   \n",
       "\n",
       "   rank_test_score  \n",
       "0                6  \n",
       "1                5  \n",
       "2                4  \n",
       "3                2  \n",
       "4                3  \n",
       "5                1  "
      ]
     },
     "execution_count": 59,
     "metadata": {},
     "output_type": "execute_result"
    }
   ],
   "source": [
    "results_LinearSVC = pd.DataFrame(grid_LinearSVC.cv_results_)\n",
    "results_LinearSVC.head(20)"
   ]
  },
  {
   "cell_type": "code",
   "execution_count": 60,
   "metadata": {},
   "outputs": [
    {
     "data": {
      "text/plain": [
       "array([[28587,   642],\n",
       "       [ 2420,  1301]])"
      ]
     },
     "execution_count": 60,
     "metadata": {},
     "output_type": "execute_result"
    }
   ],
   "source": [
    "y_pred_LinearSVC = grid_LinearSVC.predict(X_train)\n",
    "confusion_matrix(y_train, y_pred_LinearSVC)"
   ]
  },
  {
   "cell_type": "markdown",
   "metadata": {},
   "source": [
    "The number of false positives for the Linear SVC model is 642. Since we want to minimize our type 1 error, we have to bring down the number false positive cases. "
   ]
  },
  {
   "cell_type": "code",
   "execution_count": 61,
   "metadata": {},
   "outputs": [
    {
     "name": "stdout",
     "output_type": "stream",
     "text": [
      "              precision    recall  f1-score   support\n",
      "\n",
      "           0       0.92      0.98      0.95     29229\n",
      "           1       0.67      0.35      0.46      3721\n",
      "\n",
      "    accuracy                           0.91     32950\n",
      "   macro avg       0.80      0.66      0.70     32950\n",
      "weighted avg       0.89      0.91      0.89     32950\n",
      "\n"
     ]
    }
   ],
   "source": [
    "print(classification_report(y_train, y_pred_LinearSVC))"
   ]
  },
  {
   "cell_type": "code",
   "execution_count": 62,
   "metadata": {},
   "outputs": [
    {
     "data": {
      "text/plain": [
       "0.6638363534891871"
      ]
     },
     "execution_count": 62,
     "metadata": {},
     "output_type": "execute_result"
    }
   ],
   "source": [
    "roc_auc_score(y_train, y_pred_LinearSVC)"
   ]
  },
  {
   "cell_type": "code",
   "execution_count": 64,
   "metadata": {},
   "outputs": [],
   "source": [
    "y_train_df = grid_LinearSVC.decision_function(X_train)"
   ]
  },
  {
   "cell_type": "code",
   "execution_count": 65,
   "metadata": {},
   "outputs": [
    {
     "data": {
      "text/plain": [
       "array([ 5.26594969,  4.26594969,  3.36395644, ..., -1.34115994,\n",
       "       -1.34116855, -1.83292803])"
      ]
     },
     "execution_count": 65,
     "metadata": {},
     "output_type": "execute_result"
    }
   ],
   "source": [
    "fpr, tpr, threshold = roc_curve(y_train, y_train_df)\n",
    "threshold"
   ]
  },
  {
   "cell_type": "code",
   "execution_count": 66,
   "metadata": {},
   "outputs": [
    {
     "data": {
      "text/plain": [
       "[<matplotlib.lines.Line2D at 0x1a20baf588>]"
      ]
     },
     "execution_count": 66,
     "metadata": {},
     "output_type": "execute_result"
    },
    {
     "data": {
      "text/plain": [
       "Text(0.5, 0, 'FPR')"
      ]
     },
     "execution_count": 66,
     "metadata": {},
     "output_type": "execute_result"
    },
    {
     "data": {
      "text/plain": [
       "Text(0, 0.5, 'TPR')"
      ]
     },
     "execution_count": 66,
     "metadata": {},
     "output_type": "execute_result"
    },
    {
     "data": {
      "image/png": "[encoded data removed]",
      "text/plain": [
       "<Figure size 432x288 with 1 Axes>"
      ]
     },
     "metadata": {
      "needs_background": "light"
     },
     "output_type": "display_data"
    }
   ],
   "source": [
    "%matplotlib inline\n",
    "\n",
    "plt.plot(fpr, tpr)\n",
    "plt.xlabel('FPR')\n",
    "plt.ylabel('TPR')"
   ]
  },
  {
   "cell_type": "markdown",
   "metadata": {},
   "source": [
    "Data Postprocessing"
   ]
  },
  {
   "cell_type": "code",
   "execution_count": 67,
   "metadata": {},
   "outputs": [
    {
     "data": {
      "text/plain": [
       "array([[29116,   113],\n",
       "       [ 3278,   443]])"
      ]
     },
     "execution_count": 67,
     "metadata": {},
     "output_type": "execute_result"
    },
    {
     "name": "stdout",
     "output_type": "stream",
     "text": [
      "              precision    recall  f1-score   support\n",
      "\n",
      "           0       0.90      1.00      0.94     29229\n",
      "           1       0.80      0.12      0.21      3721\n",
      "\n",
      "    accuracy                           0.90     32950\n",
      "   macro avg       0.85      0.56      0.58     32950\n",
      "weighted avg       0.89      0.90      0.86     32950\n",
      "\n"
     ]
    }
   ],
   "source": [
    "y_pred = np.where(y_train_df > 0.5, 1, 0)\n",
    "confusion_matrix(y_train, y_pred)\n",
    "print(classification_report(y_train, y_pred))"
   ]
  },
  {
   "cell_type": "markdown",
   "metadata": {},
   "source": [
    "By increasing the decision_function threshold from the default value of 0 to 0.5, we have significantly increased our precision for label 1, and decreased our false positive cases. Increasing the precision, for label '1', from 67% to 80% did not significantly change the overall model accuracy of approximately 90%. "
   ]
  },
  {
   "cell_type": "markdown",
   "metadata": {},
   "source": [
    "# Kernel SVC"
   ]
  },
  {
   "cell_type": "code",
   "execution_count": 68,
   "metadata": {},
   "outputs": [],
   "source": [
    "classifier_SVC = SVC(random_state = 0)\n",
    "\n",
    "params_SVC = {'gamma': [0.01, 0.1, 1, 10],\n",
    "              'C': [0.01, 0.1, 1, 10],\n",
    "             'kernel': ['rbf', 'linear']}\n",
    "\n",
    "grid_SVC = GridSearchCV(classifier_SVC, params_SVC, cv = 5, scoring = 'accuracy')"
   ]
  },
  {
   "cell_type": "code",
   "execution_count": 69,
   "metadata": {},
   "outputs": [
    {
     "data": {
      "text/plain": [
       "GridSearchCV(cv=5, error_score='raise-deprecating',\n",
       "             estimator=SVC(C=1.0, cache_size=200, class_weight=None, coef0=0.0,\n",
       "                           decision_function_shape='ovr', degree=3,\n",
       "                           gamma='auto_deprecated', kernel='rbf', max_iter=-1,\n",
       "                           probability=False, random_state=0, shrinking=True,\n",
       "                           tol=0.001, verbose=False),\n",
       "             iid='warn', n_jobs=None,\n",
       "             param_grid={'C': [0.01, 0.1, 1, 10], 'gamma': [0.01, 0.1, 1, 10],\n",
       "                         'kernel': ['rbf', 'linear']},\n",
       "             pre_dispatch='2*n_jobs', refit=True, return_train_score=False,\n",
       "             scoring='accuracy', verbose=0)"
      ]
     },
     "execution_count": 69,
     "metadata": {},
     "output_type": "execute_result"
    }
   ],
   "source": [
    "grid_SVC.fit(X_train, y_train)"
   ]
  },
  {
   "cell_type": "code",
   "execution_count": 70,
   "metadata": {},
   "outputs": [
    {
     "name": "stdout",
     "output_type": "stream",
     "text": [
      "0.9040364188163885\n",
      "{'C': 10, 'gamma': 0.1, 'kernel': 'rbf'}\n"
     ]
    }
   ],
   "source": [
    "print(grid_SVC.best_score_)\n",
    "print(grid_SVC.best_params_)"
   ]
  },
  {
   "cell_type": "markdown",
   "metadata": {},
   "source": [
    "The Support Vector Classifier produced an accuracy of 90.40% after training. The best parameters are as follows: \n",
    "\n",
    "    1. C: 10\n",
    "    2. gamma: 0.1\n",
    "    3. kernel: rbf"
   ]
  },
  {
   "cell_type": "code",
   "execution_count": 71,
   "metadata": {},
   "outputs": [
    {
     "data": {
      "text/html": [
       "<div>\n",
       "<style scoped>\n",
       "    .dataframe tbody tr th:only-of-type {\n",
       "        vertical-align: middle;\n",
       "    }\n",
       "\n",
       "    .dataframe tbody tr th {\n",
       "        vertical-align: top;\n",
       "    }\n",
       "\n",
       "    .dataframe thead th {\n",
       "        text-align: right;\n",
       "    }\n",
       "</style>\n",
       "<table border=\"1\" class=\"dataframe\">\n",
       "  <thead>\n",
       "    <tr style=\"text-align: right;\">\n",
       "      <th></th>\n",
       "      <th>mean_fit_time</th>\n",
       "      <th>std_fit_time</th>\n",
       "      <th>mean_score_time</th>\n",
       "      <th>std_score_time</th>\n",
       "      <th>param_C</th>\n",
       "      <th>param_gamma</th>\n",
       "      <th>param_kernel</th>\n",
       "      <th>params</th>\n",
       "      <th>split0_test_score</th>\n",
       "      <th>split1_test_score</th>\n",
       "      <th>split2_test_score</th>\n",
       "      <th>split3_test_score</th>\n",
       "      <th>split4_test_score</th>\n",
       "      <th>mean_test_score</th>\n",
       "      <th>std_test_score</th>\n",
       "      <th>rank_test_score</th>\n",
       "    </tr>\n",
       "  </thead>\n",
       "  <tbody>\n",
       "    <tr>\n",
       "      <th>0</th>\n",
       "      <td>12.744731</td>\n",
       "      <td>0.086252</td>\n",
       "      <td>2.290090</td>\n",
       "      <td>0.016603</td>\n",
       "      <td>0.01</td>\n",
       "      <td>0.01</td>\n",
       "      <td>rbf</td>\n",
       "      <td>{'C': 0.01, 'gamma': 0.01, 'kernel': 'rbf'}</td>\n",
       "      <td>0.886967</td>\n",
       "      <td>0.887102</td>\n",
       "      <td>0.887102</td>\n",
       "      <td>0.887102</td>\n",
       "      <td>0.887085</td>\n",
       "      <td>0.887071</td>\n",
       "      <td>0.000053</td>\n",
       "      <td>22</td>\n",
       "    </tr>\n",
       "    <tr>\n",
       "      <th>1</th>\n",
       "      <td>10.822977</td>\n",
       "      <td>0.292382</td>\n",
       "      <td>1.606768</td>\n",
       "      <td>0.015809</td>\n",
       "      <td>0.01</td>\n",
       "      <td>0.01</td>\n",
       "      <td>linear</td>\n",
       "      <td>{'C': 0.01, 'gamma': 0.01, 'kernel': 'linear'}</td>\n",
       "      <td>0.896526</td>\n",
       "      <td>0.898027</td>\n",
       "      <td>0.897269</td>\n",
       "      <td>0.895448</td>\n",
       "      <td>0.899378</td>\n",
       "      <td>0.897329</td>\n",
       "      <td>0.001332</td>\n",
       "      <td>12</td>\n",
       "    </tr>\n",
       "    <tr>\n",
       "      <th>2</th>\n",
       "      <td>14.731731</td>\n",
       "      <td>0.225965</td>\n",
       "      <td>2.418219</td>\n",
       "      <td>0.005625</td>\n",
       "      <td>0.01</td>\n",
       "      <td>0.1</td>\n",
       "      <td>rbf</td>\n",
       "      <td>{'C': 0.01, 'gamma': 0.1, 'kernel': 'rbf'}</td>\n",
       "      <td>0.886967</td>\n",
       "      <td>0.887102</td>\n",
       "      <td>0.887102</td>\n",
       "      <td>0.887102</td>\n",
       "      <td>0.887085</td>\n",
       "      <td>0.887071</td>\n",
       "      <td>0.000053</td>\n",
       "      <td>22</td>\n",
       "    </tr>\n",
       "    <tr>\n",
       "      <th>3</th>\n",
       "      <td>10.788246</td>\n",
       "      <td>0.299259</td>\n",
       "      <td>1.595360</td>\n",
       "      <td>0.012149</td>\n",
       "      <td>0.01</td>\n",
       "      <td>0.1</td>\n",
       "      <td>linear</td>\n",
       "      <td>{'C': 0.01, 'gamma': 0.1, 'kernel': 'linear'}</td>\n",
       "      <td>0.896526</td>\n",
       "      <td>0.898027</td>\n",
       "      <td>0.897269</td>\n",
       "      <td>0.895448</td>\n",
       "      <td>0.899378</td>\n",
       "      <td>0.897329</td>\n",
       "      <td>0.001332</td>\n",
       "      <td>12</td>\n",
       "    </tr>\n",
       "    <tr>\n",
       "      <th>4</th>\n",
       "      <td>43.771638</td>\n",
       "      <td>0.328503</td>\n",
       "      <td>5.467799</td>\n",
       "      <td>0.022432</td>\n",
       "      <td>0.01</td>\n",
       "      <td>1</td>\n",
       "      <td>rbf</td>\n",
       "      <td>{'C': 0.01, 'gamma': 1, 'kernel': 'rbf'}</td>\n",
       "      <td>0.886967</td>\n",
       "      <td>0.887102</td>\n",
       "      <td>0.887102</td>\n",
       "      <td>0.887102</td>\n",
       "      <td>0.887085</td>\n",
       "      <td>0.887071</td>\n",
       "      <td>0.000053</td>\n",
       "      <td>22</td>\n",
       "    </tr>\n",
       "    <tr>\n",
       "      <th>5</th>\n",
       "      <td>10.792798</td>\n",
       "      <td>0.084717</td>\n",
       "      <td>1.622014</td>\n",
       "      <td>0.019808</td>\n",
       "      <td>0.01</td>\n",
       "      <td>1</td>\n",
       "      <td>linear</td>\n",
       "      <td>{'C': 0.01, 'gamma': 1, 'kernel': 'linear'}</td>\n",
       "      <td>0.896526</td>\n",
       "      <td>0.898027</td>\n",
       "      <td>0.897269</td>\n",
       "      <td>0.895448</td>\n",
       "      <td>0.899378</td>\n",
       "      <td>0.897329</td>\n",
       "      <td>0.001332</td>\n",
       "      <td>12</td>\n",
       "    </tr>\n",
       "    <tr>\n",
       "      <th>6</th>\n",
       "      <td>68.211766</td>\n",
       "      <td>3.342141</td>\n",
       "      <td>8.006581</td>\n",
       "      <td>0.133580</td>\n",
       "      <td>0.01</td>\n",
       "      <td>10</td>\n",
       "      <td>rbf</td>\n",
       "      <td>{'C': 0.01, 'gamma': 10, 'kernel': 'rbf'}</td>\n",
       "      <td>0.886967</td>\n",
       "      <td>0.887102</td>\n",
       "      <td>0.887102</td>\n",
       "      <td>0.887102</td>\n",
       "      <td>0.887085</td>\n",
       "      <td>0.887071</td>\n",
       "      <td>0.000053</td>\n",
       "      <td>22</td>\n",
       "    </tr>\n",
       "    <tr>\n",
       "      <th>7</th>\n",
       "      <td>10.889797</td>\n",
       "      <td>0.091245</td>\n",
       "      <td>1.593304</td>\n",
       "      <td>0.014233</td>\n",
       "      <td>0.01</td>\n",
       "      <td>10</td>\n",
       "      <td>linear</td>\n",
       "      <td>{'C': 0.01, 'gamma': 10, 'kernel': 'linear'}</td>\n",
       "      <td>0.896526</td>\n",
       "      <td>0.898027</td>\n",
       "      <td>0.897269</td>\n",
       "      <td>0.895448</td>\n",
       "      <td>0.899378</td>\n",
       "      <td>0.897329</td>\n",
       "      <td>0.001332</td>\n",
       "      <td>12</td>\n",
       "    </tr>\n",
       "    <tr>\n",
       "      <th>8</th>\n",
       "      <td>14.148614</td>\n",
       "      <td>0.095537</td>\n",
       "      <td>2.329673</td>\n",
       "      <td>0.039673</td>\n",
       "      <td>0.1</td>\n",
       "      <td>0.01</td>\n",
       "      <td>rbf</td>\n",
       "      <td>{'C': 0.1, 'gamma': 0.01, 'kernel': 'rbf'}</td>\n",
       "      <td>0.886967</td>\n",
       "      <td>0.887102</td>\n",
       "      <td>0.887102</td>\n",
       "      <td>0.887102</td>\n",
       "      <td>0.887085</td>\n",
       "      <td>0.887071</td>\n",
       "      <td>0.000053</td>\n",
       "      <td>22</td>\n",
       "    </tr>\n",
       "    <tr>\n",
       "      <th>9</th>\n",
       "      <td>11.433968</td>\n",
       "      <td>0.172977</td>\n",
       "      <td>1.537882</td>\n",
       "      <td>0.010819</td>\n",
       "      <td>0.1</td>\n",
       "      <td>0.01</td>\n",
       "      <td>linear</td>\n",
       "      <td>{'C': 0.1, 'gamma': 0.01, 'kernel': 'linear'}</td>\n",
       "      <td>0.896222</td>\n",
       "      <td>0.898179</td>\n",
       "      <td>0.897420</td>\n",
       "      <td>0.895448</td>\n",
       "      <td>0.899378</td>\n",
       "      <td>0.897329</td>\n",
       "      <td>0.001392</td>\n",
       "      <td>12</td>\n",
       "    </tr>\n",
       "    <tr>\n",
       "      <th>10</th>\n",
       "      <td>15.823371</td>\n",
       "      <td>0.164891</td>\n",
       "      <td>2.401839</td>\n",
       "      <td>0.008985</td>\n",
       "      <td>0.1</td>\n",
       "      <td>0.1</td>\n",
       "      <td>rbf</td>\n",
       "      <td>{'C': 0.1, 'gamma': 0.1, 'kernel': 'rbf'}</td>\n",
       "      <td>0.896526</td>\n",
       "      <td>0.898027</td>\n",
       "      <td>0.897269</td>\n",
       "      <td>0.895448</td>\n",
       "      <td>0.899378</td>\n",
       "      <td>0.897329</td>\n",
       "      <td>0.001332</td>\n",
       "      <td>12</td>\n",
       "    </tr>\n",
       "    <tr>\n",
       "      <th>11</th>\n",
       "      <td>11.346669</td>\n",
       "      <td>0.259151</td>\n",
       "      <td>1.540233</td>\n",
       "      <td>0.018629</td>\n",
       "      <td>0.1</td>\n",
       "      <td>0.1</td>\n",
       "      <td>linear</td>\n",
       "      <td>{'C': 0.1, 'gamma': 0.1, 'kernel': 'linear'}</td>\n",
       "      <td>0.896222</td>\n",
       "      <td>0.898179</td>\n",
       "      <td>0.897420</td>\n",
       "      <td>0.895448</td>\n",
       "      <td>0.899378</td>\n",
       "      <td>0.897329</td>\n",
       "      <td>0.001392</td>\n",
       "      <td>12</td>\n",
       "    </tr>\n",
       "    <tr>\n",
       "      <th>12</th>\n",
       "      <td>115.199856</td>\n",
       "      <td>12.425640</td>\n",
       "      <td>6.418642</td>\n",
       "      <td>0.042885</td>\n",
       "      <td>0.1</td>\n",
       "      <td>1</td>\n",
       "      <td>rbf</td>\n",
       "      <td>{'C': 0.1, 'gamma': 1, 'kernel': 'rbf'}</td>\n",
       "      <td>0.886967</td>\n",
       "      <td>0.887102</td>\n",
       "      <td>0.887102</td>\n",
       "      <td>0.887102</td>\n",
       "      <td>0.887085</td>\n",
       "      <td>0.887071</td>\n",
       "      <td>0.000053</td>\n",
       "      <td>22</td>\n",
       "    </tr>\n",
       "    <tr>\n",
       "      <th>13</th>\n",
       "      <td>11.311628</td>\n",
       "      <td>0.221762</td>\n",
       "      <td>1.561839</td>\n",
       "      <td>0.026803</td>\n",
       "      <td>0.1</td>\n",
       "      <td>1</td>\n",
       "      <td>linear</td>\n",
       "      <td>{'C': 0.1, 'gamma': 1, 'kernel': 'linear'}</td>\n",
       "      <td>0.896222</td>\n",
       "      <td>0.898179</td>\n",
       "      <td>0.897420</td>\n",
       "      <td>0.895448</td>\n",
       "      <td>0.899378</td>\n",
       "      <td>0.897329</td>\n",
       "      <td>0.001392</td>\n",
       "      <td>12</td>\n",
       "    </tr>\n",
       "    <tr>\n",
       "      <th>14</th>\n",
       "      <td>117.707777</td>\n",
       "      <td>5.723022</td>\n",
       "      <td>8.415004</td>\n",
       "      <td>0.173404</td>\n",
       "      <td>0.1</td>\n",
       "      <td>10</td>\n",
       "      <td>rbf</td>\n",
       "      <td>{'C': 0.1, 'gamma': 10, 'kernel': 'rbf'}</td>\n",
       "      <td>0.886967</td>\n",
       "      <td>0.887102</td>\n",
       "      <td>0.887102</td>\n",
       "      <td>0.887102</td>\n",
       "      <td>0.887085</td>\n",
       "      <td>0.887071</td>\n",
       "      <td>0.000053</td>\n",
       "      <td>22</td>\n",
       "    </tr>\n",
       "    <tr>\n",
       "      <th>15</th>\n",
       "      <td>11.402052</td>\n",
       "      <td>0.200408</td>\n",
       "      <td>1.539578</td>\n",
       "      <td>0.024403</td>\n",
       "      <td>0.1</td>\n",
       "      <td>10</td>\n",
       "      <td>linear</td>\n",
       "      <td>{'C': 0.1, 'gamma': 10, 'kernel': 'linear'}</td>\n",
       "      <td>0.896222</td>\n",
       "      <td>0.898179</td>\n",
       "      <td>0.897420</td>\n",
       "      <td>0.895448</td>\n",
       "      <td>0.899378</td>\n",
       "      <td>0.897329</td>\n",
       "      <td>0.001392</td>\n",
       "      <td>12</td>\n",
       "    </tr>\n",
       "    <tr>\n",
       "      <th>16</th>\n",
       "      <td>14.951750</td>\n",
       "      <td>0.187936</td>\n",
       "      <td>2.169250</td>\n",
       "      <td>0.011181</td>\n",
       "      <td>1</td>\n",
       "      <td>0.01</td>\n",
       "      <td>rbf</td>\n",
       "      <td>{'C': 1, 'gamma': 0.01, 'kernel': 'rbf'}</td>\n",
       "      <td>0.896526</td>\n",
       "      <td>0.898027</td>\n",
       "      <td>0.897269</td>\n",
       "      <td>0.895448</td>\n",
       "      <td>0.899378</td>\n",
       "      <td>0.897329</td>\n",
       "      <td>0.001332</td>\n",
       "      <td>12</td>\n",
       "    </tr>\n",
       "    <tr>\n",
       "      <th>17</th>\n",
       "      <td>14.390166</td>\n",
       "      <td>0.203735</td>\n",
       "      <td>1.503544</td>\n",
       "      <td>0.014203</td>\n",
       "      <td>1</td>\n",
       "      <td>0.01</td>\n",
       "      <td>linear</td>\n",
       "      <td>{'C': 1, 'gamma': 0.01, 'kernel': 'linear'}</td>\n",
       "      <td>0.899408</td>\n",
       "      <td>0.903187</td>\n",
       "      <td>0.899848</td>\n",
       "      <td>0.900152</td>\n",
       "      <td>0.903172</td>\n",
       "      <td>0.901153</td>\n",
       "      <td>0.001671</td>\n",
       "      <td>6</td>\n",
       "    </tr>\n",
       "    <tr>\n",
       "      <th>18</th>\n",
       "      <td>16.378812</td>\n",
       "      <td>0.223779</td>\n",
       "      <td>2.342409</td>\n",
       "      <td>0.017201</td>\n",
       "      <td>1</td>\n",
       "      <td>0.1</td>\n",
       "      <td>rbf</td>\n",
       "      <td>{'C': 1, 'gamma': 0.1, 'kernel': 'rbf'}</td>\n",
       "      <td>0.897891</td>\n",
       "      <td>0.900759</td>\n",
       "      <td>0.901214</td>\n",
       "      <td>0.899241</td>\n",
       "      <td>0.902110</td>\n",
       "      <td>0.900243</td>\n",
       "      <td>0.001499</td>\n",
       "      <td>10</td>\n",
       "    </tr>\n",
       "    <tr>\n",
       "      <th>19</th>\n",
       "      <td>14.359404</td>\n",
       "      <td>0.084069</td>\n",
       "      <td>1.506332</td>\n",
       "      <td>0.008588</td>\n",
       "      <td>1</td>\n",
       "      <td>0.1</td>\n",
       "      <td>linear</td>\n",
       "      <td>{'C': 1, 'gamma': 0.1, 'kernel': 'linear'}</td>\n",
       "      <td>0.899408</td>\n",
       "      <td>0.903187</td>\n",
       "      <td>0.899848</td>\n",
       "      <td>0.900152</td>\n",
       "      <td>0.903172</td>\n",
       "      <td>0.901153</td>\n",
       "      <td>0.001671</td>\n",
       "      <td>6</td>\n",
       "    </tr>\n",
       "  </tbody>\n",
       "</table>\n",
       "</div>"
      ],
      "text/plain": [
       "    mean_fit_time  std_fit_time  mean_score_time  std_score_time param_C  \\\n",
       "0       12.744731      0.086252         2.290090        0.016603    0.01   \n",
       "1       10.822977      0.292382         1.606768        0.015809    0.01   \n",
       "2       14.731731      0.225965         2.418219        0.005625    0.01   \n",
       "3       10.788246      0.299259         1.595360        0.012149    0.01   \n",
       "4       43.771638      0.328503         5.467799        0.022432    0.01   \n",
       "5       10.792798      0.084717         1.622014        0.019808    0.01   \n",
       "6       68.211766      3.342141         8.006581        0.133580    0.01   \n",
       "7       10.889797      0.091245         1.593304        0.014233    0.01   \n",
       "8       14.148614      0.095537         2.329673        0.039673     0.1   \n",
       "9       11.433968      0.172977         1.537882        0.010819     0.1   \n",
       "10      15.823371      0.164891         2.401839        0.008985     0.1   \n",
       "11      11.346669      0.259151         1.540233        0.018629     0.1   \n",
       "12     115.199856     12.425640         6.418642        0.042885     0.1   \n",
       "13      11.311628      0.221762         1.561839        0.026803     0.1   \n",
       "14     117.707777      5.723022         8.415004        0.173404     0.1   \n",
       "15      11.402052      0.200408         1.539578        0.024403     0.1   \n",
       "16      14.951750      0.187936         2.169250        0.011181       1   \n",
       "17      14.390166      0.203735         1.503544        0.014203       1   \n",
       "18      16.378812      0.223779         2.342409        0.017201       1   \n",
       "19      14.359404      0.084069         1.506332        0.008588       1   \n",
       "\n",
       "   param_gamma param_kernel                                          params  \\\n",
       "0         0.01          rbf     {'C': 0.01, 'gamma': 0.01, 'kernel': 'rbf'}   \n",
       "1         0.01       linear  {'C': 0.01, 'gamma': 0.01, 'kernel': 'linear'}   \n",
       "2          0.1          rbf      {'C': 0.01, 'gamma': 0.1, 'kernel': 'rbf'}   \n",
       "3          0.1       linear   {'C': 0.01, 'gamma': 0.1, 'kernel': 'linear'}   \n",
       "4            1          rbf        {'C': 0.01, 'gamma': 1, 'kernel': 'rbf'}   \n",
       "5            1       linear     {'C': 0.01, 'gamma': 1, 'kernel': 'linear'}   \n",
       "6           10          rbf       {'C': 0.01, 'gamma': 10, 'kernel': 'rbf'}   \n",
       "7           10       linear    {'C': 0.01, 'gamma': 10, 'kernel': 'linear'}   \n",
       "8         0.01          rbf      {'C': 0.1, 'gamma': 0.01, 'kernel': 'rbf'}   \n",
       "9         0.01       linear   {'C': 0.1, 'gamma': 0.01, 'kernel': 'linear'}   \n",
       "10         0.1          rbf       {'C': 0.1, 'gamma': 0.1, 'kernel': 'rbf'}   \n",
       "11         0.1       linear    {'C': 0.1, 'gamma': 0.1, 'kernel': 'linear'}   \n",
       "12           1          rbf         {'C': 0.1, 'gamma': 1, 'kernel': 'rbf'}   \n",
       "13           1       linear      {'C': 0.1, 'gamma': 1, 'kernel': 'linear'}   \n",
       "14          10          rbf        {'C': 0.1, 'gamma': 10, 'kernel': 'rbf'}   \n",
       "15          10       linear     {'C': 0.1, 'gamma': 10, 'kernel': 'linear'}   \n",
       "16        0.01          rbf        {'C': 1, 'gamma': 0.01, 'kernel': 'rbf'}   \n",
       "17        0.01       linear     {'C': 1, 'gamma': 0.01, 'kernel': 'linear'}   \n",
       "18         0.1          rbf         {'C': 1, 'gamma': 0.1, 'kernel': 'rbf'}   \n",
       "19         0.1       linear      {'C': 1, 'gamma': 0.1, 'kernel': 'linear'}   \n",
       "\n",
       "    split0_test_score  split1_test_score  split2_test_score  \\\n",
       "0            0.886967           0.887102           0.887102   \n",
       "1            0.896526           0.898027           0.897269   \n",
       "2            0.886967           0.887102           0.887102   \n",
       "3            0.896526           0.898027           0.897269   \n",
       "4            0.886967           0.887102           0.887102   \n",
       "5            0.896526           0.898027           0.897269   \n",
       "6            0.886967           0.887102           0.887102   \n",
       "7            0.896526           0.898027           0.897269   \n",
       "8            0.886967           0.887102           0.887102   \n",
       "9            0.896222           0.898179           0.897420   \n",
       "10           0.896526           0.898027           0.897269   \n",
       "11           0.896222           0.898179           0.897420   \n",
       "12           0.886967           0.887102           0.887102   \n",
       "13           0.896222           0.898179           0.897420   \n",
       "14           0.886967           0.887102           0.887102   \n",
       "15           0.896222           0.898179           0.897420   \n",
       "16           0.896526           0.898027           0.897269   \n",
       "17           0.899408           0.903187           0.899848   \n",
       "18           0.897891           0.900759           0.901214   \n",
       "19           0.899408           0.903187           0.899848   \n",
       "\n",
       "    split3_test_score  split4_test_score  mean_test_score  std_test_score  \\\n",
       "0            0.887102           0.887085         0.887071        0.000053   \n",
       "1            0.895448           0.899378         0.897329        0.001332   \n",
       "2            0.887102           0.887085         0.887071        0.000053   \n",
       "3            0.895448           0.899378         0.897329        0.001332   \n",
       "4            0.887102           0.887085         0.887071        0.000053   \n",
       "5            0.895448           0.899378         0.897329        0.001332   \n",
       "6            0.887102           0.887085         0.887071        0.000053   \n",
       "7            0.895448           0.899378         0.897329        0.001332   \n",
       "8            0.887102           0.887085         0.887071        0.000053   \n",
       "9            0.895448           0.899378         0.897329        0.001392   \n",
       "10           0.895448           0.899378         0.897329        0.001332   \n",
       "11           0.895448           0.899378         0.897329        0.001392   \n",
       "12           0.887102           0.887085         0.887071        0.000053   \n",
       "13           0.895448           0.899378         0.897329        0.001392   \n",
       "14           0.887102           0.887085         0.887071        0.000053   \n",
       "15           0.895448           0.899378         0.897329        0.001392   \n",
       "16           0.895448           0.899378         0.897329        0.001332   \n",
       "17           0.900152           0.903172         0.901153        0.001671   \n",
       "18           0.899241           0.902110         0.900243        0.001499   \n",
       "19           0.900152           0.903172         0.901153        0.001671   \n",
       "\n",
       "    rank_test_score  \n",
       "0                22  \n",
       "1                12  \n",
       "2                22  \n",
       "3                12  \n",
       "4                22  \n",
       "5                12  \n",
       "6                22  \n",
       "7                12  \n",
       "8                22  \n",
       "9                12  \n",
       "10               12  \n",
       "11               12  \n",
       "12               22  \n",
       "13               12  \n",
       "14               22  \n",
       "15               12  \n",
       "16               12  \n",
       "17                6  \n",
       "18               10  \n",
       "19                6  "
      ]
     },
     "execution_count": 71,
     "metadata": {},
     "output_type": "execute_result"
    }
   ],
   "source": [
    "results_SVC = pd.DataFrame(grid_SVC.cv_results_)\n",
    "results_SVC.head(20)"
   ]
  },
  {
   "cell_type": "code",
   "execution_count": 72,
   "metadata": {},
   "outputs": [
    {
     "data": {
      "text/plain": [
       "array([[28870,   359],\n",
       "       [ 1603,  2118]])"
      ]
     },
     "execution_count": 72,
     "metadata": {},
     "output_type": "execute_result"
    }
   ],
   "source": [
    "y_pred_SVC = grid_SVC.predict(X_train)\n",
    "confusion_matrix(y_train, y_pred_SVC)"
   ]
  },
  {
   "cell_type": "markdown",
   "metadata": {},
   "source": [
    "The number of false positives for the SVC model is 359. Since we want to minimize our type 1 error, we have to bring down the number false positive cases. "
   ]
  },
  {
   "cell_type": "code",
   "execution_count": 73,
   "metadata": {},
   "outputs": [
    {
     "name": "stdout",
     "output_type": "stream",
     "text": [
      "              precision    recall  f1-score   support\n",
      "\n",
      "           0       0.95      0.99      0.97     29229\n",
      "           1       0.86      0.57      0.68      3721\n",
      "\n",
      "    accuracy                           0.94     32950\n",
      "   macro avg       0.90      0.78      0.83     32950\n",
      "weighted avg       0.94      0.94      0.94     32950\n",
      "\n"
     ]
    }
   ],
   "source": [
    "print(classification_report(y_train, y_pred_SVC))"
   ]
  },
  {
   "cell_type": "markdown",
   "metadata": {},
   "source": [
    "So far, kernel SVC has the highest precision, for label 1, than any of the previous models. The precision produced for label 1 is 86%"
   ]
  },
  {
   "cell_type": "code",
   "execution_count": 74,
   "metadata": {},
   "outputs": [
    {
     "data": {
      "text/plain": [
       "0.7784597525573227"
      ]
     },
     "execution_count": 74,
     "metadata": {},
     "output_type": "execute_result"
    }
   ],
   "source": [
    "roc_auc_score(y_train, y_pred_SVC)"
   ]
  },
  {
   "cell_type": "code",
   "execution_count": 75,
   "metadata": {},
   "outputs": [
    {
     "data": {
      "text/plain": [
       "array([ 6.17536414,  5.17536414,  4.48278685, ..., -2.46681458,\n",
       "       -2.46689224, -3.57623923])"
      ]
     },
     "execution_count": 75,
     "metadata": {},
     "output_type": "execute_result"
    }
   ],
   "source": [
    "y_train_df = grid_SVC.decision_function(X_train)\n",
    "fpr, tpr, threshold = roc_curve(y_train, y_train_df)\n",
    "threshold"
   ]
  },
  {
   "cell_type": "code",
   "execution_count": 76,
   "metadata": {},
   "outputs": [
    {
     "data": {
      "text/plain": [
       "[<matplotlib.lines.Line2D at 0x1a23a48320>]"
      ]
     },
     "execution_count": 76,
     "metadata": {},
     "output_type": "execute_result"
    },
    {
     "data": {
      "text/plain": [
       "Text(0.5, 0, 'FPR')"
      ]
     },
     "execution_count": 76,
     "metadata": {},
     "output_type": "execute_result"
    },
    {
     "data": {
      "text/plain": [
       "Text(0, 0.5, 'TPR')"
      ]
     },
     "execution_count": 76,
     "metadata": {},
     "output_type": "execute_result"
    },
    {
     "data": {
      "image/png": "[encoded data removed]",
      "text/plain": [
       "<Figure size 432x288 with 1 Axes>"
      ]
     },
     "metadata": {
      "needs_background": "light"
     },
     "output_type": "display_data"
    }
   ],
   "source": [
    "%matplotlib inline\n",
    "\n",
    "plt.plot(fpr, tpr)\n",
    "plt.xlabel('FPR')\n",
    "plt.ylabel('TPR')"
   ]
  },
  {
   "cell_type": "markdown",
   "metadata": {},
   "source": [
    "Data Postprocessing"
   ]
  },
  {
   "cell_type": "code",
   "execution_count": 77,
   "metadata": {},
   "outputs": [
    {
     "data": {
      "text/plain": [
       "array([[29135,    94],\n",
       "       [ 2513,  1208]])"
      ]
     },
     "execution_count": 77,
     "metadata": {},
     "output_type": "execute_result"
    },
    {
     "name": "stdout",
     "output_type": "stream",
     "text": [
      "              precision    recall  f1-score   support\n",
      "\n",
      "           0       0.92      1.00      0.96     29229\n",
      "           1       0.93      0.32      0.48      3721\n",
      "\n",
      "    accuracy                           0.92     32950\n",
      "   macro avg       0.92      0.66      0.72     32950\n",
      "weighted avg       0.92      0.92      0.90     32950\n",
      "\n"
     ]
    }
   ],
   "source": [
    "y_pred = np.where(y_train_df > 0.8, 1, 0)\n",
    "confusion_matrix(y_train, y_pred)\n",
    "print(classification_report(y_train, y_pred))"
   ]
  },
  {
   "cell_type": "markdown",
   "metadata": {},
   "source": [
    "By increasing the decision_function threshold from the default value of 0 to 0.8, we have significantly increased our precision for label 1, and decreased our false positive cases. Increasing the precision, for label '1', from 86% to 93% did not significantly change the overall model accuracy of approximately 92%. "
   ]
  },
  {
   "cell_type": "markdown",
   "metadata": {},
   "source": [
    "# Decision Tree"
   ]
  },
  {
   "cell_type": "code",
   "execution_count": 78,
   "metadata": {},
   "outputs": [],
   "source": [
    "classifier_DT = DecisionTreeClassifier(random_state = 0)\n",
    "\n",
    "params_DT = {'max_depth': [1, 2, 4, 10, 25], \n",
    "            'criterion': ['gini', 'entropy'], \n",
    "            'max_features': ['auto', 'log2'], \n",
    "            'min_samples_split': [2, 4, 10, 25], \n",
    "            'min_samples_leaf': [2, 4, 10, 25]}\n",
    "\n",
    "grid_DT = GridSearchCV(classifier_DT, params_DT, cv = 5, scoring = 'accuracy')"
   ]
  },
  {
   "cell_type": "code",
   "execution_count": 79,
   "metadata": {},
   "outputs": [
    {
     "data": {
      "text/plain": [
       "GridSearchCV(cv=5, error_score='raise-deprecating',\n",
       "             estimator=DecisionTreeClassifier(class_weight=None,\n",
       "                                              criterion='gini', max_depth=None,\n",
       "                                              max_features=None,\n",
       "                                              max_leaf_nodes=None,\n",
       "                                              min_impurity_decrease=0.0,\n",
       "                                              min_impurity_split=None,\n",
       "                                              min_samples_leaf=1,\n",
       "                                              min_samples_split=2,\n",
       "                                              min_weight_fraction_leaf=0.0,\n",
       "                                              presort=False, random_state=0,\n",
       "                                              splitter='best'),\n",
       "             iid='warn', n_jobs=None,\n",
       "             param_grid={'criterion': ['gini', 'entropy'],\n",
       "                         'max_depth': [1, 2, 4, 10, 25],\n",
       "                         'max_features': ['auto', 'log2'],\n",
       "                         'min_samples_leaf': [2, 4, 10, 25],\n",
       "                         'min_samples_split': [2, 4, 10, 25]},\n",
       "             pre_dispatch='2*n_jobs', refit=True, return_train_score=False,\n",
       "             scoring='accuracy', verbose=0)"
      ]
     },
     "execution_count": 79,
     "metadata": {},
     "output_type": "execute_result"
    }
   ],
   "source": [
    "grid_DT.fit(X_train, y_train)"
   ]
  },
  {
   "cell_type": "code",
   "execution_count": 80,
   "metadata": {},
   "outputs": [
    {
     "name": "stdout",
     "output_type": "stream",
     "text": [
      "0.9045827010622155\n",
      "{'criterion': 'gini', 'max_depth': 10, 'max_features': 'log2', 'min_samples_leaf': 10, 'min_samples_split': 25}\n"
     ]
    }
   ],
   "source": [
    "print(grid_DT.best_score_)\n",
    "print(grid_DT.best_params_)"
   ]
  },
  {
   "cell_type": "markdown",
   "metadata": {},
   "source": [
    "The Decision Tree model gave us an accuracy of 90.45%. The best parameters for the Decision Tree model are: \n",
    "\n",
    "    1. criterion: 'gini'\n",
    "    2. max_depth: 10\n",
    "    3. max_features: log2\n",
    "    4. min_samples_leaf: 10\n",
    "    5. min_samples_split: 25"
   ]
  },
  {
   "cell_type": "code",
   "execution_count": 81,
   "metadata": {},
   "outputs": [
    {
     "data": {
      "text/html": [
       "<div>\n",
       "<style scoped>\n",
       "    .dataframe tbody tr th:only-of-type {\n",
       "        vertical-align: middle;\n",
       "    }\n",
       "\n",
       "    .dataframe tbody tr th {\n",
       "        vertical-align: top;\n",
       "    }\n",
       "\n",
       "    .dataframe thead th {\n",
       "        text-align: right;\n",
       "    }\n",
       "</style>\n",
       "<table border=\"1\" class=\"dataframe\">\n",
       "  <thead>\n",
       "    <tr style=\"text-align: right;\">\n",
       "      <th></th>\n",
       "      <th>mean_fit_time</th>\n",
       "      <th>std_fit_time</th>\n",
       "      <th>mean_score_time</th>\n",
       "      <th>std_score_time</th>\n",
       "      <th>param_criterion</th>\n",
       "      <th>param_max_depth</th>\n",
       "      <th>param_max_features</th>\n",
       "      <th>param_min_samples_leaf</th>\n",
       "      <th>param_min_samples_split</th>\n",
       "      <th>params</th>\n",
       "      <th>split0_test_score</th>\n",
       "      <th>split1_test_score</th>\n",
       "      <th>split2_test_score</th>\n",
       "      <th>split3_test_score</th>\n",
       "      <th>split4_test_score</th>\n",
       "      <th>mean_test_score</th>\n",
       "      <th>std_test_score</th>\n",
       "      <th>rank_test_score</th>\n",
       "    </tr>\n",
       "  </thead>\n",
       "  <tbody>\n",
       "    <tr>\n",
       "      <th>0</th>\n",
       "      <td>0.015095</td>\n",
       "      <td>0.005622</td>\n",
       "      <td>0.001795</td>\n",
       "      <td>0.000451</td>\n",
       "      <td>gini</td>\n",
       "      <td>1</td>\n",
       "      <td>auto</td>\n",
       "      <td>2</td>\n",
       "      <td>2</td>\n",
       "      <td>{'criterion': 'gini', 'max_depth': 1, 'max_fea...</td>\n",
       "      <td>0.886967</td>\n",
       "      <td>0.887102</td>\n",
       "      <td>0.887102</td>\n",
       "      <td>0.887102</td>\n",
       "      <td>0.887085</td>\n",
       "      <td>0.887071</td>\n",
       "      <td>0.000053</td>\n",
       "      <td>225</td>\n",
       "    </tr>\n",
       "    <tr>\n",
       "      <th>1</th>\n",
       "      <td>0.010137</td>\n",
       "      <td>0.001040</td>\n",
       "      <td>0.001512</td>\n",
       "      <td>0.000295</td>\n",
       "      <td>gini</td>\n",
       "      <td>1</td>\n",
       "      <td>auto</td>\n",
       "      <td>2</td>\n",
       "      <td>4</td>\n",
       "      <td>{'criterion': 'gini', 'max_depth': 1, 'max_fea...</td>\n",
       "      <td>0.886967</td>\n",
       "      <td>0.887102</td>\n",
       "      <td>0.887102</td>\n",
       "      <td>0.887102</td>\n",
       "      <td>0.887085</td>\n",
       "      <td>0.887071</td>\n",
       "      <td>0.000053</td>\n",
       "      <td>225</td>\n",
       "    </tr>\n",
       "    <tr>\n",
       "      <th>2</th>\n",
       "      <td>0.009367</td>\n",
       "      <td>0.000329</td>\n",
       "      <td>0.001234</td>\n",
       "      <td>0.000074</td>\n",
       "      <td>gini</td>\n",
       "      <td>1</td>\n",
       "      <td>auto</td>\n",
       "      <td>2</td>\n",
       "      <td>10</td>\n",
       "      <td>{'criterion': 'gini', 'max_depth': 1, 'max_fea...</td>\n",
       "      <td>0.886967</td>\n",
       "      <td>0.887102</td>\n",
       "      <td>0.887102</td>\n",
       "      <td>0.887102</td>\n",
       "      <td>0.887085</td>\n",
       "      <td>0.887071</td>\n",
       "      <td>0.000053</td>\n",
       "      <td>225</td>\n",
       "    </tr>\n",
       "    <tr>\n",
       "      <th>3</th>\n",
       "      <td>0.007080</td>\n",
       "      <td>0.000068</td>\n",
       "      <td>0.001081</td>\n",
       "      <td>0.000032</td>\n",
       "      <td>gini</td>\n",
       "      <td>1</td>\n",
       "      <td>auto</td>\n",
       "      <td>2</td>\n",
       "      <td>25</td>\n",
       "      <td>{'criterion': 'gini', 'max_depth': 1, 'max_fea...</td>\n",
       "      <td>0.886967</td>\n",
       "      <td>0.887102</td>\n",
       "      <td>0.887102</td>\n",
       "      <td>0.887102</td>\n",
       "      <td>0.887085</td>\n",
       "      <td>0.887071</td>\n",
       "      <td>0.000053</td>\n",
       "      <td>225</td>\n",
       "    </tr>\n",
       "    <tr>\n",
       "      <th>4</th>\n",
       "      <td>0.007146</td>\n",
       "      <td>0.000127</td>\n",
       "      <td>0.001291</td>\n",
       "      <td>0.000467</td>\n",
       "      <td>gini</td>\n",
       "      <td>1</td>\n",
       "      <td>auto</td>\n",
       "      <td>4</td>\n",
       "      <td>2</td>\n",
       "      <td>{'criterion': 'gini', 'max_depth': 1, 'max_fea...</td>\n",
       "      <td>0.886967</td>\n",
       "      <td>0.887102</td>\n",
       "      <td>0.887102</td>\n",
       "      <td>0.887102</td>\n",
       "      <td>0.887085</td>\n",
       "      <td>0.887071</td>\n",
       "      <td>0.000053</td>\n",
       "      <td>225</td>\n",
       "    </tr>\n",
       "    <tr>\n",
       "      <th>5</th>\n",
       "      <td>0.007338</td>\n",
       "      <td>0.000311</td>\n",
       "      <td>0.001063</td>\n",
       "      <td>0.000003</td>\n",
       "      <td>gini</td>\n",
       "      <td>1</td>\n",
       "      <td>auto</td>\n",
       "      <td>4</td>\n",
       "      <td>4</td>\n",
       "      <td>{'criterion': 'gini', 'max_depth': 1, 'max_fea...</td>\n",
       "      <td>0.886967</td>\n",
       "      <td>0.887102</td>\n",
       "      <td>0.887102</td>\n",
       "      <td>0.887102</td>\n",
       "      <td>0.887085</td>\n",
       "      <td>0.887071</td>\n",
       "      <td>0.000053</td>\n",
       "      <td>225</td>\n",
       "    </tr>\n",
       "    <tr>\n",
       "      <th>6</th>\n",
       "      <td>0.007116</td>\n",
       "      <td>0.000055</td>\n",
       "      <td>0.001086</td>\n",
       "      <td>0.000031</td>\n",
       "      <td>gini</td>\n",
       "      <td>1</td>\n",
       "      <td>auto</td>\n",
       "      <td>4</td>\n",
       "      <td>10</td>\n",
       "      <td>{'criterion': 'gini', 'max_depth': 1, 'max_fea...</td>\n",
       "      <td>0.886967</td>\n",
       "      <td>0.887102</td>\n",
       "      <td>0.887102</td>\n",
       "      <td>0.887102</td>\n",
       "      <td>0.887085</td>\n",
       "      <td>0.887071</td>\n",
       "      <td>0.000053</td>\n",
       "      <td>225</td>\n",
       "    </tr>\n",
       "    <tr>\n",
       "      <th>7</th>\n",
       "      <td>0.007629</td>\n",
       "      <td>0.000382</td>\n",
       "      <td>0.001115</td>\n",
       "      <td>0.000042</td>\n",
       "      <td>gini</td>\n",
       "      <td>1</td>\n",
       "      <td>auto</td>\n",
       "      <td>4</td>\n",
       "      <td>25</td>\n",
       "      <td>{'criterion': 'gini', 'max_depth': 1, 'max_fea...</td>\n",
       "      <td>0.886967</td>\n",
       "      <td>0.887102</td>\n",
       "      <td>0.887102</td>\n",
       "      <td>0.887102</td>\n",
       "      <td>0.887085</td>\n",
       "      <td>0.887071</td>\n",
       "      <td>0.000053</td>\n",
       "      <td>225</td>\n",
       "    </tr>\n",
       "    <tr>\n",
       "      <th>8</th>\n",
       "      <td>0.007208</td>\n",
       "      <td>0.000075</td>\n",
       "      <td>0.001065</td>\n",
       "      <td>0.000005</td>\n",
       "      <td>gini</td>\n",
       "      <td>1</td>\n",
       "      <td>auto</td>\n",
       "      <td>10</td>\n",
       "      <td>2</td>\n",
       "      <td>{'criterion': 'gini', 'max_depth': 1, 'max_fea...</td>\n",
       "      <td>0.886967</td>\n",
       "      <td>0.887102</td>\n",
       "      <td>0.887102</td>\n",
       "      <td>0.887102</td>\n",
       "      <td>0.887085</td>\n",
       "      <td>0.887071</td>\n",
       "      <td>0.000053</td>\n",
       "      <td>225</td>\n",
       "    </tr>\n",
       "    <tr>\n",
       "      <th>9</th>\n",
       "      <td>0.007387</td>\n",
       "      <td>0.000379</td>\n",
       "      <td>0.001085</td>\n",
       "      <td>0.000028</td>\n",
       "      <td>gini</td>\n",
       "      <td>1</td>\n",
       "      <td>auto</td>\n",
       "      <td>10</td>\n",
       "      <td>4</td>\n",
       "      <td>{'criterion': 'gini', 'max_depth': 1, 'max_fea...</td>\n",
       "      <td>0.886967</td>\n",
       "      <td>0.887102</td>\n",
       "      <td>0.887102</td>\n",
       "      <td>0.887102</td>\n",
       "      <td>0.887085</td>\n",
       "      <td>0.887071</td>\n",
       "      <td>0.000053</td>\n",
       "      <td>225</td>\n",
       "    </tr>\n",
       "    <tr>\n",
       "      <th>10</th>\n",
       "      <td>0.007190</td>\n",
       "      <td>0.000139</td>\n",
       "      <td>0.001063</td>\n",
       "      <td>0.000002</td>\n",
       "      <td>gini</td>\n",
       "      <td>1</td>\n",
       "      <td>auto</td>\n",
       "      <td>10</td>\n",
       "      <td>10</td>\n",
       "      <td>{'criterion': 'gini', 'max_depth': 1, 'max_fea...</td>\n",
       "      <td>0.886967</td>\n",
       "      <td>0.887102</td>\n",
       "      <td>0.887102</td>\n",
       "      <td>0.887102</td>\n",
       "      <td>0.887085</td>\n",
       "      <td>0.887071</td>\n",
       "      <td>0.000053</td>\n",
       "      <td>225</td>\n",
       "    </tr>\n",
       "    <tr>\n",
       "      <th>11</th>\n",
       "      <td>0.007780</td>\n",
       "      <td>0.000397</td>\n",
       "      <td>0.001149</td>\n",
       "      <td>0.000015</td>\n",
       "      <td>gini</td>\n",
       "      <td>1</td>\n",
       "      <td>auto</td>\n",
       "      <td>10</td>\n",
       "      <td>25</td>\n",
       "      <td>{'criterion': 'gini', 'max_depth': 1, 'max_fea...</td>\n",
       "      <td>0.886967</td>\n",
       "      <td>0.887102</td>\n",
       "      <td>0.887102</td>\n",
       "      <td>0.887102</td>\n",
       "      <td>0.887085</td>\n",
       "      <td>0.887071</td>\n",
       "      <td>0.000053</td>\n",
       "      <td>225</td>\n",
       "    </tr>\n",
       "    <tr>\n",
       "      <th>12</th>\n",
       "      <td>0.007621</td>\n",
       "      <td>0.000120</td>\n",
       "      <td>0.001160</td>\n",
       "      <td>0.000039</td>\n",
       "      <td>gini</td>\n",
       "      <td>1</td>\n",
       "      <td>auto</td>\n",
       "      <td>25</td>\n",
       "      <td>2</td>\n",
       "      <td>{'criterion': 'gini', 'max_depth': 1, 'max_fea...</td>\n",
       "      <td>0.886967</td>\n",
       "      <td>0.887102</td>\n",
       "      <td>0.887102</td>\n",
       "      <td>0.887102</td>\n",
       "      <td>0.887085</td>\n",
       "      <td>0.887071</td>\n",
       "      <td>0.000053</td>\n",
       "      <td>225</td>\n",
       "    </tr>\n",
       "    <tr>\n",
       "      <th>13</th>\n",
       "      <td>0.007751</td>\n",
       "      <td>0.000252</td>\n",
       "      <td>0.001145</td>\n",
       "      <td>0.000070</td>\n",
       "      <td>gini</td>\n",
       "      <td>1</td>\n",
       "      <td>auto</td>\n",
       "      <td>25</td>\n",
       "      <td>4</td>\n",
       "      <td>{'criterion': 'gini', 'max_depth': 1, 'max_fea...</td>\n",
       "      <td>0.886967</td>\n",
       "      <td>0.887102</td>\n",
       "      <td>0.887102</td>\n",
       "      <td>0.887102</td>\n",
       "      <td>0.887085</td>\n",
       "      <td>0.887071</td>\n",
       "      <td>0.000053</td>\n",
       "      <td>225</td>\n",
       "    </tr>\n",
       "    <tr>\n",
       "      <th>14</th>\n",
       "      <td>0.007110</td>\n",
       "      <td>0.000055</td>\n",
       "      <td>0.001057</td>\n",
       "      <td>0.000004</td>\n",
       "      <td>gini</td>\n",
       "      <td>1</td>\n",
       "      <td>auto</td>\n",
       "      <td>25</td>\n",
       "      <td>10</td>\n",
       "      <td>{'criterion': 'gini', 'max_depth': 1, 'max_fea...</td>\n",
       "      <td>0.886967</td>\n",
       "      <td>0.887102</td>\n",
       "      <td>0.887102</td>\n",
       "      <td>0.887102</td>\n",
       "      <td>0.887085</td>\n",
       "      <td>0.887071</td>\n",
       "      <td>0.000053</td>\n",
       "      <td>225</td>\n",
       "    </tr>\n",
       "    <tr>\n",
       "      <th>15</th>\n",
       "      <td>0.007499</td>\n",
       "      <td>0.000286</td>\n",
       "      <td>0.001147</td>\n",
       "      <td>0.000013</td>\n",
       "      <td>gini</td>\n",
       "      <td>1</td>\n",
       "      <td>auto</td>\n",
       "      <td>25</td>\n",
       "      <td>25</td>\n",
       "      <td>{'criterion': 'gini', 'max_depth': 1, 'max_fea...</td>\n",
       "      <td>0.886967</td>\n",
       "      <td>0.887102</td>\n",
       "      <td>0.887102</td>\n",
       "      <td>0.887102</td>\n",
       "      <td>0.887085</td>\n",
       "      <td>0.887071</td>\n",
       "      <td>0.000053</td>\n",
       "      <td>225</td>\n",
       "    </tr>\n",
       "    <tr>\n",
       "      <th>16</th>\n",
       "      <td>0.007227</td>\n",
       "      <td>0.000419</td>\n",
       "      <td>0.001269</td>\n",
       "      <td>0.000376</td>\n",
       "      <td>gini</td>\n",
       "      <td>1</td>\n",
       "      <td>log2</td>\n",
       "      <td>2</td>\n",
       "      <td>2</td>\n",
       "      <td>{'criterion': 'gini', 'max_depth': 1, 'max_fea...</td>\n",
       "      <td>0.886967</td>\n",
       "      <td>0.887102</td>\n",
       "      <td>0.887102</td>\n",
       "      <td>0.887102</td>\n",
       "      <td>0.887085</td>\n",
       "      <td>0.887071</td>\n",
       "      <td>0.000053</td>\n",
       "      <td>225</td>\n",
       "    </tr>\n",
       "    <tr>\n",
       "      <th>17</th>\n",
       "      <td>0.007262</td>\n",
       "      <td>0.000146</td>\n",
       "      <td>0.001168</td>\n",
       "      <td>0.000071</td>\n",
       "      <td>gini</td>\n",
       "      <td>1</td>\n",
       "      <td>log2</td>\n",
       "      <td>2</td>\n",
       "      <td>4</td>\n",
       "      <td>{'criterion': 'gini', 'max_depth': 1, 'max_fea...</td>\n",
       "      <td>0.886967</td>\n",
       "      <td>0.887102</td>\n",
       "      <td>0.887102</td>\n",
       "      <td>0.887102</td>\n",
       "      <td>0.887085</td>\n",
       "      <td>0.887071</td>\n",
       "      <td>0.000053</td>\n",
       "      <td>225</td>\n",
       "    </tr>\n",
       "    <tr>\n",
       "      <th>18</th>\n",
       "      <td>0.007447</td>\n",
       "      <td>0.000438</td>\n",
       "      <td>0.001149</td>\n",
       "      <td>0.000038</td>\n",
       "      <td>gini</td>\n",
       "      <td>1</td>\n",
       "      <td>log2</td>\n",
       "      <td>2</td>\n",
       "      <td>10</td>\n",
       "      <td>{'criterion': 'gini', 'max_depth': 1, 'max_fea...</td>\n",
       "      <td>0.886967</td>\n",
       "      <td>0.887102</td>\n",
       "      <td>0.887102</td>\n",
       "      <td>0.887102</td>\n",
       "      <td>0.887085</td>\n",
       "      <td>0.887071</td>\n",
       "      <td>0.000053</td>\n",
       "      <td>225</td>\n",
       "    </tr>\n",
       "    <tr>\n",
       "      <th>19</th>\n",
       "      <td>0.007279</td>\n",
       "      <td>0.000142</td>\n",
       "      <td>0.001111</td>\n",
       "      <td>0.000037</td>\n",
       "      <td>gini</td>\n",
       "      <td>1</td>\n",
       "      <td>log2</td>\n",
       "      <td>2</td>\n",
       "      <td>25</td>\n",
       "      <td>{'criterion': 'gini', 'max_depth': 1, 'max_fea...</td>\n",
       "      <td>0.886967</td>\n",
       "      <td>0.887102</td>\n",
       "      <td>0.887102</td>\n",
       "      <td>0.887102</td>\n",
       "      <td>0.887085</td>\n",
       "      <td>0.887071</td>\n",
       "      <td>0.000053</td>\n",
       "      <td>225</td>\n",
       "    </tr>\n",
       "  </tbody>\n",
       "</table>\n",
       "</div>"
      ],
      "text/plain": [
       "    mean_fit_time  std_fit_time  mean_score_time  std_score_time  \\\n",
       "0        0.015095      0.005622         0.001795        0.000451   \n",
       "1        0.010137      0.001040         0.001512        0.000295   \n",
       "2        0.009367      0.000329         0.001234        0.000074   \n",
       "3        0.007080      0.000068         0.001081        0.000032   \n",
       "4        0.007146      0.000127         0.001291        0.000467   \n",
       "5        0.007338      0.000311         0.001063        0.000003   \n",
       "6        0.007116      0.000055         0.001086        0.000031   \n",
       "7        0.007629      0.000382         0.001115        0.000042   \n",
       "8        0.007208      0.000075         0.001065        0.000005   \n",
       "9        0.007387      0.000379         0.001085        0.000028   \n",
       "10       0.007190      0.000139         0.001063        0.000002   \n",
       "11       0.007780      0.000397         0.001149        0.000015   \n",
       "12       0.007621      0.000120         0.001160        0.000039   \n",
       "13       0.007751      0.000252         0.001145        0.000070   \n",
       "14       0.007110      0.000055         0.001057        0.000004   \n",
       "15       0.007499      0.000286         0.001147        0.000013   \n",
       "16       0.007227      0.000419         0.001269        0.000376   \n",
       "17       0.007262      0.000146         0.001168        0.000071   \n",
       "18       0.007447      0.000438         0.001149        0.000038   \n",
       "19       0.007279      0.000142         0.001111        0.000037   \n",
       "\n",
       "   param_criterion param_max_depth param_max_features param_min_samples_leaf  \\\n",
       "0             gini               1               auto                      2   \n",
       "1             gini               1               auto                      2   \n",
       "2             gini               1               auto                      2   \n",
       "3             gini               1               auto                      2   \n",
       "4             gini               1               auto                      4   \n",
       "5             gini               1               auto                      4   \n",
       "6             gini               1               auto                      4   \n",
       "7             gini               1               auto                      4   \n",
       "8             gini               1               auto                     10   \n",
       "9             gini               1               auto                     10   \n",
       "10            gini               1               auto                     10   \n",
       "11            gini               1               auto                     10   \n",
       "12            gini               1               auto                     25   \n",
       "13            gini               1               auto                     25   \n",
       "14            gini               1               auto                     25   \n",
       "15            gini               1               auto                     25   \n",
       "16            gini               1               log2                      2   \n",
       "17            gini               1               log2                      2   \n",
       "18            gini               1               log2                      2   \n",
       "19            gini               1               log2                      2   \n",
       "\n",
       "   param_min_samples_split                                             params  \\\n",
       "0                        2  {'criterion': 'gini', 'max_depth': 1, 'max_fea...   \n",
       "1                        4  {'criterion': 'gini', 'max_depth': 1, 'max_fea...   \n",
       "2                       10  {'criterion': 'gini', 'max_depth': 1, 'max_fea...   \n",
       "3                       25  {'criterion': 'gini', 'max_depth': 1, 'max_fea...   \n",
       "4                        2  {'criterion': 'gini', 'max_depth': 1, 'max_fea...   \n",
       "5                        4  {'criterion': 'gini', 'max_depth': 1, 'max_fea...   \n",
       "6                       10  {'criterion': 'gini', 'max_depth': 1, 'max_fea...   \n",
       "7                       25  {'criterion': 'gini', 'max_depth': 1, 'max_fea...   \n",
       "8                        2  {'criterion': 'gini', 'max_depth': 1, 'max_fea...   \n",
       "9                        4  {'criterion': 'gini', 'max_depth': 1, 'max_fea...   \n",
       "10                      10  {'criterion': 'gini', 'max_depth': 1, 'max_fea...   \n",
       "11                      25  {'criterion': 'gini', 'max_depth': 1, 'max_fea...   \n",
       "12                       2  {'criterion': 'gini', 'max_depth': 1, 'max_fea...   \n",
       "13                       4  {'criterion': 'gini', 'max_depth': 1, 'max_fea...   \n",
       "14                      10  {'criterion': 'gini', 'max_depth': 1, 'max_fea...   \n",
       "15                      25  {'criterion': 'gini', 'max_depth': 1, 'max_fea...   \n",
       "16                       2  {'criterion': 'gini', 'max_depth': 1, 'max_fea...   \n",
       "17                       4  {'criterion': 'gini', 'max_depth': 1, 'max_fea...   \n",
       "18                      10  {'criterion': 'gini', 'max_depth': 1, 'max_fea...   \n",
       "19                      25  {'criterion': 'gini', 'max_depth': 1, 'max_fea...   \n",
       "\n",
       "    split0_test_score  split1_test_score  split2_test_score  \\\n",
       "0            0.886967           0.887102           0.887102   \n",
       "1            0.886967           0.887102           0.887102   \n",
       "2            0.886967           0.887102           0.887102   \n",
       "3            0.886967           0.887102           0.887102   \n",
       "4            0.886967           0.887102           0.887102   \n",
       "5            0.886967           0.887102           0.887102   \n",
       "6            0.886967           0.887102           0.887102   \n",
       "7            0.886967           0.887102           0.887102   \n",
       "8            0.886967           0.887102           0.887102   \n",
       "9            0.886967           0.887102           0.887102   \n",
       "10           0.886967           0.887102           0.887102   \n",
       "11           0.886967           0.887102           0.887102   \n",
       "12           0.886967           0.887102           0.887102   \n",
       "13           0.886967           0.887102           0.887102   \n",
       "14           0.886967           0.887102           0.887102   \n",
       "15           0.886967           0.887102           0.887102   \n",
       "16           0.886967           0.887102           0.887102   \n",
       "17           0.886967           0.887102           0.887102   \n",
       "18           0.886967           0.887102           0.887102   \n",
       "19           0.886967           0.887102           0.887102   \n",
       "\n",
       "    split3_test_score  split4_test_score  mean_test_score  std_test_score  \\\n",
       "0            0.887102           0.887085         0.887071        0.000053   \n",
       "1            0.887102           0.887085         0.887071        0.000053   \n",
       "2            0.887102           0.887085         0.887071        0.000053   \n",
       "3            0.887102           0.887085         0.887071        0.000053   \n",
       "4            0.887102           0.887085         0.887071        0.000053   \n",
       "5            0.887102           0.887085         0.887071        0.000053   \n",
       "6            0.887102           0.887085         0.887071        0.000053   \n",
       "7            0.887102           0.887085         0.887071        0.000053   \n",
       "8            0.887102           0.887085         0.887071        0.000053   \n",
       "9            0.887102           0.887085         0.887071        0.000053   \n",
       "10           0.887102           0.887085         0.887071        0.000053   \n",
       "11           0.887102           0.887085         0.887071        0.000053   \n",
       "12           0.887102           0.887085         0.887071        0.000053   \n",
       "13           0.887102           0.887085         0.887071        0.000053   \n",
       "14           0.887102           0.887085         0.887071        0.000053   \n",
       "15           0.887102           0.887085         0.887071        0.000053   \n",
       "16           0.887102           0.887085         0.887071        0.000053   \n",
       "17           0.887102           0.887085         0.887071        0.000053   \n",
       "18           0.887102           0.887085         0.887071        0.000053   \n",
       "19           0.887102           0.887085         0.887071        0.000053   \n",
       "\n",
       "    rank_test_score  \n",
       "0               225  \n",
       "1               225  \n",
       "2               225  \n",
       "3               225  \n",
       "4               225  \n",
       "5               225  \n",
       "6               225  \n",
       "7               225  \n",
       "8               225  \n",
       "9               225  \n",
       "10              225  \n",
       "11              225  \n",
       "12              225  \n",
       "13              225  \n",
       "14              225  \n",
       "15              225  \n",
       "16              225  \n",
       "17              225  \n",
       "18              225  \n",
       "19              225  "
      ]
     },
     "execution_count": 81,
     "metadata": {},
     "output_type": "execute_result"
    }
   ],
   "source": [
    "results_DT = pd.DataFrame(grid_DT.cv_results_)\n",
    "results_DT.head(20)"
   ]
  },
  {
   "cell_type": "code",
   "execution_count": 82,
   "metadata": {},
   "outputs": [
    {
     "data": {
      "text/plain": [
       "array([[28448,   781],\n",
       "       [ 2295,  1426]])"
      ]
     },
     "execution_count": 82,
     "metadata": {},
     "output_type": "execute_result"
    }
   ],
   "source": [
    "y_pred_DT = grid_DT.predict(X_train)\n",
    "confusion_matrix(y_train, y_pred_DT)"
   ]
  },
  {
   "cell_type": "markdown",
   "metadata": {},
   "source": [
    "The number of false positives for the decision tree model is 781. Since we want to minimize our type 1 error, we have to bring down the number false positive cases. "
   ]
  },
  {
   "cell_type": "code",
   "execution_count": 83,
   "metadata": {},
   "outputs": [
    {
     "name": "stdout",
     "output_type": "stream",
     "text": [
      "              precision    recall  f1-score   support\n",
      "\n",
      "           0       0.93      0.97      0.95     29229\n",
      "           1       0.65      0.38      0.48      3721\n",
      "\n",
      "    accuracy                           0.91     32950\n",
      "   macro avg       0.79      0.68      0.71     32950\n",
      "weighted avg       0.89      0.91      0.90     32950\n",
      "\n"
     ]
    }
   ],
   "source": [
    "print(classification_report(y_train, y_pred_DT))"
   ]
  },
  {
   "cell_type": "code",
   "execution_count": 84,
   "metadata": {},
   "outputs": [
    {
     "data": {
      "text/plain": [
       "0.6782551380567479"
      ]
     },
     "execution_count": 84,
     "metadata": {},
     "output_type": "execute_result"
    }
   ],
   "source": [
    "roc_auc_score(y_train, y_pred_DT)"
   ]
  },
  {
   "cell_type": "code",
   "execution_count": 85,
   "metadata": {},
   "outputs": [
    {
     "data": {
      "text/plain": [
       "array([2.        , 1.        , 0.92857143, 0.92      , 0.9       ,\n",
       "       0.88888889, 0.88235294, 0.875     , 0.85714286, 0.82832618,\n",
       "       0.82352941, 0.81818182, 0.8125    , 0.8       , 0.77272727,\n",
       "       0.75      , 0.73684211, 0.72727273, 0.70967742, 0.7027027 ,\n",
       "       0.7       , 0.69230769, 0.68181818, 0.65625   , 0.65      ,\n",
       "       0.58823529, 0.58333333, 0.57894737, 0.57142857, 0.54545455,\n",
       "       0.53521127, 0.53333333, 0.5327291 , 0.52173913, 0.52      ,\n",
       "       0.50980392, 0.5       , 0.49107143, 0.48963731, 0.48484848,\n",
       "       0.46666667, 0.45454545, 0.4375    , 0.43396226, 0.43137255,\n",
       "       0.42708333, 0.41791045, 0.41666667, 0.4       , 0.39473684,\n",
       "       0.39325843, 0.39285714, 0.39189189, 0.38461538, 0.38235294,\n",
       "       0.375     , 0.36363636, 0.35185185, 0.325     , 0.31818182,\n",
       "       0.3125    , 0.31034483, 0.3030303 , 0.28571429, 0.27272727,\n",
       "       0.27100271, 0.26666667, 0.22200772, 0.21428571, 0.20849934,\n",
       "       0.20472441, 0.20218579, 0.2       , 0.19622642, 0.19117647,\n",
       "       0.19047619, 0.18181818, 0.17647059, 0.17117117, 0.16666667,\n",
       "       0.15789474, 0.14285714, 0.13636364, 0.13043478, 0.12878788,\n",
       "       0.12861736, 0.125     , 0.10588235, 0.104     , 0.1       ,\n",
       "       0.09195402, 0.09090909, 0.08974359, 0.08333333, 0.0815534 ,\n",
       "       0.08      , 0.07407407, 0.07192575, 0.07142857, 0.06666667,\n",
       "       0.06334842, 0.05965909, 0.05573248, 0.05555556, 0.05479452,\n",
       "       0.05417607, 0.05063291, 0.05      , 0.04891304, 0.04761905,\n",
       "       0.04558405, 0.04545455, 0.04491018, 0.04166667, 0.04117647,\n",
       "       0.04054054, 0.03448276, 0.03225806, 0.02671756, 0.02530824,\n",
       "       0.02325581, 0.02272727, 0.01893939, 0.01846154, 0.01818182,\n",
       "       0.015625  , 0.01516919, 0.01510067, 0.01428571, 0.01181102,\n",
       "       0.01136364, 0.01075269, 0.01059803, 0.00946372, 0.00943396,\n",
       "       0.00893655, 0.00889802, 0.00877193, 0.00628931, 0.00626305,\n",
       "       0.00451977, 0.00443038, 0.        ])"
      ]
     },
     "execution_count": 85,
     "metadata": {},
     "output_type": "execute_result"
    }
   ],
   "source": [
    "y_train_prob = grid_DT.predict_proba(X_train)\n",
    "fpr, tpr, threshold = roc_curve(y_train, y_train_prob[:,1])\n",
    "threshold"
   ]
  },
  {
   "cell_type": "code",
   "execution_count": 86,
   "metadata": {},
   "outputs": [
    {
     "data": {
      "text/plain": [
       "[<matplotlib.lines.Line2D at 0x1a20ef2be0>]"
      ]
     },
     "execution_count": 86,
     "metadata": {},
     "output_type": "execute_result"
    },
    {
     "data": {
      "text/plain": [
       "Text(0.5, 0, 'FPR')"
      ]
     },
     "execution_count": 86,
     "metadata": {},
     "output_type": "execute_result"
    },
    {
     "data": {
      "text/plain": [
       "Text(0, 0.5, 'TPR')"
      ]
     },
     "execution_count": 86,
     "metadata": {},
     "output_type": "execute_result"
    },
    {
     "data": {
      "image/png": "[encoded data removed]",
      "text/plain": [
       "<Figure size 432x288 with 1 Axes>"
      ]
     },
     "metadata": {
      "needs_background": "light"
     },
     "output_type": "display_data"
    }
   ],
   "source": [
    "%matplotlib inline\n",
    "\n",
    "plt.plot(fpr, tpr)\n",
    "plt.xlabel('FPR')\n",
    "plt.ylabel('TPR')"
   ]
  },
  {
   "cell_type": "markdown",
   "metadata": {},
   "source": [
    "Data Postprocessing "
   ]
  },
  {
   "cell_type": "code",
   "execution_count": 87,
   "metadata": {},
   "outputs": [
    {
     "data": {
      "text/plain": [
       "array([0.18181818, 0.04491018, 0.65625   , ..., 0.5327291 , 0.02671756,\n",
       "       0.        ])"
      ]
     },
     "execution_count": 87,
     "metadata": {},
     "output_type": "execute_result"
    },
    {
     "data": {
      "text/plain": [
       "array([0, 0, 0, ..., 0, 0, 0])"
      ]
     },
     "execution_count": 87,
     "metadata": {},
     "output_type": "execute_result"
    },
    {
     "data": {
      "text/plain": [
       "array([[29160,    69],\n",
       "       [ 3263,   458]])"
      ]
     },
     "execution_count": 87,
     "metadata": {},
     "output_type": "execute_result"
    },
    {
     "name": "stdout",
     "output_type": "stream",
     "text": [
      "              precision    recall  f1-score   support\n",
      "\n",
      "           0       0.90      1.00      0.95     29229\n",
      "           1       0.87      0.12      0.22      3721\n",
      "\n",
      "    accuracy                           0.90     32950\n",
      "   macro avg       0.88      0.56      0.58     32950\n",
      "weighted avg       0.90      0.90      0.86     32950\n",
      "\n"
     ]
    }
   ],
   "source": [
    "y_train_prob[:,1]\n",
    "y_pred = np.where(y_train_prob[:,1] > 0.8, 1, 0)\n",
    "y_pred\n",
    "confusion_matrix(y_train, y_pred)\n",
    "print(classification_report(y_train, y_pred))"
   ]
  },
  {
   "cell_type": "markdown",
   "metadata": {},
   "source": [
    "By increasing the predict_proba threshold from the default value of 50% to 80%, we have significantly increased our precision and decreased our false positive cases. The model only labels an instance as '1' when the predicted probability of it being '1' is more than 80%. Increasing the precision, for label '1', from 65% to 87% did not significantly change the overall model accuracy of approximately 90%. "
   ]
  },
  {
   "cell_type": "markdown",
   "metadata": {},
   "source": [
    "## Summary of all Classification Models"
   ]
  },
  {
   "cell_type": "markdown",
   "metadata": {},
   "source": [
    "#### Knn Classifier"
   ]
  },
  {
   "cell_type": "code",
   "execution_count": 88,
   "metadata": {},
   "outputs": [
    {
     "name": "stdout",
     "output_type": "stream",
     "text": [
      "knn training accuracy: 0.902731411229135\n",
      "knn testing accuracy: 0.8997329448895363\n"
     ]
    }
   ],
   "source": [
    "print('knn training accuracy: ' + str(grid_knn.score(X_train, y_train)))\n",
    "print('knn testing accuracy: ' + str(grid_knn.score(X_test, y_test)))"
   ]
  },
  {
   "cell_type": "markdown",
   "metadata": {},
   "source": [
    "Precision for label 1 in knn classifier: 89%"
   ]
  },
  {
   "cell_type": "markdown",
   "metadata": {},
   "source": [
    "#### Logistic Regression Classifier"
   ]
  },
  {
   "cell_type": "code",
   "execution_count": null,
   "metadata": {},
   "outputs": [],
   "source": [
    "print('Logistic regression training accuracy: ' + str(grid_logistic.score(X_train, y_train)))\n",
    "print('Logistic regression testing accuracy: ' + str(grid_logistic.score(X_test, y_test)))"
   ]
  },
  {
   "cell_type": "markdown",
   "metadata": {},
   "source": [
    "Precision for label 1 in Logistic regression classifier: 73%"
   ]
  },
  {
   "cell_type": "markdown",
   "metadata": {},
   "source": [
    "#### Linear Support Vector Classifier"
   ]
  },
  {
   "cell_type": "code",
   "execution_count": 90,
   "metadata": {},
   "outputs": [
    {
     "name": "stdout",
     "output_type": "stream",
     "text": [
      "Linear SVC training accuracy: 0.9070713201820941\n",
      "Linear SVC testing accuracy: 0.9102937606215101\n"
     ]
    }
   ],
   "source": [
    "print('Linear SVC training accuracy: ' + str(grid_LinearSVC.score(X_train, y_train)))\n",
    "print('Linear SVC testing accuracy: ' + str(grid_LinearSVC.score(X_test, y_test)))"
   ]
  },
  {
   "cell_type": "markdown",
   "metadata": {},
   "source": [
    "Precision for label 1 in Linear Support Vector Classifier: 80%"
   ]
  },
  {
   "cell_type": "markdown",
   "metadata": {},
   "source": [
    "#### Kernel SVC"
   ]
  },
  {
   "cell_type": "code",
   "execution_count": 91,
   "metadata": {},
   "outputs": [
    {
     "name": "stdout",
     "output_type": "stream",
     "text": [
      "Kernel SVC training accuracy: 0.9404552352048559\n",
      "Kernel SVC testing accuracy: 0.9107793153678078\n"
     ]
    }
   ],
   "source": [
    "print('Kernel SVC training accuracy: ' + str(grid_SVC.score(X_train, y_train)))\n",
    "print('Kernel SVC testing accuracy: ' + str(grid_SVC.score(X_test, y_test)))"
   ]
  },
  {
   "cell_type": "markdown",
   "metadata": {},
   "source": [
    "Precision for label 1 in Kernel SVC: 93%"
   ]
  },
  {
   "cell_type": "markdown",
   "metadata": {},
   "source": [
    "#### Decision Tree Classifier"
   ]
  },
  {
   "cell_type": "code",
   "execution_count": 92,
   "metadata": {},
   "outputs": [
    {
     "name": "stdout",
     "output_type": "stream",
     "text": [
      "Decision Tree classifier training accuracy: 0.9066464339908953\n",
      "Decision Tree classifier testing accuracy: 0.9044671036659383\n"
     ]
    }
   ],
   "source": [
    "print('Decision Tree classifier training accuracy: ' + str(grid_DT.score(X_train, y_train)))\n",
    "print('Decision Tree classifier testing accuracy: ' + str(grid_DT.score(X_test, y_test)))"
   ]
  },
  {
   "cell_type": "markdown",
   "metadata": {},
   "source": [
    "Precision for label 1 in Decision Tree classifier: 87%"
   ]
  },
  {
   "cell_type": "markdown",
   "metadata": {},
   "source": [
    "For the training and testing dataset, Kernel SVC is the model which gives us the best results. The optimal hyperparameters for the Kernel SVC are: \n",
    "\n",
    "    1. C: 10\n",
    "    2. gamma: 0.1\n",
    "    3. kernel: rbf"
   ]
  }
 ],
 "metadata": {
  "kernelspec": {
   "display_name": "Python 3",
   "language": "python",
   "name": "python3"
  },
  "language_info": {
   "codemirror_mode": {
    "name": "ipython",
    "version": 3
   },
   "file_extension": ".py",
   "mimetype": "text/x-python",
   "name": "python",
   "nbconvert_exporter": "python",
   "pygments_lexer": "ipython3",
   "version": "3.7.3"
  }
 },
 "nbformat": 4,
 "nbformat_minor": 2
}
